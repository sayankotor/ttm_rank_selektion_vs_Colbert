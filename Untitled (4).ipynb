{
 "cells": [
  {
   "cell_type": "code",
   "execution_count": 1,
   "metadata": {},
   "outputs": [
    {
     "name": "stderr",
     "output_type": "stream",
     "text": [
      "2023-01-24 13:05:23.556766: I tensorflow/stream_executor/platform/default/dso_loader.cc:49] Successfully opened dynamic library libcudart.so.11.0\n"
     ]
    },
    {
     "ename": "NameError",
     "evalue": "name 'query_maxlen' is not defined",
     "output_type": "error",
     "traceback": [
      "\u001b[0;31m---------------------------------------------------------------------------\u001b[0m",
      "\u001b[0;31mNameError\u001b[0m                                 Traceback (most recent call last)",
      "\u001b[0;32m/tmp/ipykernel_23583/2007300018.py\u001b[0m in \u001b[0;36m<module>\u001b[0;34m\u001b[0m\n\u001b[1;32m     18\u001b[0m \u001b[0;32mfrom\u001b[0m \u001b[0mcolbert\u001b[0m\u001b[0;34m.\u001b[0m\u001b[0mtraining\u001b[0m\u001b[0;34m.\u001b[0m\u001b[0mutils\u001b[0m \u001b[0;32mimport\u001b[0m \u001b[0mprint_progress\u001b[0m\u001b[0;34m,\u001b[0m \u001b[0mmanage_checkpoints\u001b[0m\u001b[0;34m\u001b[0m\u001b[0;34m\u001b[0m\u001b[0m\n\u001b[1;32m     19\u001b[0m \u001b[0;34m\u001b[0m\u001b[0m\n\u001b[0;32m---> 20\u001b[0;31m \u001b[0mquery_maxlen\u001b[0m \u001b[0;34m<=\u001b[0m \u001b[0;36m512\u001b[0m\u001b[0;34m\u001b[0m\u001b[0;34m\u001b[0m\u001b[0m\n\u001b[0m\u001b[1;32m     21\u001b[0m \u001b[0mdoc_maxlen\u001b[0m \u001b[0;34m<=\u001b[0m \u001b[0;36m512\u001b[0m\u001b[0;34m\u001b[0m\u001b[0;34m\u001b[0m\u001b[0m\n\u001b[1;32m     22\u001b[0m \u001b[0mdim\u001b[0m \u001b[0;34m=\u001b[0m \u001b[0;36m128\u001b[0m\u001b[0;34m\u001b[0m\u001b[0;34m\u001b[0m\u001b[0m\n",
      "\u001b[0;31mNameError\u001b[0m: name 'query_maxlen' is not defined"
     ]
    }
   ],
   "source": [
    "import os\n",
    "import random\n",
    "import time\n",
    "import torch\n",
    "import torch.nn as nn\n",
    "import numpy as np\n",
    "\n",
    "from transformers import AdamW\n",
    "from colbert.utils.runs import Run\n",
    "from colbert.utils.amp import MixedPrecisionManager\n",
    "\n",
    "from colbert.training.lazy_batcher import LazyBatcher\n",
    "from colbert.training.eager_batcher import EagerBatcher\n",
    "from colbert.parameters import DEVICE\n",
    "\n",
    "from colbert.modeling.colbert import ColBERT\n",
    "from colbert.utils.utils import print_message\n",
    "from colbert.training.utils import print_progress, manage_checkpoints\n",
    "\n",
    "query_maxlen <= 512\n",
    "doc_maxlen <= 512\n",
    "dim = 128\n",
    "similarity = 'cosine'\n",
    "\n",
    "colbert = ColBERT.from_pretrained('bert-base-uncased', query_maxlen=query_maxlen, doc_maxlen=doc_maxlen, dim=dim, similarity_metric=similarity, mask_punctuation=mask_punctuation)"
   ]
  },
  {
   "cell_type": "code",
   "execution_count": null,
   "metadata": {},
   "outputs": [],
   "source": [
    "from colbert.evaluation.loaders import load_colbert, load_topK, load_qrels\n",
    "from colbert.evaluation.loaders import load_queries, load_topK_pids, load_collection"
   ]
  },
  {
   "cell_type": "code",
   "execution_count": 3,
   "metadata": {},
   "outputs": [],
   "source": [
    "from colbert.utils.utils import print_message, load_checkpoint"
   ]
  },
  {
   "cell_type": "code",
   "execution_count": null,
   "metadata": {},
   "outputs": [],
   "source": [
    "queries, topK_docs, topK_pids = load_topK_pids('/notebook/ColBERT/collections/MSMARCO/top1000.dev', '/notebook/ColBERT/collections/MSMARCO/qrels.dev.small.tsv')"
   ]
  },
  {
   "cell_type": "code",
   "execution_count": 4,
   "metadata": {},
   "outputs": [
    {
     "data": {
      "text/plain": [
       "defaultdict(list, {188714: [1000052]})"
      ]
     },
     "execution_count": 4,
     "metadata": {},
     "output_type": "execute_result"
    }
   ],
   "source": [
    "topK_pids"
   ]
  },
  {
   "cell_type": "code",
   "execution_count": 2,
   "metadata": {},
   "outputs": [
    {
     "name": "stdout",
     "output_type": "stream",
     "text": [
      "[Jan 24, 14:43:30] #> max(Ks) = 1000 , avg(Ks) = 955.44\n",
      "[Jan 24, 14:43:30] #> Loaded the top-k per query for 6980 unique queries.\n",
      "\n"
     ]
    }
   ],
   "source": [
    "from collections import defaultdict, OrderedDict\n",
    "from colbert.utils.utils import print_message, load_checkpoint\n",
    "\n",
    "topK_pids = defaultdict(list)\n",
    "topK_positives = defaultdict(list)\n",
    "\n",
    "with open('/notebook/ColBERT/collections/MSMARCO/top1000.dev') as f:\n",
    "    for line_idx, line in enumerate(f):\n",
    "        #print(line_idx, end=' ', flush=True)\n",
    "        #print (\"line.strip().split('\\t')\", line.strip().split('\\t'), end='\\n', flush=True)\n",
    "        if line_idx and line_idx % (1000*1000*10) == 0:\n",
    "            print(line_idx, end=' ', flush=True)\n",
    "            print (\"line.strip().split('\\t')\", line.strip().split('\\t'), end='\\n', flush=True)\n",
    "\n",
    "        qid, pid, *rest = line.strip().split('\\t')\n",
    "        qid, pid = int(qid), int(pid)   \n",
    "        topK_pids[qid].append(pid)\n",
    "        \n",
    "        assert len(rest) in [1, 2, 3], \"Oh no! This assertion failed!\"\n",
    "        try:\n",
    "            if len(rest) > 1:\n",
    "                *_, label = rest\n",
    "                #label = int(label)\n",
    "                #assert label in [0, 1]\n",
    "\n",
    "            if len(label) >= 1:\n",
    "                topK_positives[qid].append(pid)\n",
    "                \n",
    "        except:\n",
    "            print (\"line idx, line\", line_idx, line)\n",
    "            print (\"rest\", rest)\n",
    "            print (\"label\", label)\n",
    "            break\n",
    "\n",
    "        \n",
    "    assert all(len(topK_pids[qid]) == len(set(topK_pids[qid])) for qid in topK_pids), \"Oh no! This assertion failed1!\"\n",
    "    assert all(len(topK_positives[qid]) == len(set(topK_positives[qid])) for qid in topK_positives), \"Oh no! This assertion failed!\"\n",
    "\n",
    "    # Make them sets for fast lookups later\n",
    "    topK_positives = {qid: set(topK_positives[qid]) for qid in topK_positives}\n",
    "\n",
    "    Ks = [len(topK_pids[qid]) for qid in topK_pids]\n",
    "\n",
    "    print_message(\"#> max(Ks) =\", max(Ks), \", avg(Ks) =\", round(sum(Ks) / len(Ks), 2))\n",
    "    print_message(\"#> Loaded the top-k per query for\", len(topK_pids), \"unique queries.\\n\")"
   ]
  },
  {
   "cell_type": "code",
   "execution_count": 4,
   "metadata": {},
   "outputs": [
    {
     "name": "stderr",
     "output_type": "stream",
     "text": [
      "2023-01-24 14:47:36.427667: I tensorflow/stream_executor/platform/default/dso_loader.cc:49] Successfully opened dynamic library libcudart.so.11.0\n"
     ]
    }
   ],
   "source": [
    "from colbert.evaluation.loaders import load_colbert, load_topK, load_qrels"
   ]
  },
  {
   "cell_type": "code",
   "execution_count": 5,
   "metadata": {},
   "outputs": [
    {
     "name": "stdout",
     "output_type": "stream",
     "text": [
      "[Jan 24, 14:47:39] #> Loading qrels from /notebook/ColBERT/collections/MSMARCO/qrels.dev.small.tsv ...\n",
      "[Jan 24, 14:47:39] #> Loaded qrels for 6980 unique queries with 1.07 positives per query on average.\n",
      "\n"
     ]
    }
   ],
   "source": [
    "a = load_qrels('/notebook/ColBERT/collections/MSMARCO/qrels.dev.small.tsv')"
   ]
  },
  {
   "cell_type": "code",
   "execution_count": 7,
   "metadata": {},
   "outputs": [
    {
     "data": {
      "text/plain": [
       "6980"
      ]
     },
     "execution_count": 7,
     "metadata": {},
     "output_type": "execute_result"
    }
   ],
   "source": [
    "len(a)"
   ]
  },
  {
   "cell_type": "code",
   "execution_count": 4,
   "metadata": {},
   "outputs": [
    {
     "name": "stdout",
     "output_type": "stream",
     "text": [
      "j 0\n"
     ]
    }
   ],
   "source": [
    "for j in reversed(range(1)):\n",
    "    print (\"j\", j)"
   ]
  },
  {
   "cell_type": "code",
   "execution_count": 6,
   "metadata": {},
   "outputs": [
    {
     "data": {
      "text/plain": [
       "0"
      ]
     },
     "execution_count": 6,
     "metadata": {},
     "output_type": "execute_result"
    }
   ],
   "source": [
    "1//2"
   ]
  },
  {
   "cell_type": "code",
   "execution_count": 7,
   "metadata": {},
   "outputs": [
    {
     "data": {
      "text/plain": [
       "[5]"
      ]
     },
     "execution_count": 7,
     "metadata": {},
     "output_type": "execute_result"
    }
   ],
   "source": [
    "nums = [5]\n",
    "nums[0:1]"
   ]
  },
  {
   "cell_type": "code",
   "execution_count": 5,
   "metadata": {},
   "outputs": [],
   "source": [
    "def search(nums, target):\n",
    "    \"\"\"\n",
    "    :type nums: List[int]\n",
    "    :type target: int\n",
    "    :rtype: int\n",
    "    \"\"\"\n",
    "    lit = 0\n",
    "    rit = len(nums)\n",
    "    l = len(nums[lit:rit])\n",
    "    while(l > 0):\n",
    "        med = l//2\n",
    "        effect_med = med + lit\n",
    "        print (\"med\", med)\n",
    "        print (\"effect_med\", effect_med)\n",
    "        print (\"nums\", nums)\n",
    "        print (\"lit, rit\", lit,rit)\n",
    "        print (\"cut\", nums[lit:rit])\n",
    "        if (nums[effect_med] == target):\n",
    "            return effect_med\n",
    "        elif (nums[effect_med] > target):\n",
    "            #nums = nums[lit:effect_med]\n",
    "            rit = effect_med\n",
    "            print (\"in first part\", nums)\n",
    "        elif (nums[med] < target):\n",
    "            #nums = nums[effect_med+1:len(nums)]\n",
    "            lit += med+1\n",
    "            print (\"in secon part\", nums)\n",
    "        l = len(nums[lit:rit])\n",
    "\n",
    "    return -1"
   ]
  },
  {
   "cell_type": "code",
   "execution_count": 6,
   "metadata": {},
   "outputs": [
    {
     "name": "stdout",
     "output_type": "stream",
     "text": [
      "med 9\n",
      "effect_med 9\n",
      "nums [-9, -8, -7, -6, -5, -4, -3, -2, -1, 0, 1, 2, 3, 4, 5, 6, 7, 8, 9]\n",
      "lit, rit 0 19\n",
      "cut [-9, -8, -7, -6, -5, -4, -3, -2, -1, 0, 1, 2, 3, 4, 5, 6, 7, 8, 9]\n",
      "in secon part [-9, -8, -7, -6, -5, -4, -3, -2, -1, 0, 1, 2, 3, 4, 5, 6, 7, 8, 9]\n",
      "med 4\n",
      "effect_med 14\n",
      "nums [-9, -8, -7, -6, -5, -4, -3, -2, -1, 0, 1, 2, 3, 4, 5, 6, 7, 8, 9]\n",
      "lit, rit 10 19\n",
      "cut [1, 2, 3, 4, 5, 6, 7, 8, 9]\n",
      "in secon part [-9, -8, -7, -6, -5, -4, -3, -2, -1, 0, 1, 2, 3, 4, 5, 6, 7, 8, 9]\n",
      "med 2\n",
      "effect_med 17\n",
      "nums [-9, -8, -7, -6, -5, -4, -3, -2, -1, 0, 1, 2, 3, 4, 5, 6, 7, 8, 9]\n",
      "lit, rit 15 19\n",
      "cut [6, 7, 8, 9]\n",
      "in secon part [-9, -8, -7, -6, -5, -4, -3, -2, -1, 0, 1, 2, 3, 4, 5, 6, 7, 8, 9]\n",
      "med 0\n",
      "effect_med 18\n",
      "nums [-9, -8, -7, -6, -5, -4, -3, -2, -1, 0, 1, 2, 3, 4, 5, 6, 7, 8, 9]\n",
      "lit, rit 18 19\n",
      "cut [9]\n"
     ]
    },
    {
     "data": {
      "text/plain": [
       "18"
      ]
     },
     "execution_count": 6,
     "metadata": {},
     "output_type": "execute_result"
    }
   ],
   "source": [
    "nums = [-9, -8, -7, -6, -5, -4, -3 ,-2, -1, 0, 1, 2, 3, 4, 5, 6, 7, 8, 9]\n",
    "search(nums, 9)"
   ]
  },
  {
   "cell_type": "code",
   "execution_count": null,
   "metadata": {},
   "outputs": [],
   "source": []
  }
 ],
 "metadata": {
  "kernelspec": {
   "display_name": "Python 3 (ipykernel)",
   "language": "python",
   "name": "python3"
  },
  "language_info": {
   "codemirror_mode": {
    "name": "ipython",
    "version": 3
   },
   "file_extension": ".py",
   "mimetype": "text/x-python",
   "name": "python",
   "nbconvert_exporter": "python",
   "pygments_lexer": "ipython3",
   "version": "3.8.10"
  }
 },
 "nbformat": 4,
 "nbformat_minor": 4
}
