{
 "cells": [
  {
   "cell_type": "code",
   "execution_count": 1,
   "metadata": {},
   "outputs": [],
   "source": [
    "import os\n",
    "import random\n",
    "import time\n",
    "import torch\n",
    "import torch.nn as nn\n",
    "import numpy as np\n",
    "\n",
    "import tntorch as tn"
   ]
  },
  {
   "cell_type": "code",
   "execution_count": 9,
   "metadata": {},
   "outputs": [],
   "source": [
    "def tt_multiply_custom(tt: tn.Tensor, vector : torch.Tensor, shapes, in_dims, ranks):\n",
    "    \"\"\"\n",
    "    tensor: bs*768\n",
    "    in_dims = [32, 24]\n",
    "    \"\"\"\n",
    "    bs = vector.shape[0]\n",
    "    seq_len = vector.shape[1]\n",
    "    print (bs, seq_len)\n",
    "    result = vector.reshape(bs*seq_len, in_dims[0], -1)\n",
    "    core = tt.cores[0].reshape(in_dims[0], tt.cores[0].shape[2])\n",
    "    print (result.shape, core.shape)\n",
    "    result = torch.einsum('bid,ir->bdr', result, core)\n",
    "    print (result.shape)\n",
    "    for i in range(1, len(tt.cores)):\n",
    "        if (i < len(in_dims)):\n",
    "            result = result.reshape(-1, in_dims[i], tt.cores[i].shape[0])\n",
    "            core = tt.cores[i].reshape(tt.cores[i].shape[0], in_dims[i], -1, tt.cores[i].shape[2])\n",
    "            print (result.shape, core.shape)\n",
    "            result = torch.einsum('bdr,rdac->bac', result, core)\n",
    "            print (result.shape)\n",
    "        else:\n",
    "            result = result.reshape(bs, -1, tt.cores[i].shape[0])\n",
    "            core = tt.cores[i].reshape(tt.cores[i].shape[0], -1, tt.cores[i].shape[2])\n",
    "            print (result.shape, core.shape)\n",
    "            result = torch.einsum('bdr,rga->bdga', result, core)\n",
    "            print (result.shape)\n",
    "    return result.reshape(bs, seq_len, -1)\n",
    "            \n",
    "    #while (i < len(in_dims)):\n",
    "        "
   ]
  },
  {
   "cell_type": "code",
   "execution_count": 10,
   "metadata": {},
   "outputs": [
    {
     "name": "stdout",
     "output_type": "stream",
     "text": [
      "<class 'torch.Tensor'>\n",
      "torch.Size([1, 32, 32])\n",
      "<class 'torch.Tensor'>\n",
      "torch.Size([32, 48, 480])\n",
      "<class 'torch.Tensor'>\n",
      "torch.Size([480, 48, 32])\n",
      "<class 'torch.Tensor'>\n",
      "torch.Size([32, 32, 1])\n"
     ]
    }
   ],
   "source": [
    "for elem in tt.cores:\n",
    "    print (type(elem))\n",
    "    print (elem.shape)"
   ]
  },
  {
   "cell_type": "code",
   "execution_count": 11,
   "metadata": {},
   "outputs": [
    {
     "name": "stdout",
     "output_type": "stream",
     "text": [
      "True\n"
     ]
    }
   ],
   "source": [
    "v = torch.rand(256, 142, 768)\n",
    "m = torch.rand(768, 3072)\n",
    "m_new = m.reshape((32, 48, 48, 32))\n",
    "print (torch.allclose(m, m_new.reshape(768, 3072), atol=1e-05))\n",
    "tt = tn.Tensor(m_new, ranks_tt=[380, 480, 380])"
   ]
  },
  {
   "cell_type": "code",
   "execution_count": 14,
   "metadata": {},
   "outputs": [
    {
     "data": {
      "text/plain": [
       "torch.Size([256, 142, 3072])"
      ]
     },
     "execution_count": 14,
     "metadata": {},
     "output_type": "execute_result"
    }
   ],
   "source": [
    "(v @ m).shape"
   ]
  },
  {
   "cell_type": "code",
   "execution_count": 13,
   "metadata": {},
   "outputs": [
    {
     "name": "stdout",
     "output_type": "stream",
     "text": [
      "256 142\n",
      "torch.Size([36352, 32, 24]) torch.Size([32, 32])\n",
      "torch.Size([36352, 24, 32])\n",
      "torch.Size([36352, 24, 32]) torch.Size([32, 24, 2, 480])\n",
      "torch.Size([36352, 2, 480])\n",
      "torch.Size([256, 284, 480]) torch.Size([480, 48, 32])\n",
      "torch.Size([256, 284, 48, 32])\n",
      "torch.Size([256, 13632, 32]) torch.Size([32, 32, 1])\n",
      "torch.Size([256, 13632, 32, 1])\n"
     ]
    }
   ],
   "source": [
    "res = tt_multiply_custom(tt, v, (32, 48, 48, 32), [32, 24], [1, 3, 4, 5, 1])"
   ]
  },
  {
   "cell_type": "code",
   "execution_count": 15,
   "metadata": {},
   "outputs": [
    {
     "data": {
      "text/plain": [
       "tensor([185.2893, 189.9231, 192.0984, 187.3029, 187.7662])"
      ]
     },
     "execution_count": 15,
     "metadata": {},
     "output_type": "execute_result"
    }
   ],
   "source": [
    "res[:5, 2, 10]"
   ]
  },
  {
   "cell_type": "code",
   "execution_count": 8,
   "metadata": {},
   "outputs": [
    {
     "name": "stdout",
     "output_type": "stream",
     "text": [
      "torch.Size([768, 3072])\n",
      "torch.Size([256, 142, 3072])\n",
      "torch.Size([256, 142, 3072])\n",
      "tensor([190.8096, 190.1509, 193.0630, 190.5253, 207.3197])\n"
     ]
    }
   ],
   "source": [
    "a = tt.torch().reshape(768, 3072)\n",
    "print (a.shape)\n",
    "print ((v @ a).shape)\n",
    "print (res.shape)\n",
    "print ((v @ a)[:5, 2, 10])"
   ]
  },
  {
   "cell_type": "code",
   "execution_count": 9,
   "metadata": {},
   "outputs": [
    {
     "data": {
      "text/plain": [
       "tensor(1.6245e-07)"
      ]
     },
     "execution_count": 9,
     "metadata": {},
     "output_type": "execute_result"
    }
   ],
   "source": [
    "torch.norm((v @ a)- res)/torch.norm(res)"
   ]
  },
  {
   "cell_type": "code",
   "execution_count": 111,
   "metadata": {},
   "outputs": [
    {
     "name": "stdout",
     "output_type": "stream",
     "text": [
      "True\n"
     ]
    }
   ],
   "source": [
    "print (torch.allclose(res, (v @ a)))"
   ]
  },
  {
   "cell_type": "code",
   "execution_count": 30,
   "metadata": {},
   "outputs": [
    {
     "name": "stdout",
     "output_type": "stream",
     "text": [
      "True\n"
     ]
    }
   ],
   "source": [
    "v = torch.rand(256, 142, 768)\n",
    "m = torch.rand(3072, 768)\n",
    "m_new = m.reshape((32, 48, 48, 32))\n",
    "print (torch.allclose(m, m_new.reshape(3072, 768), atol=1e-05))\n",
    "tt = tn.Tensor(m_new, ranks_tt=[3, 4, 3])"
   ]
  },
  {
   "cell_type": "code",
   "execution_count": 31,
   "metadata": {},
   "outputs": [
    {
     "name": "stdout",
     "output_type": "stream",
     "text": [
      "<class 'torch.Tensor'>\n",
      "torch.Size([1, 32, 3])\n",
      "<class 'torch.Tensor'>\n",
      "torch.Size([3, 48, 4])\n",
      "<class 'torch.Tensor'>\n",
      "torch.Size([4, 48, 3])\n",
      "<class 'torch.Tensor'>\n",
      "torch.Size([3, 32, 1])\n"
     ]
    }
   ],
   "source": [
    "for elem in tt.cores:\n",
    "    print (type(elem))\n",
    "    print (elem.shape)"
   ]
  },
  {
   "cell_type": "code",
   "execution_count": 32,
   "metadata": {},
   "outputs": [
    {
     "name": "stdout",
     "output_type": "stream",
     "text": [
      "256 142\n",
      "torch.Size([36352, 32, 24]) torch.Size([32, 3])\n",
      "torch.Size([36352, 24, 3])\n",
      "torch.Size([18176, 48, 3]) torch.Size([3, 48, 1, 4])\n",
      "torch.Size([18176, 1, 4])\n",
      "torch.Size([9088, 2, 4]) torch.Size([4, 2, 24, 3])\n",
      "torch.Size([9088, 24, 3])\n",
      "torch.Size([256, 852, 3]) torch.Size([3, 32, 1])\n",
      "torch.Size([256, 852, 32, 1])\n"
     ]
    }
   ],
   "source": [
    "res = tt_multiply_custom(tt, v, (32, 48, 48, 32), [32, 48, 2], [1, 3, 4, 3, 1])"
   ]
  },
  {
   "cell_type": "code",
   "execution_count": 115,
   "metadata": {},
   "outputs": [
    {
     "name": "stdout",
     "output_type": "stream",
     "text": [
      "torch.Size([3072, 768])\n",
      "tensor([780.9492, 773.5886, 772.0028, 771.8756, 772.8912])\n"
     ]
    }
   ],
   "source": [
    "a = tt.torch().reshape(3072, 768)\n",
    "print (a.shape)\n",
    "print ((v @ a)[:5, 10])"
   ]
  },
  {
   "cell_type": "code",
   "execution_count": 116,
   "metadata": {},
   "outputs": [
    {
     "data": {
      "text/plain": [
       "tensor([780.9583, 773.3998, 771.8484, 771.7330, 772.8489])"
      ]
     },
     "execution_count": 116,
     "metadata": {},
     "output_type": "execute_result"
    }
   ],
   "source": [
    "res[:5, 10]"
   ]
  },
  {
   "cell_type": "code",
   "execution_count": 119,
   "metadata": {},
   "outputs": [
    {
     "name": "stdout",
     "output_type": "stream",
     "text": [
      "False\n"
     ]
    }
   ],
   "source": [
    "print (torch.allclose(res, (v @ a)))"
   ]
  },
  {
   "cell_type": "code",
   "execution_count": 120,
   "metadata": {},
   "outputs": [
    {
     "data": {
      "text/plain": [
       "tensor(0.0002)"
      ]
     },
     "execution_count": 120,
     "metadata": {},
     "output_type": "execute_result"
    }
   ],
   "source": [
    "torch.norm((v @ a)- res)/torch.norm(res)"
   ]
  },
  {
   "cell_type": "code",
   "execution_count": null,
   "metadata": {},
   "outputs": [],
   "source": [
    "torch.allclose(m, m_new.reshape(3072, 768), atol=1e-05)"
   ]
  },
  {
   "cell_type": "markdown",
   "metadata": {},
   "source": [
    "## regular tt"
   ]
  },
  {
   "cell_type": "code",
   "execution_count": 121,
   "metadata": {},
   "outputs": [
    {
     "name": "stdout",
     "output_type": "stream",
     "text": [
      "True\n"
     ]
    }
   ],
   "source": [
    "v = torch.rand(30, 768)\n",
    "m = torch.rand(768, 3072)\n",
    "m_new = m.reshape((32, 24, 64, 48))\n",
    "print (torch.allclose(m, m_new.reshape(768, 3072), atol=1e-05))\n",
    "tt = tn.Tensor(m_new, ranks_tt=[3, 4, 5])"
   ]
  },
  {
   "cell_type": "code",
   "execution_count": 122,
   "metadata": {},
   "outputs": [
    {
     "name": "stdout",
     "output_type": "stream",
     "text": [
      "30\n",
      "torch.Size([30, 32, 24]) torch.Size([32, 3])\n",
      "torch.Size([30, 24, 3])\n",
      "torch.Size([30, 24, 3]) torch.Size([3, 24, 1, 4])\n",
      "torch.Size([30, 1, 4])\n",
      "torch.Size([30, 1, 4]) torch.Size([4, 64, 5])\n",
      "torch.Size([30, 1, 64, 5])\n",
      "torch.Size([30, 64, 5]) torch.Size([5, 48, 1])\n",
      "torch.Size([30, 64, 48, 1])\n"
     ]
    }
   ],
   "source": [
    "res = tt_multiply_custom(tt, v, (32, 24, 64, 48), [32, 24], [1, 3, 4, 5, 1])"
   ]
  },
  {
   "cell_type": "code",
   "execution_count": 124,
   "metadata": {},
   "outputs": [
    {
     "name": "stdout",
     "output_type": "stream",
     "text": [
      "torch.Size([768, 3072])\n",
      "tensor([187.1352, 195.8420, 189.3099, 190.3286, 191.1834])\n"
     ]
    }
   ],
   "source": [
    "a = tt.torch().reshape(768, 3072)\n",
    "print (a.shape)\n",
    "print ((v @ a)[:5, 10])"
   ]
  },
  {
   "cell_type": "code",
   "execution_count": 123,
   "metadata": {},
   "outputs": [
    {
     "data": {
      "text/plain": [
       "tensor([187.1352, 195.8420, 189.3099, 190.3287, 191.1834])"
      ]
     },
     "execution_count": 123,
     "metadata": {},
     "output_type": "execute_result"
    }
   ],
   "source": [
    "res[:5, 10]"
   ]
  },
  {
   "cell_type": "code",
   "execution_count": 125,
   "metadata": {},
   "outputs": [
    {
     "data": {
      "text/plain": [
       "True"
      ]
     },
     "execution_count": 125,
     "metadata": {},
     "output_type": "execute_result"
    }
   ],
   "source": [
    "torch.allclose((v @ a), res)"
   ]
  },
  {
   "cell_type": "markdown",
   "metadata": {},
   "source": [
    "**singular values**"
   ]
  },
  {
   "cell_type": "code",
   "execution_count": 14,
   "metadata": {},
   "outputs": [
    {
     "data": {
      "image/png": "[encoded data removed]",
      "text/plain": [
       "<Figure size 432x288 with 1 Axes>"
      ]
     },
     "metadata": {
      "needs_background": "light"
     },
     "output_type": "display_data"
    }
   ],
   "source": [
    "plt.plot(s)\n",
    "plt.show()"
   ]
  },
  {
   "cell_type": "code",
   "execution_count": 6,
   "metadata": {},
   "outputs": [
    {
     "data": {
      "text/plain": [
       "{6: (0, 2, 4, 1, 3, 5),\n",
       " 8: (0, 2, 4, 6, 1, 3, 5, 7),\n",
       " 10: (0, 1, 2, 3, 4, 5, 6, 7, 8, 9)}"
      ]
     },
     "execution_count": 6,
     "metadata": {},
     "output_type": "execute_result"
    }
   ],
   "source": [
    "{6:(0, 2, 4, 1, 3, 5), 8:(0, 2, 4, 6, 1, 3, 5, 7), 10:(0, 1, 2, 3, 4, 5, 6, 7, 8, 9)}"
   ]
  },
  {
   "cell_type": "code",
   "execution_count": 7,
   "metadata": {},
   "outputs": [
    {
     "ename": "NameError",
     "evalue": "name 'input_' is not defined",
     "output_type": "error",
     "traceback": [
      "\u001b[0;31m\u001b[0m",
      "\u001b[0;31mNameError\u001b[0mTraceback (most recent call last)",
      "\u001b[0;32m<ipython-input-7-5647360fad83>\u001b[0m in \u001b[0;36m<module>\u001b[0;34m\u001b[0m\n\u001b[0;32m----> 1\u001b[0;31m \u001b[0ma\u001b[0m \u001b[0;34m=\u001b[0m \u001b[0mcolbert\u001b[0m\u001b[0;34m.\u001b[0m\u001b[0mbert\u001b[0m\u001b[0;34m.\u001b[0m\u001b[0mencoder\u001b[0m\u001b[0;34m.\u001b[0m\u001b[0mlayer\u001b[0m\u001b[0;34m[\u001b[0m\u001b[0;36m4\u001b[0m\u001b[0;34m]\u001b[0m\u001b[0;34m.\u001b[0m\u001b[0mintermediate\u001b[0m\u001b[0;34m.\u001b[0m\u001b[0mdense\u001b[0m\u001b[0;34m(\u001b[0m\u001b[0minput_\u001b[0m\u001b[0;34m)\u001b[0m\u001b[0;34m\u001b[0m\u001b[0;34m\u001b[0m\u001b[0m\n\u001b[0m",
      "\u001b[0;31mNameError\u001b[0m: name 'input_' is not defined"
     ]
    }
   ],
   "source": [
    "a = colbert.bert.encoder.layer[4].intermediate.dense(input_)"
   ]
  },
  {
   "cell_type": "code",
   "execution_count": 8,
   "metadata": {},
   "outputs": [
    {
     "ename": "NameError",
     "evalue": "name 'input_' is not defined",
     "output_type": "error",
     "traceback": [
      "\u001b[0;31m\u001b[0m",
      "\u001b[0;31mNameError\u001b[0mTraceback (most recent call last)",
      "\u001b[0;32m<ipython-input-8-22e123cdffcd>\u001b[0m in \u001b[0;36m<module>\u001b[0;34m\u001b[0m\n\u001b[0;32m----> 1\u001b[0;31m \u001b[0mb\u001b[0m \u001b[0;34m=\u001b[0m \u001b[0mfc_w_new\u001b[0m\u001b[0;34m(\u001b[0m\u001b[0minput_\u001b[0m\u001b[0;34m)\u001b[0m\u001b[0;34m\u001b[0m\u001b[0;34m\u001b[0m\u001b[0m\n\u001b[0m",
      "\u001b[0;31mNameError\u001b[0m: name 'input_' is not defined"
     ]
    }
   ],
   "source": [
    "b = fc_w_new(input_)"
   ]
  },
  {
   "cell_type": "code",
   "execution_count": null,
   "metadata": {},
   "outputs": [],
   "source": [
    "from tensorly.tt_matrix import TTMatrix\n",
    "\n",
    "perms = {6:(0, 2, 4, 1, 3, 5), 8:(0, 2, 4, 6, 1, 3, 5, 7), 10:(0, 1, 2, 3, 4, 5, 6, 7, 8, 9)}\n",
    "\n",
    "for rank in [ 20, 30, 40, 50]:\n",
    "    m = colbert.bert.encoder.layer[4].intermediate.dense\n",
    "    input_ = torch.randn(batch_size, in_)\n",
    "    m_ttm = FactorizationTTMLinear(in_, out_, rank=rank, max_core_dim_product =rank)\n",
    "    m_ttm.fill_with_pretrained_matrix(fc_w)\n",
    "    restored_weight = TTMatrix([elem.data for elem in m_ttm.ttm.tt.cores]).to_tensor()\n",
    "    print (restored_weight.shape)\n",
    "    restored_weight = restored_weight.permute(perms[(len(restored_weight.shape))])\n",
    "    print (restored_weight.shape)\n",
    "    print (torch.norm(fc_w_new.weight - restored_weight.reshape(fc_w_new.weight.shape))/torch.norm(fc_w_new.weight))\n",
    "    print (restored_weight.shape)\n",
    "    c = m_ttm(input_)\n",
    "    print (torch.norm(a-c)/torch.norm(a))\n",
    "    print (\"\\n\\n\\n\")"
   ]
  },
  {
   "cell_type": "code",
   "execution_count": 46,
   "metadata": {},
   "outputs": [
    {
     "data": {
      "text/plain": [
       "tensor(771.9188, grad_fn=<CopyBackwards>)"
      ]
     },
     "execution_count": 46,
     "metadata": {},
     "output_type": "execute_result"
    }
   ],
   "source": [
    "torch.norm(a-c)"
   ]
  },
  {
   "cell_type": "code",
   "execution_count": 47,
   "metadata": {},
   "outputs": [
    {
     "data": {
      "text/plain": [
       "tensor(0., grad_fn=<CopyBackwards>)"
      ]
     },
     "execution_count": 47,
     "metadata": {},
     "output_type": "execute_result"
    }
   ],
   "source": [
    "torch.norm(a-b)"
   ]
  },
  {
   "cell_type": "code",
   "execution_count": 4,
   "metadata": {},
   "outputs": [
    {
     "ename": "NameError",
     "evalue": "name 'tensor_train_matrix' is not defined",
     "output_type": "error",
     "traceback": [
      "\u001b[0;31m\u001b[0m",
      "\u001b[0;31mNameError\u001b[0mTraceback (most recent call last)",
      "\u001b[0;32m<ipython-input-4-993f0028478e>\u001b[0m in \u001b[0;36m<module>\u001b[0;34m\u001b[0m\n\u001b[0;32m----> 1\u001b[0;31m \u001b[0mfactors\u001b[0m \u001b[0;34m=\u001b[0m \u001b[0mtensor_train_matrix\u001b[0m\u001b[0;34m(\u001b[0m\u001b[0mB\u001b[0m\u001b[0;34m,\u001b[0m \u001b[0mrank\u001b[0m \u001b[0;34m=\u001b[0m \u001b[0;34m[\u001b[0m\u001b[0;36m1\u001b[0m\u001b[0;34m,\u001b[0m \u001b[0;36m60\u001b[0m\u001b[0;34m,\u001b[0m \u001b[0;36m90\u001b[0m\u001b[0;34m,\u001b[0m \u001b[0;36m1\u001b[0m\u001b[0;34m]\u001b[0m\u001b[0;34m)\u001b[0m\u001b[0;34m\u001b[0m\u001b[0;34m\u001b[0m\u001b[0m\n\u001b[0m",
      "\u001b[0;31mNameError\u001b[0m: name 'tensor_train_matrix' is not defined"
     ]
    }
   ],
   "source": [
    "factors = tensor_train_matrix(B, rank = [1, 60, 90, 1])"
   ]
  },
  {
   "cell_type": "code",
   "execution_count": 20,
   "metadata": {},
   "outputs": [
    {
     "name": "stdout",
     "output_type": "stream",
     "text": [
      "torch.Size([1, 8, 16, 60])\n",
      "torch.Size([60, 12, 12, 90])\n",
      "torch.Size([90, 8, 16, 1])\n"
     ]
    }
   ],
   "source": [
    "for elem in factors.factors:\n",
    "    print (elem.shape)"
   ]
  },
  {
   "cell_type": "code",
   "execution_count": 454,
   "metadata": {},
   "outputs": [
    {
     "data": {
      "text/plain": [
       "torch.Size([8, 16, 12, 8, 12, 16])"
      ]
     },
     "execution_count": 454,
     "metadata": {},
     "output_type": "execute_result"
    }
   ],
   "source": [
    "new_B = factors.to_tensor()\n",
    "new_B.shape"
   ]
  },
  {
   "cell_type": "code",
   "execution_count": 455,
   "metadata": {},
   "outputs": [
    {
     "data": {
      "text/plain": [
       "torch.Size([8, 16, 12, 8, 12, 16])"
      ]
     },
     "execution_count": 455,
     "metadata": {},
     "output_type": "execute_result"
    }
   ],
   "source": [
    "B.shape"
   ]
  },
  {
   "cell_type": "code",
   "execution_count": 456,
   "metadata": {},
   "outputs": [
    {
     "data": {
      "text/plain": [
       "0.70110387"
      ]
     },
     "execution_count": 456,
     "metadata": {},
     "output_type": "execute_result"
    }
   ],
   "source": [
    "np.linalg.norm(new_B - B)/np.linalg.norm(B)"
   ]
  },
  {
   "cell_type": "code",
   "execution_count": 457,
   "metadata": {},
   "outputs": [
    {
     "name": "stdout",
     "output_type": "stream",
     "text": [
      "torch.Size([1, 8, 8, 60])\n",
      "torch.Size([60, 16, 12, 90])\n",
      "torch.Size([90, 12, 16, 1])\n"
     ]
    }
   ],
   "source": [
    "for elem in factors:\n",
    "    print (elem.shape)"
   ]
  },
  {
   "cell_type": "code",
   "execution_count": 16,
   "metadata": {},
   "outputs": [
    {
     "data": {
      "text/plain": [
       "(768, 3072)"
      ]
     },
     "execution_count": 16,
     "metadata": {},
     "output_type": "execute_result"
    }
   ],
   "source": [
    "fc_w.shape[1],fc_w.shape[0]"
   ]
  },
  {
   "cell_type": "code",
   "execution_count": 1,
   "metadata": {},
   "outputs": [],
   "source": [
    "from src.ttm_linear.ttm_linear.ttm_linear import FactorizationTTMLinear"
   ]
  },
  {
   "cell_type": "code",
   "execution_count": 14,
   "metadata": {},
   "outputs": [
    {
     "data": {
      "text/plain": [
       "torch.Size([32, 48, 48, 32])"
      ]
     },
     "execution_count": 14,
     "metadata": {},
     "output_type": "execute_result"
    }
   ],
   "source": [
    "B.shape"
   ]
  },
  {
   "cell_type": "code",
   "execution_count": null,
   "metadata": {},
   "outputs": [],
   "source": [
    "errs2 = []\n",
    "ranks2 = []\n",
    "c_rates2 = []\n",
    "\n",
    "import tensorly as tl\n",
    "from tensorly.decomposition import tensor_train\n",
    "tl.set_backend('pytorch')\n",
    "\n",
    "\n",
    "B = fc_w\n",
    "B = B.reshape((32, 48, 48, 32))\n",
    "\n",
    "\n",
    "\n",
    "\n",
    "err = 10.0\n",
    "rank1 = 5\n",
    "rank2 = 5\n",
    "step = 10\n",
    "compression_rate = 0.0\n",
    "while (compression_rate < 0.7):\n",
    "    factors = tensor_train(B, rank = [1, rank1, rank2, rank1, 1])\n",
    "    new_B = factors.to_tensor()\n",
    "    err = np.linalg.norm(new_B.detach().numpy() - B.detach().numpy())/np.linalg.norm(B.detach().numpy())\n",
    "    print ([elem.shape for elem in factors.factors])\n",
    "    compression_rate = (np.sum(list(np.prod(elem.shape) for elem in factors.factors))/(np.prod(fc_w.shape)))\n",
    "    print (\"err \", err, \"compression_rate \", compression_rate, \"rank \", rank1, rank2)\n",
    "    errs2.append(err)\n",
    "    ranks2.append(rank1)\n",
    "    c_rates2.append(compression_rate)\n",
    "    if (rank1 < rank2):\n",
    "        rank1 += step\n",
    "    else:\n",
    "        rank2 += step"
   ]
  },
  {
   "cell_type": "code",
   "execution_count": 53,
   "metadata": {},
   "outputs": [
    {
     "name": "stdout",
     "output_type": "stream",
     "text": [
      "[torch.Size([1, 128, 5]), torch.Size([5, 144, 5]), torch.Size([5, 128, 1])]\n",
      "err  0.9830911 compression_rate  0.002068413628472222 rank  5 5\n",
      "[torch.Size([1, 128, 5]), torch.Size([5, 144, 15]), torch.Size([15, 128, 1])]\n",
      "err  0.97657156 compression_rate  0.005662706163194444 rank  5 15\n",
      "[torch.Size([1, 128, 15]), torch.Size([15, 144, 15]), torch.Size([15, 128, 1])]\n",
      "err  0.9700918 compression_rate  0.015360514322916666 rank  15 15\n",
      "[torch.Size([1, 128, 15]), torch.Size([15, 144, 25]), torch.Size([25, 128, 1])]\n",
      "err  0.96239424 compression_rate  0.025058322482638888 rank  15 25\n",
      "[torch.Size([1, 128, 25]), torch.Size([25, 144, 25]), torch.Size([25, 128, 1])]\n",
      "err  0.9518059 compression_rate  0.04085964626736111 rank  25 25\n",
      "[torch.Size([1, 128, 25]), torch.Size([25, 144, 35]), torch.Size([35, 128, 1])]\n",
      "err  0.94061637 compression_rate  0.056660970052083336 rank  25 35\n",
      "[torch.Size([1, 128, 35]), torch.Size([35, 144, 35]), torch.Size([35, 128, 1])]\n",
      "err  0.92628205 compression_rate  0.07856580946180555 rank  35 35\n",
      "[torch.Size([1, 128, 35]), torch.Size([35, 144, 45]), torch.Size([45, 128, 1])]\n",
      "err  0.91174954 compression_rate  0.10047064887152778 rank  35 45\n",
      "[torch.Size([1, 128, 45]), torch.Size([45, 144, 45]), torch.Size([45, 128, 1])]\n",
      "err  0.89364284 compression_rate  0.12847900390625 rank  45 45\n",
      "[torch.Size([1, 128, 45]), torch.Size([45, 144, 55]), torch.Size([55, 128, 1])]\n",
      "err  0.8757278 compression_rate  0.1564873589409722 rank  45 55\n",
      "[torch.Size([1, 128, 55]), torch.Size([55, 144, 55]), torch.Size([55, 128, 1])]\n",
      "err  0.8540543 compression_rate  0.19059922960069445 rank  55 55\n",
      "[torch.Size([1, 128, 55]), torch.Size([55, 144, 65]), torch.Size([65, 128, 1])]\n",
      "err  0.832709 compression_rate  0.22471110026041666 rank  55 65\n",
      "[torch.Size([1, 128, 65]), torch.Size([65, 144, 65]), torch.Size([65, 128, 1])]\n",
      "err  0.8069761 compression_rate  0.2649264865451389 rank  65 65\n",
      "[torch.Size([1, 128, 65]), torch.Size([65, 144, 75]), torch.Size([75, 128, 1])]\n",
      "err  0.7816111 compression_rate  0.3051418728298611 rank  65 75\n",
      "[torch.Size([1, 128, 75]), torch.Size([75, 144, 75]), torch.Size([75, 128, 1])]\n",
      "err  0.7513101 compression_rate  0.3514607747395833 rank  75 75\n",
      "[torch.Size([1, 128, 75]), torch.Size([75, 144, 85]), torch.Size([85, 128, 1])]\n",
      "err  0.72151625 compression_rate  0.3977796766493056 rank  75 85\n",
      "[torch.Size([1, 128, 85]), torch.Size([85, 144, 85]), torch.Size([85, 128, 1])]\n",
      "err  0.6855759 compression_rate  0.4502020941840278 rank  85 85\n",
      "[torch.Size([1, 128, 85]), torch.Size([85, 144, 95]), torch.Size([95, 128, 1])]\n",
      "err  0.6503146 compression_rate  0.50262451171875 rank  85 95\n",
      "[torch.Size([1, 128, 95]), torch.Size([95, 144, 95]), torch.Size([95, 128, 1])]\n",
      "err  0.60742176 compression_rate  0.5611504448784722 rank  95 95\n",
      "[torch.Size([1, 128, 95]), torch.Size([95, 144, 105]), torch.Size([105, 128, 1])]\n",
      "err  0.5646886 compression_rate  0.6196763780381944 rank  95 105\n",
      "[torch.Size([1, 128, 105]), torch.Size([105, 144, 105]), torch.Size([105, 128, 1])]\n",
      "err  0.51182956 compression_rate  0.6843058268229166 rank  105 105\n",
      "[torch.Size([1, 128, 105]), torch.Size([105, 144, 115]), torch.Size([115, 128, 1])]\n",
      "err  0.45775306 compression_rate  0.7489352756076388 rank  105 115\n"
     ]
    }
   ],
   "source": [
    "errs3 = []\n",
    "ranks3 = []\n",
    "c_rates3 = []\n",
    "\n",
    "import tensorly as tl\n",
    "from tensorly.decomposition import tensor_train\n",
    "tl.set_backend('pytorch')\n",
    "\n",
    "\n",
    "B = fc_w\n",
    "B = B.reshape(128, 144, 128)\n",
    "\n",
    "\n",
    "\n",
    "\n",
    "err = 10.0\n",
    "rank1 = 5\n",
    "rank2 = 5\n",
    "step = 10\n",
    "compression_rate = 0.0\n",
    "while (compression_rate < 0.7):\n",
    "    factors = tensor_train(B, rank = [1, rank1, rank2, 1])\n",
    "    new_B = factors.to_tensor()\n",
    "    err = np.linalg.norm(new_B.detach().numpy() - B.detach().numpy())/np.linalg.norm(B.detach().numpy())\n",
    "    print ([elem.shape for elem in factors.factors])\n",
    "    compression_rate = (np.sum(list(np.prod(elem.shape) for elem in factors.factors))/(np.prod(fc_w.shape)))\n",
    "    print (\"err \", err, \"compression_rate \", compression_rate, \"rank \", rank1, rank2)\n",
    "    errs3.append(err)\n",
    "    ranks3.append(rank1)\n",
    "    c_rates3.append(compression_rate)\n",
    "    if (rank1 < rank2):\n",
    "        rank1 += step\n",
    "    else:\n",
    "        rank2 += step"
   ]
  },
  {
   "cell_type": "code",
   "execution_count": 1,
   "metadata": {},
   "outputs": [
    {
     "ename": "NameError",
     "evalue": "name 'c_rates' is not defined",
     "output_type": "error",
     "traceback": [
      "\u001b[0;31m---------------------------------------------------------------------------\u001b[0m",
      "\u001b[0;31mNameError\u001b[0m                                 Traceback (most recent call last)",
      "\u001b[0;32m/tmp/ipykernel_180/2976066177.py\u001b[0m in \u001b[0;36m<module>\u001b[0;34m\u001b[0m\n\u001b[1;32m      3\u001b[0m \u001b[0;34m\u001b[0m\u001b[0m\n\u001b[1;32m      4\u001b[0m \u001b[0;31m# plot lines\u001b[0m\u001b[0;34m\u001b[0m\u001b[0;34m\u001b[0m\u001b[0;34m\u001b[0m\u001b[0m\n\u001b[0;32m----> 5\u001b[0;31m \u001b[0mplt\u001b[0m\u001b[0;34m.\u001b[0m\u001b[0mplot\u001b[0m\u001b[0;34m(\u001b[0m\u001b[0mc_rates\u001b[0m\u001b[0;34m,\u001b[0m \u001b[0merrs\u001b[0m\u001b[0;34m,\u001b[0m \u001b[0mlabel\u001b[0m \u001b[0;34m=\u001b[0m \u001b[0;34m\"SVD\"\u001b[0m\u001b[0;34m)\u001b[0m\u001b[0;34m\u001b[0m\u001b[0;34m\u001b[0m\u001b[0m\n\u001b[0m\u001b[1;32m      6\u001b[0m \u001b[0mplt\u001b[0m\u001b[0;34m.\u001b[0m\u001b[0mplot\u001b[0m\u001b[0;34m(\u001b[0m\u001b[0mc_rates3\u001b[0m\u001b[0;34m,\u001b[0m \u001b[0merrs3\u001b[0m\u001b[0;34m,\u001b[0m  \u001b[0mlabel\u001b[0m \u001b[0;34m=\u001b[0m \u001b[0;34m\"TT 3 cores, 128*144*128 \"\u001b[0m\u001b[0;34m)\u001b[0m\u001b[0;34m\u001b[0m\u001b[0;34m\u001b[0m\u001b[0m\n\u001b[1;32m      7\u001b[0m \u001b[0mplt\u001b[0m\u001b[0;34m.\u001b[0m\u001b[0mplot\u001b[0m\u001b[0;34m(\u001b[0m\u001b[0mc_rates3\u001b[0m\u001b[0;34m,\u001b[0m \u001b[0merrs3\u001b[0m\u001b[0;34m,\u001b[0m  \u001b[0mlabel\u001b[0m \u001b[0;34m=\u001b[0m \u001b[0;34m\"TT 4 cores, 32*48*48*32 \"\u001b[0m\u001b[0;34m)\u001b[0m\u001b[0;34m\u001b[0m\u001b[0;34m\u001b[0m\u001b[0m\n",
      "\u001b[0;31mNameError\u001b[0m: name 'c_rates' is not defined"
     ]
    }
   ],
   "source": [
    "import matplotlib.pyplot as plt\n",
    "  \n",
    "\n",
    "# plot lines\n",
    "plt.plot(c_rates, errs, label = \"SVD\")\n",
    "plt.plot(c_rates3, errs3,  label = \"TT 3 cores, 128*144*128 \")\n",
    "plt.plot(c_rates3, errs3,  label = \"TT 4 cores, 32*48*48*32 \")\n",
    "plt.plot(c_rates1, errs1,  label = \"TT 6 cores, 8*12*16*16*12*8\")\n",
    "#plt.plot(errs1_m, c_rates1_m, label = \"TTM (permute + reshape)\")\n",
    "plt.ylabel('errors')\n",
    "plt.xlabel('compression rate')\n",
    "plt.legend()\n",
    "plt.savefig(\"TT + SVD\")\n",
    "plt.show()"
   ]
  },
  {
   "cell_type": "code",
   "execution_count": 28,
   "metadata": {},
   "outputs": [
    {
     "name": "stdout",
     "output_type": "stream",
     "text": [
      "[torch.Size([1, 8, 8]), torch.Size([8, 12, 96]), torch.Size([96, 16, 335]), torch.Size([335, 16, 96]), torch.Size([96, 12, 8]), torch.Size([8, 8, 1])]\n",
      "err  0.5942937 compression_rate  0.4440646701388889 rank  335 335\n",
      "[torch.Size([1, 8, 8]), torch.Size([8, 12, 96]), torch.Size([96, 16, 345]), torch.Size([345, 16, 96]), torch.Size([96, 12, 8]), torch.Size([8, 8, 1])]\n",
      "err  0.5857147 compression_rate  0.4570855034722222 rank  335 345\n",
      "[torch.Size([1, 8, 8]), torch.Size([8, 12, 96]), torch.Size([96, 16, 345]), torch.Size([345, 16, 96]), torch.Size([96, 12, 8]), torch.Size([8, 8, 1])]\n",
      "err  0.5857147 compression_rate  0.4570855034722222 rank  345 345\n",
      "[torch.Size([1, 8, 8]), torch.Size([8, 12, 96]), torch.Size([96, 16, 355]), torch.Size([355, 16, 96]), torch.Size([96, 12, 8]), torch.Size([8, 8, 1])]\n",
      "err  0.5772192 compression_rate  0.4701063368055556 rank  345 355\n",
      "[torch.Size([1, 8, 8]), torch.Size([8, 12, 96]), torch.Size([96, 16, 355]), torch.Size([355, 16, 96]), torch.Size([96, 12, 8]), torch.Size([8, 8, 1])]\n",
      "err  0.5772191 compression_rate  0.4701063368055556 rank  355 355\n",
      "[torch.Size([1, 8, 8]), torch.Size([8, 12, 96]), torch.Size([96, 16, 365]), torch.Size([365, 16, 96]), torch.Size([96, 12, 8]), torch.Size([8, 8, 1])]\n",
      "err  0.5688087 compression_rate  0.4831271701388889 rank  355 365\n",
      "[torch.Size([1, 8, 8]), torch.Size([8, 12, 96]), torch.Size([96, 16, 365]), torch.Size([365, 16, 96]), torch.Size([96, 12, 8]), torch.Size([8, 8, 1])]\n",
      "err  0.5688087 compression_rate  0.4831271701388889 rank  365 365\n",
      "[torch.Size([1, 8, 8]), torch.Size([8, 12, 96]), torch.Size([96, 16, 375]), torch.Size([375, 16, 96]), torch.Size([96, 12, 8]), torch.Size([8, 8, 1])]\n",
      "err  0.56046605 compression_rate  0.4961480034722222 rank  365 375\n",
      "[torch.Size([1, 8, 8]), torch.Size([8, 12, 96]), torch.Size([96, 16, 375]), torch.Size([375, 16, 96]), torch.Size([96, 12, 8]), torch.Size([8, 8, 1])]\n",
      "err  0.5604661 compression_rate  0.4961480034722222 rank  375 375\n",
      "[torch.Size([1, 8, 8]), torch.Size([8, 12, 96]), torch.Size([96, 16, 385]), torch.Size([385, 16, 96]), torch.Size([96, 12, 8]), torch.Size([8, 8, 1])]\n",
      "err  0.5522069 compression_rate  0.5091688368055556 rank  375 385\n",
      "[torch.Size([1, 8, 8]), torch.Size([8, 12, 96]), torch.Size([96, 16, 385]), torch.Size([385, 16, 96]), torch.Size([96, 12, 8]), torch.Size([8, 8, 1])]\n",
      "err  0.5522069 compression_rate  0.5091688368055556 rank  385 385\n",
      "[torch.Size([1, 8, 8]), torch.Size([8, 12, 96]), torch.Size([96, 16, 395]), torch.Size([395, 16, 96]), torch.Size([96, 12, 8]), torch.Size([8, 8, 1])]\n",
      "err  0.5440476 compression_rate  0.5221896701388888 rank  385 395\n",
      "[torch.Size([1, 8, 8]), torch.Size([8, 12, 96]), torch.Size([96, 16, 395]), torch.Size([395, 16, 96]), torch.Size([96, 12, 8]), torch.Size([8, 8, 1])]\n",
      "err  0.54404753 compression_rate  0.5221896701388888 rank  395 395\n",
      "[torch.Size([1, 8, 8]), torch.Size([8, 12, 96]), torch.Size([96, 16, 405]), torch.Size([405, 16, 96]), torch.Size([96, 12, 8]), torch.Size([8, 8, 1])]\n",
      "err  0.5359411 compression_rate  0.5352105034722222 rank  395 405\n",
      "[torch.Size([1, 8, 8]), torch.Size([8, 12, 96]), torch.Size([96, 16, 405]), torch.Size([405, 16, 96]), torch.Size([96, 12, 8]), torch.Size([8, 8, 1])]\n",
      "err  0.53594106 compression_rate  0.5352105034722222 rank  405 405\n",
      "[torch.Size([1, 8, 8]), torch.Size([8, 12, 96]), torch.Size([96, 16, 415]), torch.Size([415, 16, 96]), torch.Size([96, 12, 8]), torch.Size([8, 8, 1])]\n",
      "err  0.5279132 compression_rate  0.5482313368055556 rank  405 415\n",
      "[torch.Size([1, 8, 8]), torch.Size([8, 12, 96]), torch.Size([96, 16, 415]), torch.Size([415, 16, 96]), torch.Size([96, 12, 8]), torch.Size([8, 8, 1])]\n",
      "err  0.5279132 compression_rate  0.5482313368055556 rank  415 415\n",
      "[torch.Size([1, 8, 8]), torch.Size([8, 12, 96]), torch.Size([96, 16, 425]), torch.Size([425, 16, 96]), torch.Size([96, 12, 8]), torch.Size([8, 8, 1])]\n",
      "err  0.51994663 compression_rate  0.5612521701388888 rank  415 425\n",
      "[torch.Size([1, 8, 8]), torch.Size([8, 12, 96]), torch.Size([96, 16, 425]), torch.Size([425, 16, 96]), torch.Size([96, 12, 8]), torch.Size([8, 8, 1])]\n",
      "err  0.51994663 compression_rate  0.5612521701388888 rank  425 425\n",
      "[torch.Size([1, 8, 8]), torch.Size([8, 12, 96]), torch.Size([96, 16, 435]), torch.Size([435, 16, 96]), torch.Size([96, 12, 8]), torch.Size([8, 8, 1])]\n",
      "err  0.51204914 compression_rate  0.5742730034722222 rank  425 435\n",
      "[torch.Size([1, 8, 8]), torch.Size([8, 12, 96]), torch.Size([96, 16, 435]), torch.Size([435, 16, 96]), torch.Size([96, 12, 8]), torch.Size([8, 8, 1])]\n",
      "err  0.512049 compression_rate  0.5742730034722222 rank  435 435\n",
      "[torch.Size([1, 8, 8]), torch.Size([8, 12, 96]), torch.Size([96, 16, 445]), torch.Size([445, 16, 96]), torch.Size([96, 12, 8]), torch.Size([8, 8, 1])]\n",
      "err  0.50423944 compression_rate  0.5872938368055556 rank  435 445\n",
      "[torch.Size([1, 8, 8]), torch.Size([8, 12, 96]), torch.Size([96, 16, 445]), torch.Size([445, 16, 96]), torch.Size([96, 12, 8]), torch.Size([8, 8, 1])]\n",
      "err  0.50423944 compression_rate  0.5872938368055556 rank  445 445\n",
      "[torch.Size([1, 8, 8]), torch.Size([8, 12, 96]), torch.Size([96, 16, 455]), torch.Size([455, 16, 96]), torch.Size([96, 12, 8]), torch.Size([8, 8, 1])]\n",
      "err  0.49648055 compression_rate  0.6003146701388888 rank  445 455\n",
      "[torch.Size([1, 8, 8]), torch.Size([8, 12, 96]), torch.Size([96, 16, 455]), torch.Size([455, 16, 96]), torch.Size([96, 12, 8]), torch.Size([8, 8, 1])]\n",
      "err  0.49648046 compression_rate  0.6003146701388888 rank  455 455\n",
      "[torch.Size([1, 8, 8]), torch.Size([8, 12, 96]), torch.Size([96, 16, 465]), torch.Size([465, 16, 96]), torch.Size([96, 12, 8]), torch.Size([8, 8, 1])]\n",
      "err  0.48879352 compression_rate  0.6133355034722222 rank  455 465\n",
      "[torch.Size([1, 8, 8]), torch.Size([8, 12, 96]), torch.Size([96, 16, 465]), torch.Size([465, 16, 96]), torch.Size([96, 12, 8]), torch.Size([8, 8, 1])]\n",
      "err  0.48879352 compression_rate  0.6133355034722222 rank  465 465\n",
      "[torch.Size([1, 8, 8]), torch.Size([8, 12, 96]), torch.Size([96, 16, 475]), torch.Size([475, 16, 96]), torch.Size([96, 12, 8]), torch.Size([8, 8, 1])]\n",
      "err  0.48117173 compression_rate  0.6263563368055556 rank  465 475\n",
      "[torch.Size([1, 8, 8]), torch.Size([8, 12, 96]), torch.Size([96, 16, 475]), torch.Size([475, 16, 96]), torch.Size([96, 12, 8]), torch.Size([8, 8, 1])]\n",
      "err  0.4811717 compression_rate  0.6263563368055556 rank  475 475\n",
      "[torch.Size([1, 8, 8]), torch.Size([8, 12, 96]), torch.Size([96, 16, 485]), torch.Size([485, 16, 96]), torch.Size([96, 12, 8]), torch.Size([8, 8, 1])]\n",
      "err  0.4736112 compression_rate  0.6393771701388888 rank  475 485\n",
      "[torch.Size([1, 8, 8]), torch.Size([8, 12, 96]), torch.Size([96, 16, 485]), torch.Size([485, 16, 96]), torch.Size([96, 12, 8]), torch.Size([8, 8, 1])]\n",
      "err  0.47361115 compression_rate  0.6393771701388888 rank  485 485\n",
      "[torch.Size([1, 8, 8]), torch.Size([8, 12, 96]), torch.Size([96, 16, 495]), torch.Size([495, 16, 96]), torch.Size([96, 12, 8]), torch.Size([8, 8, 1])]\n",
      "err  0.4661179 compression_rate  0.6523980034722222 rank  485 495\n",
      "[torch.Size([1, 8, 8]), torch.Size([8, 12, 96]), torch.Size([96, 16, 495]), torch.Size([495, 16, 96]), torch.Size([96, 12, 8]), torch.Size([8, 8, 1])]\n",
      "err  0.46611792 compression_rate  0.6523980034722222 rank  495 495\n",
      "[torch.Size([1, 8, 8]), torch.Size([8, 12, 96]), torch.Size([96, 16, 505]), torch.Size([505, 16, 96]), torch.Size([96, 12, 8]), torch.Size([8, 8, 1])]\n",
      "err  0.45867184 compression_rate  0.6654188368055556 rank  495 505\n",
      "[torch.Size([1, 8, 8]), torch.Size([8, 12, 96]), torch.Size([96, 16, 505]), torch.Size([505, 16, 96]), torch.Size([96, 12, 8]), torch.Size([8, 8, 1])]\n",
      "err  0.45867184 compression_rate  0.6654188368055556 rank  505 505\n",
      "[torch.Size([1, 8, 8]), torch.Size([8, 12, 96]), torch.Size([96, 16, 515]), torch.Size([515, 16, 96]), torch.Size([96, 12, 8]), torch.Size([8, 8, 1])]\n",
      "err  0.45130017 compression_rate  0.6784396701388888 rank  505 515\n",
      "[torch.Size([1, 8, 8]), torch.Size([8, 12, 96]), torch.Size([96, 16, 515]), torch.Size([515, 16, 96]), torch.Size([96, 12, 8]), torch.Size([8, 8, 1])]\n",
      "err  0.45130017 compression_rate  0.6784396701388888 rank  515 515\n",
      "[torch.Size([1, 8, 8]), torch.Size([8, 12, 96]), torch.Size([96, 16, 525]), torch.Size([525, 16, 96]), torch.Size([96, 12, 8]), torch.Size([8, 8, 1])]\n",
      "err  0.44399664 compression_rate  0.6914605034722222 rank  515 525\n",
      "[torch.Size([1, 8, 8]), torch.Size([8, 12, 96]), torch.Size([96, 16, 525]), torch.Size([525, 16, 96]), torch.Size([96, 12, 8]), torch.Size([8, 8, 1])]\n",
      "err  0.4439966 compression_rate  0.6914605034722222 rank  525 525\n",
      "[torch.Size([1, 8, 8]), torch.Size([8, 12, 96]), torch.Size([96, 16, 535]), torch.Size([535, 16, 96]), torch.Size([96, 12, 8]), torch.Size([8, 8, 1])]\n",
      "err  0.4367761 compression_rate  0.7044813368055556 rank  525 535\n"
     ]
    }
   ],
   "source": [
    "import tensorly as tl\n",
    "from tensorly.decomposition import tensor_train\n",
    "tl.set_backend('pytorch')\n",
    "\n",
    "errs1 = []\n",
    "ranks1 = []\n",
    "c_rates1 = []\n",
    "\n",
    "B = fc_w\n",
    "B = B.reshape(8, 12, 16, 16, 12, 8)\n",
    "\n",
    "\n",
    "\n",
    "\n",
    "err = 10.0\n",
    "rank1 = 5\n",
    "rank2 = 5\n",
    "step = 10\n",
    "compression_rate = 0.0\n",
    "while (compression_rate < 0.7):\n",
    "    factors = tensor_train(B, rank = [1, rank1, rank2, rank2, rank2, rank1, 1])\n",
    "    new_B = factors.to_tensor()\n",
    "    err = np.linalg.norm(new_B.detach().numpy() - B.detach().numpy())/np.linalg.norm(B.detach().numpy())\n",
    "    print ([elem.shape for elem in factors.factors])\n",
    "    compression_rate = (np.sum(list(np.prod(elem.shape) for elem in factors.factors))/(np.prod(fc_w.shape)))\n",
    "    print (\"err \", err, \"compression_rate \", compression_rate, \"rank \", rank1, rank2)\n",
    "    errs1.append(err)\n",
    "    ranks1.append(rank1)\n",
    "    c_rates1.append(compression_rate)\n",
    "    if (rank1 < rank2):\n",
    "        rank1 += step\n",
    "    else:\n",
    "        rank2 += step"
   ]
  },
  {
   "cell_type": "code",
   "execution_count": null,
   "metadata": {},
   "outputs": [],
   "source": [
    "B = fc_w\n",
    "B = B.reshape((32, 48, 48, 32))"
   ]
  },
  {
   "cell_type": "code",
   "execution_count": 5,
   "metadata": {},
   "outputs": [
    {
     "data": {
      "text/plain": [
       "2359296"
      ]
     },
     "execution_count": 5,
     "metadata": {},
     "output_type": "execute_result"
    }
   ],
   "source": [
    "np.prod(fc_w.shape)"
   ]
  },
  {
   "cell_type": "code",
   "execution_count": 147,
   "metadata": {},
   "outputs": [
    {
     "data": {
      "text/plain": [
       "0.81661785"
      ]
     },
     "execution_count": 147,
     "metadata": {},
     "output_type": "execute_result"
    }
   ],
   "source": [
    "D_rest = tl.tt_tensor.tt_to_tensor(factors)\n",
    "err = np.linalg.norm(D_rest - D)/np.linalg.norm(D)\n",
    "err"
   ]
  }
 ],
 "metadata": {
  "kernelspec": {
   "display_name": "Python 3 (ipykernel)",
   "language": "python",
   "name": "python3"
  },
  "language_info": {
   "codemirror_mode": {
    "name": "ipython",
    "version": 3
   },
   "file_extension": ".py",
   "mimetype": "text/x-python",
   "name": "python",
   "nbconvert_exporter": "python",
   "pygments_lexer": "ipython3",
   "version": "3.8.10"
  }
 },
 "nbformat": 4,
 "nbformat_minor": 4
}
