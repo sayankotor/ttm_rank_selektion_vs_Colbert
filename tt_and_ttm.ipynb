{
 "cells": [
  {
   "cell_type": "code",
   "execution_count": 2,
   "metadata": {},
   "outputs": [
    {
     "name": "stderr",
     "output_type": "stream",
     "text": [
      "2022-12-07 13:20:43.665997: I tensorflow/stream_executor/platform/default/dso_loader.cc:49] Successfully opened dynamic library libcudart.so.11.0\n",
      "Some weights of the model checkpoint at bert-base-uncased were not used when initializing ColBERT: ['cls.predictions.bias', 'cls.predictions.transform.dense.weight', 'cls.predictions.transform.dense.bias', 'cls.predictions.decoder.weight', 'cls.seq_relationship.weight', 'cls.seq_relationship.bias', 'cls.predictions.transform.LayerNorm.weight', 'cls.predictions.transform.LayerNorm.bias']\n",
      "- This IS expected if you are initializing ColBERT from the checkpoint of a model trained on another task or with another architecture (e.g. initializing a BertForSequenceClassification model from a BertForPreTraining model).\n",
      "- This IS NOT expected if you are initializing ColBERT from the checkpoint of a model that you expect to be exactly identical (initializing a BertForSequenceClassification model from a BertForSequenceClassification model).\n",
      "Some weights of ColBERT were not initialized from the model checkpoint at bert-base-uncased and are newly initialized: ['linear.weight']\n",
      "You should probably TRAIN this model on a down-stream task to be able to use it for predictions and inference.\n"
     ]
    }
   ],
   "source": [
    "import os\n",
    "import random\n",
    "import time\n",
    "import torch\n",
    "import torch.nn as nn\n",
    "import numpy as np\n",
    "\n",
    "from transformers import AdamW\n",
    "from colbert.utils.runs import Run\n",
    "from colbert.utils.amp import MixedPrecisionManager\n",
    "\n",
    "from colbert.training.lazy_batcher import LazyBatcher\n",
    "from colbert.training.eager_batcher import EagerBatcher\n",
    "from colbert.parameters import DEVICE\n",
    "\n",
    "from colbert.modeling.colbert import ColBERT\n",
    "from colbert.utils.utils import print_message\n",
    "from colbert.training.utils import print_progress, manage_checkpoints\n",
    "\n",
    "query_maxlen = 512\n",
    "query_maxlen = 512\n",
    "doc_maxlen = 512\n",
    "dim = 128\n",
    "similarity = 'cosine'\n",
    "\n",
    "colbert = ColBERT.from_pretrained('bert-base-uncased', query_maxlen=query_maxlen, doc_maxlen=doc_maxlen, dim=dim, similarity_metric=similarity, mask_punctuation=False)"
   ]
  },
  {
   "cell_type": "code",
   "execution_count": 2,
   "metadata": {},
   "outputs": [
    {
     "name": "stdout",
     "output_type": "stream",
     "text": [
      "109580544\n"
     ]
    }
   ],
   "source": [
    "print(sum(p.numel() for p in colbert.parameters()))"
   ]
  },
  {
   "cell_type": "code",
   "execution_count": 3,
   "metadata": {},
   "outputs": [
    {
     "data": {
      "text/plain": [
       "ColBERT(\n",
       "  (bert): BertModel(\n",
       "    (embeddings): BertEmbeddings(\n",
       "      (word_embeddings): Embedding(30522, 768, padding_idx=0)\n",
       "      (position_embeddings): Embedding(512, 768)\n",
       "      (token_type_embeddings): Embedding(2, 768)\n",
       "      (LayerNorm): LayerNorm((768,), eps=1e-12, elementwise_affine=True)\n",
       "      (dropout): Dropout(p=0.1, inplace=False)\n",
       "    )\n",
       "    (encoder): BertEncoder(\n",
       "      (layer): ModuleList(\n",
       "        (0): BertLayer(\n",
       "          (attention): BertAttention(\n",
       "            (self): BertSelfAttention(\n",
       "              (query): Linear(in_features=768, out_features=768, bias=True)\n",
       "              (key): Linear(in_features=768, out_features=768, bias=True)\n",
       "              (value): Linear(in_features=768, out_features=768, bias=True)\n",
       "              (dropout): Dropout(p=0.1, inplace=False)\n",
       "            )\n",
       "            (output): BertSelfOutput(\n",
       "              (dense): Linear(in_features=768, out_features=768, bias=True)\n",
       "              (LayerNorm): LayerNorm((768,), eps=1e-12, elementwise_affine=True)\n",
       "              (dropout): Dropout(p=0.1, inplace=False)\n",
       "            )\n",
       "          )\n",
       "          (intermediate): BertIntermediate(\n",
       "            (dense): Linear(in_features=768, out_features=3072, bias=True)\n",
       "          )\n",
       "          (output): BertOutput(\n",
       "            (dense): Linear(in_features=3072, out_features=768, bias=True)\n",
       "            (LayerNorm): LayerNorm((768,), eps=1e-12, elementwise_affine=True)\n",
       "            (dropout): Dropout(p=0.1, inplace=False)\n",
       "          )\n",
       "        )\n",
       "        (1): BertLayer(\n",
       "          (attention): BertAttention(\n",
       "            (self): BertSelfAttention(\n",
       "              (query): Linear(in_features=768, out_features=768, bias=True)\n",
       "              (key): Linear(in_features=768, out_features=768, bias=True)\n",
       "              (value): Linear(in_features=768, out_features=768, bias=True)\n",
       "              (dropout): Dropout(p=0.1, inplace=False)\n",
       "            )\n",
       "            (output): BertSelfOutput(\n",
       "              (dense): Linear(in_features=768, out_features=768, bias=True)\n",
       "              (LayerNorm): LayerNorm((768,), eps=1e-12, elementwise_affine=True)\n",
       "              (dropout): Dropout(p=0.1, inplace=False)\n",
       "            )\n",
       "          )\n",
       "          (intermediate): BertIntermediate(\n",
       "            (dense): Linear(in_features=768, out_features=3072, bias=True)\n",
       "          )\n",
       "          (output): BertOutput(\n",
       "            (dense): Linear(in_features=3072, out_features=768, bias=True)\n",
       "            (LayerNorm): LayerNorm((768,), eps=1e-12, elementwise_affine=True)\n",
       "            (dropout): Dropout(p=0.1, inplace=False)\n",
       "          )\n",
       "        )\n",
       "        (2): BertLayer(\n",
       "          (attention): BertAttention(\n",
       "            (self): BertSelfAttention(\n",
       "              (query): Linear(in_features=768, out_features=768, bias=True)\n",
       "              (key): Linear(in_features=768, out_features=768, bias=True)\n",
       "              (value): Linear(in_features=768, out_features=768, bias=True)\n",
       "              (dropout): Dropout(p=0.1, inplace=False)\n",
       "            )\n",
       "            (output): BertSelfOutput(\n",
       "              (dense): Linear(in_features=768, out_features=768, bias=True)\n",
       "              (LayerNorm): LayerNorm((768,), eps=1e-12, elementwise_affine=True)\n",
       "              (dropout): Dropout(p=0.1, inplace=False)\n",
       "            )\n",
       "          )\n",
       "          (intermediate): BertIntermediate(\n",
       "            (dense): Linear(in_features=768, out_features=3072, bias=True)\n",
       "          )\n",
       "          (output): BertOutput(\n",
       "            (dense): Linear(in_features=3072, out_features=768, bias=True)\n",
       "            (LayerNorm): LayerNorm((768,), eps=1e-12, elementwise_affine=True)\n",
       "            (dropout): Dropout(p=0.1, inplace=False)\n",
       "          )\n",
       "        )\n",
       "        (3): BertLayer(\n",
       "          (attention): BertAttention(\n",
       "            (self): BertSelfAttention(\n",
       "              (query): Linear(in_features=768, out_features=768, bias=True)\n",
       "              (key): Linear(in_features=768, out_features=768, bias=True)\n",
       "              (value): Linear(in_features=768, out_features=768, bias=True)\n",
       "              (dropout): Dropout(p=0.1, inplace=False)\n",
       "            )\n",
       "            (output): BertSelfOutput(\n",
       "              (dense): Linear(in_features=768, out_features=768, bias=True)\n",
       "              (LayerNorm): LayerNorm((768,), eps=1e-12, elementwise_affine=True)\n",
       "              (dropout): Dropout(p=0.1, inplace=False)\n",
       "            )\n",
       "          )\n",
       "          (intermediate): BertIntermediate(\n",
       "            (dense): Linear(in_features=768, out_features=3072, bias=True)\n",
       "          )\n",
       "          (output): BertOutput(\n",
       "            (dense): Linear(in_features=3072, out_features=768, bias=True)\n",
       "            (LayerNorm): LayerNorm((768,), eps=1e-12, elementwise_affine=True)\n",
       "            (dropout): Dropout(p=0.1, inplace=False)\n",
       "          )\n",
       "        )\n",
       "        (4): BertLayer(\n",
       "          (attention): BertAttention(\n",
       "            (self): BertSelfAttention(\n",
       "              (query): Linear(in_features=768, out_features=768, bias=True)\n",
       "              (key): Linear(in_features=768, out_features=768, bias=True)\n",
       "              (value): Linear(in_features=768, out_features=768, bias=True)\n",
       "              (dropout): Dropout(p=0.1, inplace=False)\n",
       "            )\n",
       "            (output): BertSelfOutput(\n",
       "              (dense): Linear(in_features=768, out_features=768, bias=True)\n",
       "              (LayerNorm): LayerNorm((768,), eps=1e-12, elementwise_affine=True)\n",
       "              (dropout): Dropout(p=0.1, inplace=False)\n",
       "            )\n",
       "          )\n",
       "          (intermediate): BertIntermediate(\n",
       "            (dense): Linear(in_features=768, out_features=3072, bias=True)\n",
       "          )\n",
       "          (output): BertOutput(\n",
       "            (dense): Linear(in_features=3072, out_features=768, bias=True)\n",
       "            (LayerNorm): LayerNorm((768,), eps=1e-12, elementwise_affine=True)\n",
       "            (dropout): Dropout(p=0.1, inplace=False)\n",
       "          )\n",
       "        )\n",
       "        (5): BertLayer(\n",
       "          (attention): BertAttention(\n",
       "            (self): BertSelfAttention(\n",
       "              (query): Linear(in_features=768, out_features=768, bias=True)\n",
       "              (key): Linear(in_features=768, out_features=768, bias=True)\n",
       "              (value): Linear(in_features=768, out_features=768, bias=True)\n",
       "              (dropout): Dropout(p=0.1, inplace=False)\n",
       "            )\n",
       "            (output): BertSelfOutput(\n",
       "              (dense): Linear(in_features=768, out_features=768, bias=True)\n",
       "              (LayerNorm): LayerNorm((768,), eps=1e-12, elementwise_affine=True)\n",
       "              (dropout): Dropout(p=0.1, inplace=False)\n",
       "            )\n",
       "          )\n",
       "          (intermediate): BertIntermediate(\n",
       "            (dense): Linear(in_features=768, out_features=3072, bias=True)\n",
       "          )\n",
       "          (output): BertOutput(\n",
       "            (dense): Linear(in_features=3072, out_features=768, bias=True)\n",
       "            (LayerNorm): LayerNorm((768,), eps=1e-12, elementwise_affine=True)\n",
       "            (dropout): Dropout(p=0.1, inplace=False)\n",
       "          )\n",
       "        )\n",
       "        (6): BertLayer(\n",
       "          (attention): BertAttention(\n",
       "            (self): BertSelfAttention(\n",
       "              (query): Linear(in_features=768, out_features=768, bias=True)\n",
       "              (key): Linear(in_features=768, out_features=768, bias=True)\n",
       "              (value): Linear(in_features=768, out_features=768, bias=True)\n",
       "              (dropout): Dropout(p=0.1, inplace=False)\n",
       "            )\n",
       "            (output): BertSelfOutput(\n",
       "              (dense): Linear(in_features=768, out_features=768, bias=True)\n",
       "              (LayerNorm): LayerNorm((768,), eps=1e-12, elementwise_affine=True)\n",
       "              (dropout): Dropout(p=0.1, inplace=False)\n",
       "            )\n",
       "          )\n",
       "          (intermediate): BertIntermediate(\n",
       "            (dense): Linear(in_features=768, out_features=3072, bias=True)\n",
       "          )\n",
       "          (output): BertOutput(\n",
       "            (dense): Linear(in_features=3072, out_features=768, bias=True)\n",
       "            (LayerNorm): LayerNorm((768,), eps=1e-12, elementwise_affine=True)\n",
       "            (dropout): Dropout(p=0.1, inplace=False)\n",
       "          )\n",
       "        )\n",
       "        (7): BertLayer(\n",
       "          (attention): BertAttention(\n",
       "            (self): BertSelfAttention(\n",
       "              (query): Linear(in_features=768, out_features=768, bias=True)\n",
       "              (key): Linear(in_features=768, out_features=768, bias=True)\n",
       "              (value): Linear(in_features=768, out_features=768, bias=True)\n",
       "              (dropout): Dropout(p=0.1, inplace=False)\n",
       "            )\n",
       "            (output): BertSelfOutput(\n",
       "              (dense): Linear(in_features=768, out_features=768, bias=True)\n",
       "              (LayerNorm): LayerNorm((768,), eps=1e-12, elementwise_affine=True)\n",
       "              (dropout): Dropout(p=0.1, inplace=False)\n",
       "            )\n",
       "          )\n",
       "          (intermediate): BertIntermediate(\n",
       "            (dense): Linear(in_features=768, out_features=3072, bias=True)\n",
       "          )\n",
       "          (output): BertOutput(\n",
       "            (dense): Linear(in_features=3072, out_features=768, bias=True)\n",
       "            (LayerNorm): LayerNorm((768,), eps=1e-12, elementwise_affine=True)\n",
       "            (dropout): Dropout(p=0.1, inplace=False)\n",
       "          )\n",
       "        )\n",
       "        (8): BertLayer(\n",
       "          (attention): BertAttention(\n",
       "            (self): BertSelfAttention(\n",
       "              (query): Linear(in_features=768, out_features=768, bias=True)\n",
       "              (key): Linear(in_features=768, out_features=768, bias=True)\n",
       "              (value): Linear(in_features=768, out_features=768, bias=True)\n",
       "              (dropout): Dropout(p=0.1, inplace=False)\n",
       "            )\n",
       "            (output): BertSelfOutput(\n",
       "              (dense): Linear(in_features=768, out_features=768, bias=True)\n",
       "              (LayerNorm): LayerNorm((768,), eps=1e-12, elementwise_affine=True)\n",
       "              (dropout): Dropout(p=0.1, inplace=False)\n",
       "            )\n",
       "          )\n",
       "          (intermediate): BertIntermediate(\n",
       "            (dense): Linear(in_features=768, out_features=3072, bias=True)\n",
       "          )\n",
       "          (output): BertOutput(\n",
       "            (dense): Linear(in_features=3072, out_features=768, bias=True)\n",
       "            (LayerNorm): LayerNorm((768,), eps=1e-12, elementwise_affine=True)\n",
       "            (dropout): Dropout(p=0.1, inplace=False)\n",
       "          )\n",
       "        )\n",
       "        (9): BertLayer(\n",
       "          (attention): BertAttention(\n",
       "            (self): BertSelfAttention(\n",
       "              (query): Linear(in_features=768, out_features=768, bias=True)\n",
       "              (key): Linear(in_features=768, out_features=768, bias=True)\n",
       "              (value): Linear(in_features=768, out_features=768, bias=True)\n",
       "              (dropout): Dropout(p=0.1, inplace=False)\n",
       "            )\n",
       "            (output): BertSelfOutput(\n",
       "              (dense): Linear(in_features=768, out_features=768, bias=True)\n",
       "              (LayerNorm): LayerNorm((768,), eps=1e-12, elementwise_affine=True)\n",
       "              (dropout): Dropout(p=0.1, inplace=False)\n",
       "            )\n",
       "          )\n",
       "          (intermediate): BertIntermediate(\n",
       "            (dense): Linear(in_features=768, out_features=3072, bias=True)\n",
       "          )\n",
       "          (output): BertOutput(\n",
       "            (dense): Linear(in_features=3072, out_features=768, bias=True)\n",
       "            (LayerNorm): LayerNorm((768,), eps=1e-12, elementwise_affine=True)\n",
       "            (dropout): Dropout(p=0.1, inplace=False)\n",
       "          )\n",
       "        )\n",
       "        (10): BertLayer(\n",
       "          (attention): BertAttention(\n",
       "            (self): BertSelfAttention(\n",
       "              (query): Linear(in_features=768, out_features=768, bias=True)\n",
       "              (key): Linear(in_features=768, out_features=768, bias=True)\n",
       "              (value): Linear(in_features=768, out_features=768, bias=True)\n",
       "              (dropout): Dropout(p=0.1, inplace=False)\n",
       "            )\n",
       "            (output): BertSelfOutput(\n",
       "              (dense): Linear(in_features=768, out_features=768, bias=True)\n",
       "              (LayerNorm): LayerNorm((768,), eps=1e-12, elementwise_affine=True)\n",
       "              (dropout): Dropout(p=0.1, inplace=False)\n",
       "            )\n",
       "          )\n",
       "          (intermediate): BertIntermediate(\n",
       "            (dense): Linear(in_features=768, out_features=3072, bias=True)\n",
       "          )\n",
       "          (output): BertOutput(\n",
       "            (dense): Linear(in_features=3072, out_features=768, bias=True)\n",
       "            (LayerNorm): LayerNorm((768,), eps=1e-12, elementwise_affine=True)\n",
       "            (dropout): Dropout(p=0.1, inplace=False)\n",
       "          )\n",
       "        )\n",
       "        (11): BertLayer(\n",
       "          (attention): BertAttention(\n",
       "            (self): BertSelfAttention(\n",
       "              (query): Linear(in_features=768, out_features=768, bias=True)\n",
       "              (key): Linear(in_features=768, out_features=768, bias=True)\n",
       "              (value): Linear(in_features=768, out_features=768, bias=True)\n",
       "              (dropout): Dropout(p=0.1, inplace=False)\n",
       "            )\n",
       "            (output): BertSelfOutput(\n",
       "              (dense): Linear(in_features=768, out_features=768, bias=True)\n",
       "              (LayerNorm): LayerNorm((768,), eps=1e-12, elementwise_affine=True)\n",
       "              (dropout): Dropout(p=0.1, inplace=False)\n",
       "            )\n",
       "          )\n",
       "          (intermediate): BertIntermediate(\n",
       "            (dense): Linear(in_features=768, out_features=3072, bias=True)\n",
       "          )\n",
       "          (output): BertOutput(\n",
       "            (dense): Linear(in_features=3072, out_features=768, bias=True)\n",
       "            (LayerNorm): LayerNorm((768,), eps=1e-12, elementwise_affine=True)\n",
       "            (dropout): Dropout(p=0.1, inplace=False)\n",
       "          )\n",
       "        )\n",
       "      )\n",
       "    )\n",
       "    (pooler): BertPooler(\n",
       "      (dense): Linear(in_features=768, out_features=768, bias=True)\n",
       "      (activation): Tanh()\n",
       "    )\n",
       "  )\n",
       "  (linear): Linear(in_features=768, out_features=128, bias=False)\n",
       ")"
      ]
     },
     "execution_count": 3,
     "metadata": {},
     "output_type": "execute_result"
    }
   ],
   "source": [
    "colbert"
   ]
  },
  {
   "cell_type": "markdown",
   "metadata": {},
   "source": [
    "## TTM"
   ]
  },
  {
   "cell_type": "code",
   "execution_count": 23,
   "metadata": {},
   "outputs": [],
   "source": [
    "import matplotlib.pyplot as plt\n",
    "  "
   ]
  },
  {
   "cell_type": "code",
   "execution_count": 15,
   "metadata": {},
   "outputs": [],
   "source": [
    "fc_w = colbert.bert.encoder.layer[4].intermediate.dense.weight\n",
    "fc_w_new = colbert.bert.encoder.layer[4].intermediate.dense"
   ]
  },
  {
   "cell_type": "code",
   "execution_count": 16,
   "metadata": {},
   "outputs": [
    {
     "data": {
      "text/plain": [
       "torch.Size([3072, 768])"
      ]
     },
     "execution_count": 16,
     "metadata": {},
     "output_type": "execute_result"
    }
   ],
   "source": [
    "fc_w.shape"
   ]
  },
  {
   "cell_type": "code",
   "execution_count": 17,
   "metadata": {},
   "outputs": [],
   "source": [
    "import tntorch as tn"
   ]
  },
  {
   "cell_type": "code",
   "execution_count": 18,
   "metadata": {},
   "outputs": [
    {
     "data": {
      "text/plain": [
       "768"
      ]
     },
     "execution_count": 18,
     "metadata": {},
     "output_type": "execute_result"
    }
   ],
   "source": [
    "fc_w.shape[-1]"
   ]
  },
  {
   "cell_type": "code",
   "execution_count": 25,
   "metadata": {},
   "outputs": [],
   "source": [
    "input_dims = [16, 16, 12]\n",
    "input_dims = [16, 16, 3]\n",
    "ranks = [50, 50]\n",
    "\n",
    "#ttm = tn.TTMatrix(fc_w, ranks=ranks, input_dims=input_dims, output_dims=output_dims)"
   ]
  },
  {
   "cell_type": "code",
   "execution_count": 24,
   "metadata": {},
   "outputs": [
    {
     "name": "stdout",
     "output_type": "stream",
     "text": [
      "[12.523158] [0.50037915]\n"
     ]
    },
    {
     "data": {
      "image/png": "[encoded data removed]",
      "text/plain": [
       "<Figure size 432x288 with 1 Axes>"
      ]
     },
     "metadata": {
      "needs_background": "light"
     },
     "output_type": "display_data"
    }
   ],
   "source": [
    "u,s,vh = np.linalg.svd(fc_w.cpu().detach().numpy())\n",
    "plt.plot(s)\n",
    "print (s[0:1], s[len(s)-2: len(s)-1])\n",
    "plt.show()"
   ]
  },
  {
   "cell_type": "code",
   "execution_count": 34,
   "metadata": {},
   "outputs": [
    {
     "data": {
      "text/plain": [
       "torch.Size([3072, 768])"
      ]
     },
     "execution_count": 34,
     "metadata": {},
     "output_type": "execute_result"
    }
   ],
   "source": [
    "fc_w.shape"
   ]
  },
  {
   "cell_type": "code",
   "execution_count": 36,
   "metadata": {},
   "outputs": [
    {
     "data": {
      "text/plain": [
       "768"
      ]
     },
     "execution_count": 36,
     "metadata": {},
     "output_type": "execute_result"
    }
   ],
   "source": [
    "np.prod([4, 4, 8, 6])"
   ]
  },
  {
   "cell_type": "code",
   "execution_count": null,
   "metadata": {},
   "outputs": [],
   "source": [
    "input_dims = [6, 8, 8, 8]\n",
    "output_dims = [4, 4, 8, 6]\n",
    "ranks = [50, 50]\n",
    "\n",
    "#24, 32, 64, 48\n",
    "\n",
    "errs5_m = []\n",
    "ranks5_m = []\n",
    "c_rates5_m = []\n",
    "\n",
    "compression_rate = 0.001\n",
    "\n",
    "err = 10.0\n",
    "rank1 = 40\n",
    "rank2 = 40\n",
    "step = 5\n",
    "\n",
    "while (compression_rate < 0.7):\n",
    "    \n",
    "    factors = tn.TTMatrix(fc_w, ranks=[rank1, rank2, rank1], input_dims=input_dims, output_dims=output_dims)\n",
    "    new_B = factors.torch()\n",
    "    print (fc_w.shape, new_B.shape)\n",
    "    err = np.linalg.norm(new_B.detach().numpy() - fc_w.detach().numpy())/np.linalg.norm(fc_w.detach().numpy())\n",
    "    print ([elem.shape for elem in factors.cores])\n",
    "    compression_rate = (np.sum(list(np.prod(elem.shape) for elem in factors.cores))/(np.prod(fc_w.shape)))\n",
    "    print (\"err \", err, \"compression_rate \", compression_rate, \"rank \", rank1, rank2)\n",
    "    errs5_m.append(err)\n",
    "    ranks5_m.append(rank1)\n",
    "    c_rates5_m.append(compression_rate)\n",
    "    rank1 += step\n",
    "    rank2 += step"
   ]
  },
  {
   "cell_type": "code",
   "execution_count": null,
   "metadata": {},
   "outputs": [
    {
     "name": "stdout",
     "output_type": "stream",
     "text": [
      "torch.Size([3072, 768]) torch.Size([3072, 768])\n",
      "[torch.Size([1, 8, 4, 32]), torch.Size([32, 8, 6, 40]), torch.Size([40, 6, 8, 32]), torch.Size([32, 8, 4, 1])]\n",
      "err  0.9418562 compression_rate  0.05295138888888889 rank  40 40\n",
      "torch.Size([3072, 768]) torch.Size([3072, 768])\n",
      "[torch.Size([1, 8, 4, 32]), torch.Size([32, 8, 6, 45]), torch.Size([45, 6, 8, 32]), torch.Size([32, 8, 4, 1])]\n",
      "err  0.9359917 compression_rate  0.05946180555555555 rank  45 45\n",
      "torch.Size([3072, 768]) torch.Size([3072, 768])\n",
      "[torch.Size([1, 8, 4, 32]), torch.Size([32, 8, 6, 50]), torch.Size([50, 6, 8, 32]), torch.Size([32, 8, 4, 1])]\n",
      "err  0.9301831 compression_rate  0.06597222222222222 rank  50 50\n",
      "torch.Size([3072, 768]) torch.Size([3072, 768])\n",
      "[torch.Size([1, 8, 4, 32]), torch.Size([32, 8, 6, 55]), torch.Size([55, 6, 8, 32]), torch.Size([32, 8, 4, 1])]\n",
      "err  0.92442006 compression_rate  0.0724826388888889 rank  55 55\n",
      "torch.Size([3072, 768]) torch.Size([3072, 768])\n",
      "[torch.Size([1, 8, 4, 32]), torch.Size([32, 8, 6, 60]), torch.Size([60, 6, 8, 32]), torch.Size([32, 8, 4, 1])]\n",
      "err  0.9186922 compression_rate  0.07899305555555555 rank  60 60\n",
      "torch.Size([3072, 768]) torch.Size([3072, 768])\n",
      "[torch.Size([1, 8, 4, 32]), torch.Size([32, 8, 6, 65]), torch.Size([65, 6, 8, 32]), torch.Size([32, 8, 4, 1])]\n",
      "err  0.913017 compression_rate  0.08550347222222222 rank  65 65\n",
      "torch.Size([3072, 768]) torch.Size([3072, 768])\n",
      "[torch.Size([1, 8, 4, 32]), torch.Size([32, 8, 6, 70]), torch.Size([70, 6, 8, 32]), torch.Size([32, 8, 4, 1])]\n",
      "err  0.90739375 compression_rate  0.0920138888888889 rank  70 70\n",
      "torch.Size([3072, 768]) torch.Size([3072, 768])\n",
      "[torch.Size([1, 8, 4, 32]), torch.Size([32, 8, 6, 75]), torch.Size([75, 6, 8, 32]), torch.Size([32, 8, 4, 1])]\n",
      "err  0.901809 compression_rate  0.09852430555555555 rank  75 75\n",
      "torch.Size([3072, 768]) torch.Size([3072, 768])\n",
      "[torch.Size([1, 8, 4, 32]), torch.Size([32, 8, 6, 80]), torch.Size([80, 6, 8, 32]), torch.Size([32, 8, 4, 1])]\n",
      "err  0.89625216 compression_rate  0.10503472222222222 rank  80 80\n",
      "torch.Size([3072, 768]) torch.Size([3072, 768])\n",
      "[torch.Size([1, 8, 4, 32]), torch.Size([32, 8, 6, 85]), torch.Size([85, 6, 8, 32]), torch.Size([32, 8, 4, 1])]\n",
      "err  0.89074063 compression_rate  0.1115451388888889 rank  85 85\n",
      "torch.Size([3072, 768]) torch.Size([3072, 768])\n",
      "[torch.Size([1, 8, 4, 32]), torch.Size([32, 8, 6, 90]), torch.Size([90, 6, 8, 32]), torch.Size([32, 8, 4, 1])]\n",
      "err  0.88526255 compression_rate  0.11805555555555555 rank  90 90\n",
      "torch.Size([3072, 768]) torch.Size([3072, 768])\n",
      "[torch.Size([1, 8, 4, 32]), torch.Size([32, 8, 6, 95]), torch.Size([95, 6, 8, 32]), torch.Size([32, 8, 4, 1])]\n",
      "err  0.87983847 compression_rate  0.12456597222222222 rank  95 95\n",
      "torch.Size([3072, 768]) torch.Size([3072, 768])\n",
      "[torch.Size([1, 8, 4, 32]), torch.Size([32, 8, 6, 100]), torch.Size([100, 6, 8, 32]), torch.Size([32, 8, 4, 1])]\n",
      "err  0.87443846 compression_rate  0.1310763888888889 rank  100 100\n",
      "torch.Size([3072, 768]) torch.Size([3072, 768])\n",
      "[torch.Size([1, 8, 4, 32]), torch.Size([32, 8, 6, 105]), torch.Size([105, 6, 8, 32]), torch.Size([32, 8, 4, 1])]\n",
      "err  0.8690713 compression_rate  0.13758680555555555 rank  105 105\n",
      "torch.Size([3072, 768]) torch.Size([3072, 768])\n",
      "[torch.Size([1, 8, 4, 32]), torch.Size([32, 8, 6, 110]), torch.Size([110, 6, 8, 32]), torch.Size([32, 8, 4, 1])]\n",
      "err  0.8637357 compression_rate  0.1440972222222222 rank  110 110\n",
      "torch.Size([3072, 768]) torch.Size([3072, 768])\n",
      "[torch.Size([1, 8, 4, 32]), torch.Size([32, 8, 6, 115]), torch.Size([115, 6, 8, 32]), torch.Size([32, 8, 4, 1])]\n",
      "err  0.85842943 compression_rate  0.1506076388888889 rank  115 115\n",
      "torch.Size([3072, 768]) torch.Size([3072, 768])\n",
      "[torch.Size([1, 8, 4, 32]), torch.Size([32, 8, 6, 120]), torch.Size([120, 6, 8, 32]), torch.Size([32, 8, 4, 1])]\n",
      "err  0.85315526 compression_rate  0.15711805555555555 rank  120 120\n",
      "torch.Size([3072, 768]) torch.Size([3072, 768])\n",
      "[torch.Size([1, 8, 4, 32]), torch.Size([32, 8, 6, 125]), torch.Size([125, 6, 8, 32]), torch.Size([32, 8, 4, 1])]\n",
      "err  0.8479003 compression_rate  0.1636284722222222 rank  125 125\n",
      "torch.Size([3072, 768]) torch.Size([3072, 768])\n",
      "[torch.Size([1, 8, 4, 32]), torch.Size([32, 8, 6, 130]), torch.Size([130, 6, 8, 32]), torch.Size([32, 8, 4, 1])]\n",
      "err  0.8426729 compression_rate  0.1701388888888889 rank  130 130\n",
      "torch.Size([3072, 768]) torch.Size([3072, 768])\n",
      "[torch.Size([1, 8, 4, 32]), torch.Size([32, 8, 6, 135]), torch.Size([135, 6, 8, 32]), torch.Size([32, 8, 4, 1])]\n",
      "err  0.83746904 compression_rate  0.17664930555555555 rank  135 135\n",
      "torch.Size([3072, 768]) torch.Size([3072, 768])\n",
      "[torch.Size([1, 8, 4, 32]), torch.Size([32, 8, 6, 140]), torch.Size([140, 6, 8, 32]), torch.Size([32, 8, 4, 1])]\n",
      "err  0.8322971 compression_rate  0.1831597222222222 rank  140 140\n",
      "torch.Size([3072, 768]) torch.Size([3072, 768])\n",
      "[torch.Size([1, 8, 4, 32]), torch.Size([32, 8, 6, 145]), torch.Size([145, 6, 8, 32]), torch.Size([32, 8, 4, 1])]\n",
      "err  0.8271567 compression_rate  0.1896701388888889 rank  145 145\n",
      "torch.Size([3072, 768]) torch.Size([3072, 768])\n",
      "[torch.Size([1, 8, 4, 32]), torch.Size([32, 8, 6, 150]), torch.Size([150, 6, 8, 32]), torch.Size([32, 8, 4, 1])]\n",
      "err  0.82204664 compression_rate  0.19618055555555555 rank  150 150\n",
      "torch.Size([3072, 768]) torch.Size([3072, 768])\n",
      "[torch.Size([1, 8, 4, 32]), torch.Size([32, 8, 6, 155]), torch.Size([155, 6, 8, 32]), torch.Size([32, 8, 4, 1])]\n",
      "err  0.8169548 compression_rate  0.2026909722222222 rank  155 155\n",
      "torch.Size([3072, 768]) torch.Size([3072, 768])\n",
      "[torch.Size([1, 8, 4, 32]), torch.Size([32, 8, 6, 160]), torch.Size([160, 6, 8, 32]), torch.Size([32, 8, 4, 1])]\n",
      "err  0.8118863 compression_rate  0.2092013888888889 rank  160 160\n",
      "torch.Size([3072, 768]) torch.Size([3072, 768])\n",
      "[torch.Size([1, 8, 4, 32]), torch.Size([32, 8, 6, 165]), torch.Size([165, 6, 8, 32]), torch.Size([32, 8, 4, 1])]\n",
      "err  0.8068433 compression_rate  0.21571180555555555 rank  165 165\n",
      "torch.Size([3072, 768]) torch.Size([3072, 768])\n",
      "[torch.Size([1, 8, 4, 32]), torch.Size([32, 8, 6, 170]), torch.Size([170, 6, 8, 32]), torch.Size([32, 8, 4, 1])]\n",
      "err  0.8018272 compression_rate  0.2222222222222222 rank  170 170\n",
      "torch.Size([3072, 768]) torch.Size([3072, 768])\n",
      "[torch.Size([1, 8, 4, 32]), torch.Size([32, 8, 6, 175]), torch.Size([175, 6, 8, 32]), torch.Size([32, 8, 4, 1])]\n",
      "err  0.7968383 compression_rate  0.2287326388888889 rank  175 175\n",
      "torch.Size([3072, 768]) torch.Size([3072, 768])\n",
      "[torch.Size([1, 8, 4, 32]), torch.Size([32, 8, 6, 180]), torch.Size([180, 6, 8, 32]), torch.Size([32, 8, 4, 1])]\n",
      "err  0.7918691 compression_rate  0.23524305555555555 rank  180 180\n",
      "torch.Size([3072, 768]) torch.Size([3072, 768])\n",
      "[torch.Size([1, 8, 4, 32]), torch.Size([32, 8, 6, 185]), torch.Size([185, 6, 8, 32]), torch.Size([32, 8, 4, 1])]\n",
      "err  0.7869225 compression_rate  0.2417534722222222 rank  185 185\n",
      "torch.Size([3072, 768]) torch.Size([3072, 768])\n",
      "[torch.Size([1, 8, 4, 32]), torch.Size([32, 8, 6, 190]), torch.Size([190, 6, 8, 32]), torch.Size([32, 8, 4, 1])]\n",
      "err  0.7819984 compression_rate  0.2482638888888889 rank  190 190\n",
      "torch.Size([3072, 768]) torch.Size([3072, 768])\n",
      "[torch.Size([1, 8, 4, 32]), torch.Size([32, 8, 6, 195]), torch.Size([195, 6, 8, 32]), torch.Size([32, 8, 4, 1])]\n",
      "err  0.777099 compression_rate  0.2547743055555556 rank  195 195\n",
      "torch.Size([3072, 768]) torch.Size([3072, 768])\n",
      "[torch.Size([1, 8, 4, 32]), torch.Size([32, 8, 6, 200]), torch.Size([200, 6, 8, 32]), torch.Size([32, 8, 4, 1])]\n",
      "err  0.77222204 compression_rate  0.2612847222222222 rank  200 200\n",
      "torch.Size([3072, 768]) torch.Size([3072, 768])\n",
      "[torch.Size([1, 8, 4, 32]), torch.Size([32, 8, 6, 205]), torch.Size([205, 6, 8, 32]), torch.Size([32, 8, 4, 1])]\n",
      "err  0.7673577 compression_rate  0.2677951388888889 rank  205 205\n",
      "torch.Size([3072, 768]) torch.Size([3072, 768])\n",
      "[torch.Size([1, 8, 4, 32]), torch.Size([32, 8, 6, 210]), torch.Size([210, 6, 8, 32]), torch.Size([32, 8, 4, 1])]\n",
      "err  0.76251507 compression_rate  0.2743055555555556 rank  210 210\n",
      "torch.Size([3072, 768]) torch.Size([3072, 768])\n",
      "[torch.Size([1, 8, 4, 32]), torch.Size([32, 8, 6, 215]), torch.Size([215, 6, 8, 32]), torch.Size([32, 8, 4, 1])]\n",
      "err  0.7576982 compression_rate  0.2808159722222222 rank  215 215\n",
      "torch.Size([3072, 768]) torch.Size([3072, 768])\n",
      "[torch.Size([1, 8, 4, 32]), torch.Size([32, 8, 6, 220]), torch.Size([220, 6, 8, 32]), torch.Size([32, 8, 4, 1])]\n",
      "err  0.75290024 compression_rate  0.2873263888888889 rank  220 220\n",
      "torch.Size([3072, 768]) torch.Size([3072, 768])\n",
      "[torch.Size([1, 8, 4, 32]), torch.Size([32, 8, 6, 225]), torch.Size([225, 6, 8, 32]), torch.Size([32, 8, 4, 1])]\n",
      "err  0.7481172 compression_rate  0.2938368055555556 rank  225 225\n",
      "torch.Size([3072, 768]) torch.Size([3072, 768])\n",
      "[torch.Size([1, 8, 4, 32]), torch.Size([32, 8, 6, 230]), torch.Size([230, 6, 8, 32]), torch.Size([32, 8, 4, 1])]\n",
      "err  0.7433549 compression_rate  0.3003472222222222 rank  230 230\n",
      "torch.Size([3072, 768]) torch.Size([3072, 768])\n",
      "[torch.Size([1, 8, 4, 32]), torch.Size([32, 8, 6, 235]), torch.Size([235, 6, 8, 32]), torch.Size([32, 8, 4, 1])]\n",
      "err  0.7386172 compression_rate  0.3068576388888889 rank  235 235\n",
      "torch.Size([3072, 768]) torch.Size([3072, 768])\n",
      "[torch.Size([1, 8, 4, 32]), torch.Size([32, 8, 6, 240]), torch.Size([240, 6, 8, 32]), torch.Size([32, 8, 4, 1])]\n",
      "err  0.7339005 compression_rate  0.3133680555555556 rank  240 240\n",
      "torch.Size([3072, 768]) torch.Size([3072, 768])\n",
      "[torch.Size([1, 8, 4, 32]), torch.Size([32, 8, 6, 245]), torch.Size([245, 6, 8, 32]), torch.Size([32, 8, 4, 1])]\n",
      "err  0.72919786 compression_rate  0.3198784722222222 rank  245 245\n",
      "torch.Size([3072, 768]) torch.Size([3072, 768])\n",
      "[torch.Size([1, 8, 4, 32]), torch.Size([32, 8, 6, 250]), torch.Size([250, 6, 8, 32]), torch.Size([32, 8, 4, 1])]\n",
      "err  0.7245138 compression_rate  0.3263888888888889 rank  250 250\n",
      "torch.Size([3072, 768]) torch.Size([3072, 768])\n",
      "[torch.Size([1, 8, 4, 32]), torch.Size([32, 8, 6, 255]), torch.Size([255, 6, 8, 32]), torch.Size([32, 8, 4, 1])]\n",
      "err  0.7198489 compression_rate  0.3328993055555556 rank  255 255\n",
      "torch.Size([3072, 768]) torch.Size([3072, 768])\n",
      "[torch.Size([1, 8, 4, 32]), torch.Size([32, 8, 6, 260]), torch.Size([260, 6, 8, 32]), torch.Size([32, 8, 4, 1])]\n",
      "err  0.7151973 compression_rate  0.3394097222222222 rank  260 260\n",
      "torch.Size([3072, 768]) torch.Size([3072, 768])\n",
      "[torch.Size([1, 8, 4, 32]), torch.Size([32, 8, 6, 265]), torch.Size([265, 6, 8, 32]), torch.Size([32, 8, 4, 1])]\n",
      "err  0.7105681 compression_rate  0.3459201388888889 rank  265 265\n",
      "torch.Size([3072, 768]) torch.Size([3072, 768])\n",
      "[torch.Size([1, 8, 4, 32]), torch.Size([32, 8, 6, 270]), torch.Size([270, 6, 8, 32]), torch.Size([32, 8, 4, 1])]\n",
      "err  0.7059581 compression_rate  0.3524305555555556 rank  270 270\n",
      "torch.Size([3072, 768]) torch.Size([3072, 768])\n",
      "[torch.Size([1, 8, 4, 32]), torch.Size([32, 8, 6, 275]), torch.Size([275, 6, 8, 32]), torch.Size([32, 8, 4, 1])]\n",
      "err  0.7013615 compression_rate  0.3589409722222222 rank  275 275\n",
      "torch.Size([3072, 768]) torch.Size([3072, 768])\n",
      "[torch.Size([1, 8, 4, 32]), torch.Size([32, 8, 6, 280]), torch.Size([280, 6, 8, 32]), torch.Size([32, 8, 4, 1])]\n",
      "err  0.69678134 compression_rate  0.3654513888888889 rank  280 280\n",
      "torch.Size([3072, 768]) torch.Size([3072, 768])\n",
      "[torch.Size([1, 8, 4, 32]), torch.Size([32, 8, 6, 285]), torch.Size([285, 6, 8, 32]), torch.Size([32, 8, 4, 1])]\n",
      "err  0.6922201 compression_rate  0.3719618055555556 rank  285 285\n",
      "torch.Size([3072, 768]) torch.Size([3072, 768])\n",
      "[torch.Size([1, 8, 4, 32]), torch.Size([32, 8, 6, 290]), torch.Size([290, 6, 8, 32]), torch.Size([32, 8, 4, 1])]\n",
      "err  0.68767697 compression_rate  0.3784722222222222 rank  290 290\n",
      "torch.Size([3072, 768]) torch.Size([3072, 768])\n",
      "[torch.Size([1, 8, 4, 32]), torch.Size([32, 8, 6, 295]), torch.Size([295, 6, 8, 32]), torch.Size([32, 8, 4, 1])]\n",
      "err  0.6831468 compression_rate  0.3849826388888889 rank  295 295\n",
      "torch.Size([3072, 768]) torch.Size([3072, 768])\n",
      "[torch.Size([1, 8, 4, 32]), torch.Size([32, 8, 6, 300]), torch.Size([300, 6, 8, 32]), torch.Size([32, 8, 4, 1])]\n",
      "err  0.6786392 compression_rate  0.3914930555555556 rank  300 300\n",
      "torch.Size([3072, 768]) torch.Size([3072, 768])\n",
      "[torch.Size([1, 8, 4, 32]), torch.Size([32, 8, 6, 305]), torch.Size([305, 6, 8, 32]), torch.Size([32, 8, 4, 1])]\n",
      "err  0.6741535 compression_rate  0.3980034722222222 rank  305 305\n",
      "torch.Size([3072, 768]) torch.Size([3072, 768])\n",
      "[torch.Size([1, 8, 4, 32]), torch.Size([32, 8, 6, 310]), torch.Size([310, 6, 8, 32]), torch.Size([32, 8, 4, 1])]\n",
      "err  0.669674 compression_rate  0.4045138888888889 rank  310 310\n",
      "torch.Size([3072, 768]) torch.Size([3072, 768])\n",
      "[torch.Size([1, 8, 4, 32]), torch.Size([32, 8, 6, 315]), torch.Size([315, 6, 8, 32]), torch.Size([32, 8, 4, 1])]\n",
      "err  0.66521674 compression_rate  0.4110243055555556 rank  315 315\n",
      "torch.Size([3072, 768]) torch.Size([3072, 768])\n",
      "[torch.Size([1, 8, 4, 32]), torch.Size([32, 8, 6, 320]), torch.Size([320, 6, 8, 32]), torch.Size([32, 8, 4, 1])]\n",
      "err  0.66079134 compression_rate  0.4175347222222222 rank  320 320\n",
      "torch.Size([3072, 768]) torch.Size([3072, 768])\n",
      "[torch.Size([1, 8, 4, 32]), torch.Size([32, 8, 6, 325]), torch.Size([325, 6, 8, 32]), torch.Size([32, 8, 4, 1])]\n",
      "err  0.65637445 compression_rate  0.4240451388888889 rank  325 325\n",
      "torch.Size([3072, 768]) torch.Size([3072, 768])\n",
      "[torch.Size([1, 8, 4, 32]), torch.Size([32, 8, 6, 330]), torch.Size([330, 6, 8, 32]), torch.Size([32, 8, 4, 1])]\n",
      "err  0.65196913 compression_rate  0.4305555555555556 rank  330 330\n",
      "torch.Size([3072, 768]) torch.Size([3072, 768])\n",
      "[torch.Size([1, 8, 4, 32]), torch.Size([32, 8, 6, 335]), torch.Size([335, 6, 8, 32]), torch.Size([32, 8, 4, 1])]\n",
      "err  0.6475853 compression_rate  0.4370659722222222 rank  335 335\n",
      "torch.Size([3072, 768]) torch.Size([3072, 768])\n",
      "[torch.Size([1, 8, 4, 32]), torch.Size([32, 8, 6, 340]), torch.Size([340, 6, 8, 32]), torch.Size([32, 8, 4, 1])]\n",
      "err  0.64321053 compression_rate  0.4435763888888889 rank  340 340\n",
      "torch.Size([3072, 768]) torch.Size([3072, 768])\n",
      "[torch.Size([1, 8, 4, 32]), torch.Size([32, 8, 6, 345]), torch.Size([345, 6, 8, 32]), torch.Size([32, 8, 4, 1])]\n",
      "err  0.63884926 compression_rate  0.4500868055555556 rank  345 345\n",
      "torch.Size([3072, 768]) torch.Size([3072, 768])\n",
      "[torch.Size([1, 8, 4, 32]), torch.Size([32, 8, 6, 350]), torch.Size([350, 6, 8, 32]), torch.Size([32, 8, 4, 1])]\n",
      "err  0.63450164 compression_rate  0.4565972222222222 rank  350 350\n",
      "torch.Size([3072, 768]) torch.Size([3072, 768])\n",
      "[torch.Size([1, 8, 4, 32]), torch.Size([32, 8, 6, 355]), torch.Size([355, 6, 8, 32]), torch.Size([32, 8, 4, 1])]\n",
      "err  0.63016665 compression_rate  0.4631076388888889 rank  355 355\n",
      "torch.Size([3072, 768]) torch.Size([3072, 768])\n",
      "[torch.Size([1, 8, 4, 32]), torch.Size([32, 8, 6, 360]), torch.Size([360, 6, 8, 32]), torch.Size([32, 8, 4, 1])]\n",
      "err  0.6258508 compression_rate  0.4696180555555556 rank  360 360\n",
      "torch.Size([3072, 768]) torch.Size([3072, 768])\n",
      "[torch.Size([1, 8, 4, 32]), torch.Size([32, 8, 6, 365]), torch.Size([365, 6, 8, 32]), torch.Size([32, 8, 4, 1])]\n",
      "err  0.62155014 compression_rate  0.4761284722222222 rank  365 365\n",
      "torch.Size([3072, 768]) torch.Size([3072, 768])\n",
      "[torch.Size([1, 8, 4, 32]), torch.Size([32, 8, 6, 370]), torch.Size([370, 6, 8, 32]), torch.Size([32, 8, 4, 1])]\n",
      "err  0.61726594 compression_rate  0.4826388888888889 rank  370 370\n",
      "torch.Size([3072, 768]) torch.Size([3072, 768])\n",
      "[torch.Size([1, 8, 4, 32]), torch.Size([32, 8, 6, 375]), torch.Size([375, 6, 8, 32]), torch.Size([32, 8, 4, 1])]\n",
      "err  0.61300886 compression_rate  0.4891493055555556 rank  375 375\n",
      "torch.Size([3072, 768]) torch.Size([3072, 768])\n",
      "[torch.Size([1, 8, 4, 32]), torch.Size([32, 8, 6, 380]), torch.Size([380, 6, 8, 32]), torch.Size([32, 8, 4, 1])]\n",
      "err  0.60876614 compression_rate  0.4956597222222222 rank  380 380\n",
      "torch.Size([3072, 768]) torch.Size([3072, 768])\n",
      "[torch.Size([1, 8, 4, 32]), torch.Size([32, 8, 6, 385]), torch.Size([385, 6, 8, 32]), torch.Size([32, 8, 4, 1])]\n",
      "err  0.6045334 compression_rate  0.5021701388888888 rank  385 385\n",
      "torch.Size([3072, 768]) torch.Size([3072, 768])\n",
      "[torch.Size([1, 8, 4, 32]), torch.Size([32, 8, 6, 390]), torch.Size([390, 6, 8, 32]), torch.Size([32, 8, 4, 1])]\n",
      "err  0.6003117 compression_rate  0.5086805555555556 rank  390 390\n",
      "torch.Size([3072, 768]) torch.Size([3072, 768])\n",
      "[torch.Size([1, 8, 4, 32]), torch.Size([32, 8, 6, 395]), torch.Size([395, 6, 8, 32]), torch.Size([32, 8, 4, 1])]\n",
      "err  0.59611213 compression_rate  0.5151909722222222 rank  395 395\n",
      "torch.Size([3072, 768]) torch.Size([3072, 768])\n",
      "[torch.Size([1, 8, 4, 32]), torch.Size([32, 8, 6, 400]), torch.Size([400, 6, 8, 32]), torch.Size([32, 8, 4, 1])]\n",
      "err  0.59192413 compression_rate  0.5217013888888888 rank  400 400\n",
      "torch.Size([3072, 768]) torch.Size([3072, 768])\n",
      "[torch.Size([1, 8, 4, 32]), torch.Size([32, 8, 6, 405]), torch.Size([405, 6, 8, 32]), torch.Size([32, 8, 4, 1])]\n",
      "err  0.58775157 compression_rate  0.5282118055555556 rank  405 405\n",
      "torch.Size([3072, 768]) torch.Size([3072, 768])\n",
      "[torch.Size([1, 8, 4, 32]), torch.Size([32, 8, 6, 410]), torch.Size([410, 6, 8, 32]), torch.Size([32, 8, 4, 1])]\n",
      "err  0.58359635 compression_rate  0.5347222222222222 rank  410 410\n",
      "torch.Size([3072, 768]) torch.Size([3072, 768])\n",
      "[torch.Size([1, 8, 4, 32]), torch.Size([32, 8, 6, 415]), torch.Size([415, 6, 8, 32]), torch.Size([32, 8, 4, 1])]\n",
      "err  0.57945806 compression_rate  0.5412326388888888 rank  415 415\n",
      "torch.Size([3072, 768]) torch.Size([3072, 768])\n",
      "[torch.Size([1, 8, 4, 32]), torch.Size([32, 8, 6, 420]), torch.Size([420, 6, 8, 32]), torch.Size([32, 8, 4, 1])]\n",
      "err  0.5753291 compression_rate  0.5477430555555556 rank  420 420\n",
      "torch.Size([3072, 768]) torch.Size([3072, 768])\n",
      "[torch.Size([1, 8, 4, 32]), torch.Size([32, 8, 6, 425]), torch.Size([425, 6, 8, 32]), torch.Size([32, 8, 4, 1])]\n",
      "err  0.5712071 compression_rate  0.5542534722222222 rank  425 425\n",
      "torch.Size([3072, 768]) torch.Size([3072, 768])\n",
      "[torch.Size([1, 8, 4, 32]), torch.Size([32, 8, 6, 430]), torch.Size([430, 6, 8, 32]), torch.Size([32, 8, 4, 1])]\n",
      "err  0.56710273 compression_rate  0.5607638888888888 rank  430 430\n",
      "torch.Size([3072, 768]) torch.Size([3072, 768])\n",
      "[torch.Size([1, 8, 4, 32]), torch.Size([32, 8, 6, 435]), torch.Size([435, 6, 8, 32]), torch.Size([32, 8, 4, 1])]\n",
      "err  0.56301504 compression_rate  0.5672743055555556 rank  435 435\n",
      "torch.Size([3072, 768]) torch.Size([3072, 768])\n",
      "[torch.Size([1, 8, 4, 32]), torch.Size([32, 8, 6, 440]), torch.Size([440, 6, 8, 32]), torch.Size([32, 8, 4, 1])]\n",
      "err  0.55894244 compression_rate  0.5737847222222222 rank  440 440\n",
      "torch.Size([3072, 768]) torch.Size([3072, 768])\n",
      "[torch.Size([1, 8, 4, 32]), torch.Size([32, 8, 6, 445]), torch.Size([445, 6, 8, 32]), torch.Size([32, 8, 4, 1])]\n",
      "err  0.5548805 compression_rate  0.5802951388888888 rank  445 445\n",
      "torch.Size([3072, 768]) torch.Size([3072, 768])\n",
      "[torch.Size([1, 8, 4, 32]), torch.Size([32, 8, 6, 450]), torch.Size([450, 6, 8, 32]), torch.Size([32, 8, 4, 1])]\n",
      "err  0.5508316 compression_rate  0.5868055555555556 rank  450 450\n",
      "torch.Size([3072, 768]) torch.Size([3072, 768])\n",
      "[torch.Size([1, 8, 4, 32]), torch.Size([32, 8, 6, 455]), torch.Size([455, 6, 8, 32]), torch.Size([32, 8, 4, 1])]\n",
      "err  0.5467974 compression_rate  0.5933159722222222 rank  455 455\n",
      "torch.Size([3072, 768]) torch.Size([3072, 768])\n",
      "[torch.Size([1, 8, 4, 32]), torch.Size([32, 8, 6, 460]), torch.Size([460, 6, 8, 32]), torch.Size([32, 8, 4, 1])]\n",
      "err  0.5427711 compression_rate  0.5998263888888888 rank  460 460\n",
      "torch.Size([3072, 768]) torch.Size([3072, 768])\n",
      "[torch.Size([1, 8, 4, 32]), torch.Size([32, 8, 6, 465]), torch.Size([465, 6, 8, 32]), torch.Size([32, 8, 4, 1])]\n",
      "err  0.53876925 compression_rate  0.6063368055555556 rank  465 465\n",
      "torch.Size([3072, 768]) torch.Size([3072, 768])\n",
      "[torch.Size([1, 8, 4, 32]), torch.Size([32, 8, 6, 470]), torch.Size([470, 6, 8, 32]), torch.Size([32, 8, 4, 1])]\n",
      "err  0.5347726 compression_rate  0.6128472222222222 rank  470 470\n",
      "torch.Size([3072, 768]) torch.Size([3072, 768])\n",
      "[torch.Size([1, 8, 4, 32]), torch.Size([32, 8, 6, 475]), torch.Size([475, 6, 8, 32]), torch.Size([32, 8, 4, 1])]\n",
      "err  0.5307914 compression_rate  0.6193576388888888 rank  475 475\n",
      "torch.Size([3072, 768]) torch.Size([3072, 768])\n",
      "[torch.Size([1, 8, 4, 32]), torch.Size([32, 8, 6, 480]), torch.Size([480, 6, 8, 32]), torch.Size([32, 8, 4, 1])]\n",
      "err  0.5268243 compression_rate  0.6258680555555556 rank  480 480\n",
      "torch.Size([3072, 768]) torch.Size([3072, 768])\n",
      "[torch.Size([1, 8, 4, 32]), torch.Size([32, 8, 6, 485]), torch.Size([485, 6, 8, 32]), torch.Size([32, 8, 4, 1])]\n",
      "err  0.5228709 compression_rate  0.6323784722222222 rank  485 485\n",
      "torch.Size([3072, 768]) torch.Size([3072, 768])\n",
      "[torch.Size([1, 8, 4, 32]), torch.Size([32, 8, 6, 490]), torch.Size([490, 6, 8, 32]), torch.Size([32, 8, 4, 1])]\n",
      "err  0.51894116 compression_rate  0.6388888888888888 rank  490 490\n",
      "torch.Size([3072, 768]) torch.Size([3072, 768])\n",
      "[torch.Size([1, 8, 4, 32]), torch.Size([32, 8, 6, 495]), torch.Size([495, 6, 8, 32]), torch.Size([32, 8, 4, 1])]\n",
      "err  0.5150154 compression_rate  0.6453993055555556 rank  495 495\n",
      "torch.Size([3072, 768]) torch.Size([3072, 768])\n",
      "[torch.Size([1, 8, 4, 32]), torch.Size([32, 8, 6, 500]), torch.Size([500, 6, 8, 32]), torch.Size([32, 8, 4, 1])]\n",
      "err  0.51110375 compression_rate  0.6519097222222222 rank  500 500\n",
      "torch.Size([3072, 768]) torch.Size([3072, 768])\n",
      "[torch.Size([1, 8, 4, 32]), torch.Size([32, 8, 6, 505]), torch.Size([505, 6, 8, 32]), torch.Size([32, 8, 4, 1])]\n",
      "err  0.50720817 compression_rate  0.6584201388888888 rank  505 505\n",
      "torch.Size([3072, 768]) torch.Size([3072, 768])\n",
      "[torch.Size([1, 8, 4, 32]), torch.Size([32, 8, 6, 510]), torch.Size([510, 6, 8, 32]), torch.Size([32, 8, 4, 1])]\n",
      "err  0.5033254 compression_rate  0.6649305555555556 rank  510 510\n",
      "torch.Size([3072, 768]) torch.Size([3072, 768])\n",
      "[torch.Size([1, 8, 4, 32]), torch.Size([32, 8, 6, 515]), torch.Size([515, 6, 8, 32]), torch.Size([32, 8, 4, 1])]\n",
      "err  0.49945608 compression_rate  0.6714409722222222 rank  515 515\n",
      "torch.Size([3072, 768]) torch.Size([3072, 768])\n",
      "[torch.Size([1, 8, 4, 32]), torch.Size([32, 8, 6, 520]), torch.Size([520, 6, 8, 32]), torch.Size([32, 8, 4, 1])]\n",
      "err  0.49560472 compression_rate  0.6779513888888888 rank  520 520\n",
      "torch.Size([3072, 768]) torch.Size([3072, 768])\n",
      "[torch.Size([1, 8, 4, 32]), torch.Size([32, 8, 6, 525]), torch.Size([525, 6, 8, 32]), torch.Size([32, 8, 4, 1])]\n",
      "err  0.49176183 compression_rate  0.6844618055555556 rank  525 525\n",
      "torch.Size([3072, 768]) torch.Size([3072, 768])\n",
      "[torch.Size([1, 8, 4, 32]), torch.Size([32, 8, 6, 530]), torch.Size([530, 6, 8, 32]), torch.Size([32, 8, 4, 1])]\n",
      "err  0.487934 compression_rate  0.6909722222222222 rank  530 530\n",
      "torch.Size([3072, 768]) torch.Size([3072, 768])\n",
      "[torch.Size([1, 8, 4, 32]), torch.Size([32, 8, 6, 535]), torch.Size([535, 6, 8, 32]), torch.Size([32, 8, 4, 1])]\n",
      "err  0.48411894 compression_rate  0.6974826388888888 rank  535 535\n",
      "torch.Size([3072, 768]) torch.Size([3072, 768])\n",
      "[torch.Size([1, 8, 4, 32]), torch.Size([32, 8, 6, 540]), torch.Size([540, 6, 8, 32]), torch.Size([32, 8, 4, 1])]\n",
      "err  0.4803221 compression_rate  0.7039930555555556 rank  540 540\n"
     ]
    }
   ],
   "source": [
    "output_dims = [4, 6, 8, 4]\n",
    "input_dims = [8, 8, 6, 8]\n",
    "ranks = [50, 50]\n",
    "\n",
    "errs1_m = []\n",
    "ranks1_m = []\n",
    "c_rates1_m = []\n",
    "\n",
    "compression_rate = 0.001\n",
    "\n",
    "err = 10.0\n",
    "rank1 = 40\n",
    "rank2 = 40\n",
    "step = 5\n",
    "\n",
    "while (compression_rate < 0.7):\n",
    "    \n",
    "    factors = tn.TTMatrix(fc_w, ranks=[rank1, rank2, rank1], input_dims=input_dims, output_dims=output_dims)\n",
    "    new_B = factors.torch()\n",
    "    print (fc_w.shape, new_B.shape)\n",
    "    err = np.linalg.norm(new_B.detach().numpy() - fc_w.detach().numpy())/np.linalg.norm(fc_w.detach().numpy())\n",
    "    print ([elem.shape for elem in factors.cores])\n",
    "    compression_rate = (np.sum(list(np.prod(elem.shape) for elem in factors.cores))/(np.prod(fc_w.shape)))\n",
    "    print (\"err \", err, \"compression_rate \", compression_rate, \"rank \", rank1, rank2)\n",
    "    errs1_m.append(err)\n",
    "    ranks1_m.append(rank1)\n",
    "    c_rates1_m.append(compression_rate)\n",
    "    rank1 += step\n",
    "    rank2 += step"
   ]
  },
  {
   "cell_type": "code",
   "execution_count": null,
   "metadata": {},
   "outputs": [],
   "source": [
    "fc_w.shape"
   ]
  },
  {
   "cell_type": "code",
   "execution_count": null,
   "metadata": {},
   "outputs": [],
   "source": [
    "output_dims = [4, 6, 8, 4]\n",
    "input_dims = [8, 8, 6, 8]\n",
    "ranks = [50, 50]\n",
    "\n",
    "errs1_m = []\n",
    "ranks1_m = []\n",
    "c_rates1_m = []\n",
    "\n",
    "compression_rate = 0.001\n",
    "\n",
    "err = 10.0\n",
    "rank1 = 20\n",
    "rank2 = 20\n",
    "step = 10\n",
    "\n",
    "while (compression_rate < 0.7):\n",
    "    \n",
    "    factors = tn.TTMatrix(fc_w, ranks=[rank1, rank2, rank1], input_dims=input_dims, output_dims=output_dims)\n",
    "    new_B = factors.torch()\n",
    "    print (fc_w.shape, new_B.shape)\n",
    "    err = np.linalg.norm(new_B.detach().numpy() - fc_w.detach().numpy())/np.linalg.norm(fc_w.detach().numpy())\n",
    "    print ([elem.shape for elem in factors.cores])\n",
    "    compression_rate = (np.sum(list(np.prod(elem.shape) for elem in factors.cores))/(np.prod(fc_w.shape)))\n",
    "    print (\"err \", err, \"compression_rate \", compression_rate, \"rank \", rank1, rank2)\n",
    "    errs1_m.append(err)\n",
    "    ranks1_m.append(rank1)\n",
    "    c_rates1_m.append(compression_rate)\n",
    "    rank1 += step"
   ]
  },
  {
   "cell_type": "code",
   "execution_count": 28,
   "metadata": {},
   "outputs": [
    {
     "name": "stdout",
     "output_type": "stream",
     "text": [
      "torch.Size([3072, 768]) torch.Size([24, 32, 64, 48])\n",
      "[torch.Size([1, 24, 10]), torch.Size([10, 32, 20]), torch.Size([20, 64, 15]), torch.Size([15, 48, 1])]\n",
      "err  0.97617275 compression_rate  0.011257595486111112 rank  10 20 15\n",
      "torch.Size([3072, 768]) torch.Size([24, 32, 64, 48])\n",
      "[torch.Size([1, 24, 15]), torch.Size([15, 32, 25]), torch.Size([25, 64, 20]), torch.Size([20, 48, 1])]\n",
      "err  0.96615803 compression_rate  0.019209120008680556 rank  15 25 20\n",
      "torch.Size([3072, 768]) torch.Size([24, 32, 64, 48])\n",
      "[torch.Size([1, 24, 20]), torch.Size([20, 32, 30]), torch.Size([30, 64, 25]), torch.Size([25, 48, 1])]\n",
      "err  0.95295525 compression_rate  0.029195149739583332 rank  20 30 25\n",
      "torch.Size([3072, 768]) torch.Size([24, 32, 64, 48])\n",
      "[torch.Size([1, 24, 24]), torch.Size([24, 32, 35]), torch.Size([35, 64, 30]), torch.Size([30, 48, 1])]\n",
      "err  0.93770576 compression_rate  0.040730794270833336 rank  25 35 30\n",
      "torch.Size([3072, 768]) torch.Size([24, 32, 64, 48])\n",
      "[torch.Size([1, 24, 24]), torch.Size([24, 32, 40]), torch.Size([40, 64, 35]), torch.Size([35, 48, 1])]\n",
      "err  0.9259018 compression_rate  0.05195448133680555 rank  30 40 35\n",
      "torch.Size([3072, 768]) torch.Size([24, 32, 64, 48])\n",
      "[torch.Size([1, 24, 24]), torch.Size([24, 32, 45]), torch.Size([45, 64, 40]), torch.Size([40, 48, 1])]\n",
      "err  0.9135224 compression_rate  0.06453450520833333 rank  35 45 40\n",
      "torch.Size([3072, 768]) torch.Size([24, 32, 64, 48])\n",
      "[torch.Size([1, 24, 24]), torch.Size([24, 32, 50]), torch.Size([50, 64, 45]), torch.Size([45, 48, 1])]\n",
      "err  0.9003899 compression_rate  0.07847086588541667 rank  40 50 45\n",
      "torch.Size([3072, 768]) torch.Size([24, 32, 64, 48])\n",
      "[torch.Size([1, 24, 24]), torch.Size([24, 32, 55]), torch.Size([55, 64, 48]), torch.Size([48, 48, 1])]\n",
      "err  0.8892997 compression_rate  0.09073893229166667 rank  45 55 50\n",
      "torch.Size([3072, 768]) torch.Size([24, 32, 64, 48])\n",
      "[torch.Size([1, 24, 24]), torch.Size([24, 32, 60]), torch.Size([60, 64, 48]), torch.Size([48, 48, 1])]\n",
      "err  0.8820173 compression_rate  0.098876953125 rank  50 60 55\n",
      "torch.Size([3072, 768]) torch.Size([24, 32, 64, 48])\n",
      "[torch.Size([1, 24, 24]), torch.Size([24, 32, 65]), torch.Size([65, 64, 48]), torch.Size([48, 48, 1])]\n",
      "err  0.87482095 compression_rate  0.10701497395833333 rank  55 65 60\n",
      "torch.Size([3072, 768]) torch.Size([24, 32, 64, 48])\n",
      "[torch.Size([1, 24, 24]), torch.Size([24, 32, 70]), torch.Size([70, 64, 48]), torch.Size([48, 48, 1])]\n",
      "err  0.8677217 compression_rate  0.11515299479166667 rank  60 70 65\n",
      "torch.Size([3072, 768]) torch.Size([24, 32, 64, 48])\n",
      "[torch.Size([1, 24, 24]), torch.Size([24, 32, 75]), torch.Size([75, 64, 48]), torch.Size([48, 48, 1])]\n",
      "err  0.86072 compression_rate  0.123291015625 rank  65 75 70\n",
      "torch.Size([3072, 768]) torch.Size([24, 32, 64, 48])\n",
      "[torch.Size([1, 24, 24]), torch.Size([24, 32, 80]), torch.Size([80, 64, 48]), torch.Size([48, 48, 1])]\n",
      "err  0.8537918 compression_rate  0.13142903645833334 rank  70 80 75\n",
      "torch.Size([3072, 768]) torch.Size([24, 32, 64, 48])\n",
      "[torch.Size([1, 24, 24]), torch.Size([24, 32, 85]), torch.Size([85, 64, 48]), torch.Size([48, 48, 1])]\n",
      "err  0.84691 compression_rate  0.13956705729166666 rank  75 85 80\n",
      "torch.Size([3072, 768]) torch.Size([24, 32, 64, 48])\n",
      "[torch.Size([1, 24, 24]), torch.Size([24, 32, 90]), torch.Size([90, 64, 48]), torch.Size([48, 48, 1])]\n",
      "err  0.84011614 compression_rate  0.147705078125 rank  80 90 85\n",
      "torch.Size([3072, 768]) torch.Size([24, 32, 64, 48])\n",
      "[torch.Size([1, 24, 24]), torch.Size([24, 32, 95]), torch.Size([95, 64, 48]), torch.Size([48, 48, 1])]\n",
      "err  0.8333805 compression_rate  0.15584309895833334 rank  85 95 90\n",
      "torch.Size([3072, 768]) torch.Size([24, 32, 64, 48])\n",
      "[torch.Size([1, 24, 24]), torch.Size([24, 32, 100]), torch.Size([100, 64, 48]), torch.Size([48, 48, 1])]\n",
      "err  0.82669026 compression_rate  0.16398111979166666 rank  90 100 95\n",
      "torch.Size([3072, 768]) torch.Size([24, 32, 64, 48])\n",
      "[torch.Size([1, 24, 24]), torch.Size([24, 32, 105]), torch.Size([105, 64, 48]), torch.Size([48, 48, 1])]\n",
      "err  0.8200487 compression_rate  0.172119140625 rank  95 105 100\n",
      "torch.Size([3072, 768]) torch.Size([24, 32, 64, 48])\n",
      "[torch.Size([1, 24, 24]), torch.Size([24, 32, 110]), torch.Size([110, 64, 48]), torch.Size([48, 48, 1])]\n",
      "err  0.813465 compression_rate  0.18025716145833334 rank  100 110 105\n",
      "torch.Size([3072, 768]) torch.Size([24, 32, 64, 48])\n",
      "[torch.Size([1, 24, 24]), torch.Size([24, 32, 115]), torch.Size([115, 64, 48]), torch.Size([48, 48, 1])]\n",
      "err  0.8069243 compression_rate  0.18839518229166666 rank  105 115 110\n",
      "torch.Size([3072, 768]) torch.Size([24, 32, 64, 48])\n",
      "[torch.Size([1, 24, 24]), torch.Size([24, 32, 120]), torch.Size([120, 64, 48]), torch.Size([48, 48, 1])]\n",
      "err  0.8004296 compression_rate  0.196533203125 rank  110 120 115\n",
      "torch.Size([3072, 768]) torch.Size([24, 32, 64, 48])\n",
      "[torch.Size([1, 24, 24]), torch.Size([24, 32, 125]), torch.Size([125, 64, 48]), torch.Size([48, 48, 1])]\n",
      "err  0.7939907 compression_rate  0.20467122395833334 rank  115 125 120\n",
      "torch.Size([3072, 768]) torch.Size([24, 32, 64, 48])\n",
      "[torch.Size([1, 24, 24]), torch.Size([24, 32, 130]), torch.Size([130, 64, 48]), torch.Size([48, 48, 1])]\n",
      "err  0.7875856 compression_rate  0.21280924479166666 rank  120 130 125\n",
      "torch.Size([3072, 768]) torch.Size([24, 32, 64, 48])\n",
      "[torch.Size([1, 24, 24]), torch.Size([24, 32, 135]), torch.Size([135, 64, 48]), torch.Size([48, 48, 1])]\n",
      "err  0.781233 compression_rate  0.220947265625 rank  125 135 130\n",
      "torch.Size([3072, 768]) torch.Size([24, 32, 64, 48])\n",
      "[torch.Size([1, 24, 24]), torch.Size([24, 32, 140]), torch.Size([140, 64, 48]), torch.Size([48, 48, 1])]\n",
      "err  0.7749224 compression_rate  0.22908528645833334 rank  130 140 135\n",
      "torch.Size([3072, 768]) torch.Size([24, 32, 64, 48])\n",
      "[torch.Size([1, 24, 24]), torch.Size([24, 32, 145]), torch.Size([145, 64, 48]), torch.Size([48, 48, 1])]\n",
      "err  0.76864624 compression_rate  0.23722330729166666 rank  135 145 140\n",
      "torch.Size([3072, 768]) torch.Size([24, 32, 64, 48])\n",
      "[torch.Size([1, 24, 24]), torch.Size([24, 32, 150]), torch.Size([150, 64, 48]), torch.Size([48, 48, 1])]\n",
      "err  0.7624052 compression_rate  0.245361328125 rank  140 150 145\n",
      "torch.Size([3072, 768]) torch.Size([24, 32, 64, 48])\n",
      "[torch.Size([1, 24, 24]), torch.Size([24, 32, 155]), torch.Size([155, 64, 48]), torch.Size([48, 48, 1])]\n",
      "err  0.75621694 compression_rate  0.2534993489583333 rank  145 155 150\n",
      "torch.Size([3072, 768]) torch.Size([24, 32, 64, 48])\n",
      "[torch.Size([1, 24, 24]), torch.Size([24, 32, 160]), torch.Size([160, 64, 48]), torch.Size([48, 48, 1])]\n",
      "err  0.7500466 compression_rate  0.2616373697916667 rank  150 160 155\n",
      "torch.Size([3072, 768]) torch.Size([24, 32, 64, 48])\n",
      "[torch.Size([1, 24, 24]), torch.Size([24, 32, 165]), torch.Size([165, 64, 48]), torch.Size([48, 48, 1])]\n",
      "err  0.74391687 compression_rate  0.269775390625 rank  155 165 160\n",
      "torch.Size([3072, 768]) torch.Size([24, 32, 64, 48])\n",
      "[torch.Size([1, 24, 24]), torch.Size([24, 32, 170]), torch.Size([170, 64, 48]), torch.Size([48, 48, 1])]\n",
      "err  0.73782563 compression_rate  0.2779134114583333 rank  160 170 165\n",
      "torch.Size([3072, 768]) torch.Size([24, 32, 64, 48])\n",
      "[torch.Size([1, 24, 24]), torch.Size([24, 32, 175]), torch.Size([175, 64, 48]), torch.Size([48, 48, 1])]\n",
      "err  0.73175305 compression_rate  0.2860514322916667 rank  165 175 170\n",
      "torch.Size([3072, 768]) torch.Size([24, 32, 64, 48])\n",
      "[torch.Size([1, 24, 24]), torch.Size([24, 32, 180]), torch.Size([180, 64, 48]), torch.Size([48, 48, 1])]\n",
      "err  0.7257117 compression_rate  0.294189453125 rank  170 180 175\n",
      "torch.Size([3072, 768]) torch.Size([24, 32, 64, 48])\n",
      "[torch.Size([1, 24, 24]), torch.Size([24, 32, 185]), torch.Size([185, 64, 48]), torch.Size([48, 48, 1])]\n",
      "err  0.719711 compression_rate  0.3023274739583333 rank  175 185 180\n",
      "torch.Size([3072, 768]) torch.Size([24, 32, 64, 48])\n",
      "[torch.Size([1, 24, 24]), torch.Size([24, 32, 190]), torch.Size([190, 64, 48]), torch.Size([48, 48, 1])]\n",
      "err  0.71373034 compression_rate  0.3104654947916667 rank  180 190 185\n",
      "torch.Size([3072, 768]) torch.Size([24, 32, 64, 48])\n",
      "[torch.Size([1, 24, 24]), torch.Size([24, 32, 195]), torch.Size([195, 64, 48]), torch.Size([48, 48, 1])]\n",
      "err  0.7077823 compression_rate  0.318603515625 rank  185 195 190\n",
      "torch.Size([3072, 768]) torch.Size([24, 32, 64, 48])\n",
      "[torch.Size([1, 24, 24]), torch.Size([24, 32, 200]), torch.Size([200, 64, 48]), torch.Size([48, 48, 1])]\n",
      "err  0.7018702 compression_rate  0.3267415364583333 rank  190 200 195\n",
      "torch.Size([3072, 768]) torch.Size([24, 32, 64, 48])\n",
      "[torch.Size([1, 24, 24]), torch.Size([24, 32, 205]), torch.Size([205, 64, 48]), torch.Size([48, 48, 1])]\n",
      "err  0.695965 compression_rate  0.3348795572916667 rank  195 205 200\n",
      "torch.Size([3072, 768]) torch.Size([24, 32, 64, 48])\n",
      "[torch.Size([1, 24, 24]), torch.Size([24, 32, 210]), torch.Size([210, 64, 48]), torch.Size([48, 48, 1])]\n",
      "err  0.6900783 compression_rate  0.343017578125 rank  200 210 205\n",
      "torch.Size([3072, 768]) torch.Size([24, 32, 64, 48])\n",
      "[torch.Size([1, 24, 24]), torch.Size([24, 32, 215]), torch.Size([215, 64, 48]), torch.Size([48, 48, 1])]\n",
      "err  0.6842115 compression_rate  0.3511555989583333 rank  205 215 210\n",
      "torch.Size([3072, 768]) torch.Size([24, 32, 64, 48])\n",
      "[torch.Size([1, 24, 24]), torch.Size([24, 32, 220]), torch.Size([220, 64, 48]), torch.Size([48, 48, 1])]\n",
      "err  0.6783914 compression_rate  0.3592936197916667 rank  210 220 215\n",
      "torch.Size([3072, 768]) torch.Size([24, 32, 64, 48])\n",
      "[torch.Size([1, 24, 24]), torch.Size([24, 32, 225]), torch.Size([225, 64, 48]), torch.Size([48, 48, 1])]\n",
      "err  0.67258584 compression_rate  0.367431640625 rank  215 225 220\n",
      "torch.Size([3072, 768]) torch.Size([24, 32, 64, 48])\n",
      "[torch.Size([1, 24, 24]), torch.Size([24, 32, 230]), torch.Size([230, 64, 48]), torch.Size([48, 48, 1])]\n",
      "err  0.6668001 compression_rate  0.3755696614583333 rank  220 230 225\n",
      "torch.Size([3072, 768]) torch.Size([24, 32, 64, 48])\n",
      "[torch.Size([1, 24, 24]), torch.Size([24, 32, 235]), torch.Size([235, 64, 48]), torch.Size([48, 48, 1])]\n",
      "err  0.6610439 compression_rate  0.3837076822916667 rank  225 235 230\n",
      "torch.Size([3072, 768]) torch.Size([24, 32, 64, 48])\n",
      "[torch.Size([1, 24, 24]), torch.Size([24, 32, 240]), torch.Size([240, 64, 48]), torch.Size([48, 48, 1])]\n",
      "err  0.65530074 compression_rate  0.391845703125 rank  230 240 235\n",
      "torch.Size([3072, 768]) torch.Size([24, 32, 64, 48])\n",
      "[torch.Size([1, 24, 24]), torch.Size([24, 32, 245]), torch.Size([245, 64, 48]), torch.Size([48, 48, 1])]\n",
      "err  0.649592 compression_rate  0.3999837239583333 rank  235 245 240\n",
      "torch.Size([3072, 768]) torch.Size([24, 32, 64, 48])\n",
      "[torch.Size([1, 24, 24]), torch.Size([24, 32, 250]), torch.Size([250, 64, 48]), torch.Size([48, 48, 1])]\n",
      "err  0.64390004 compression_rate  0.4081217447916667 rank  240 250 245\n",
      "torch.Size([3072, 768]) torch.Size([24, 32, 64, 48])\n",
      "[torch.Size([1, 24, 24]), torch.Size([24, 32, 255]), torch.Size([255, 64, 48]), torch.Size([48, 48, 1])]\n",
      "err  0.63823044 compression_rate  0.416259765625 rank  245 255 250\n",
      "torch.Size([3072, 768]) torch.Size([24, 32, 64, 48])\n",
      "[torch.Size([1, 24, 24]), torch.Size([24, 32, 260]), torch.Size([260, 64, 48]), torch.Size([48, 48, 1])]\n",
      "err  0.6325847 compression_rate  0.4243977864583333 rank  250 260 255\n",
      "torch.Size([3072, 768]) torch.Size([24, 32, 64, 48])\n",
      "[torch.Size([1, 24, 24]), torch.Size([24, 32, 265]), torch.Size([265, 64, 48]), torch.Size([48, 48, 1])]\n",
      "err  0.6269521 compression_rate  0.4325358072916667 rank  255 265 260\n",
      "torch.Size([3072, 768]) torch.Size([24, 32, 64, 48])\n",
      "[torch.Size([1, 24, 24]), torch.Size([24, 32, 270]), torch.Size([270, 64, 48]), torch.Size([48, 48, 1])]\n",
      "err  0.62134796 compression_rate  0.440673828125 rank  260 270 265\n",
      "torch.Size([3072, 768]) torch.Size([24, 32, 64, 48])\n",
      "[torch.Size([1, 24, 24]), torch.Size([24, 32, 275]), torch.Size([275, 64, 48]), torch.Size([48, 48, 1])]\n",
      "err  0.6157589 compression_rate  0.4488118489583333 rank  265 275 270\n",
      "torch.Size([3072, 768]) torch.Size([24, 32, 64, 48])\n",
      "[torch.Size([1, 24, 24]), torch.Size([24, 32, 280]), torch.Size([280, 64, 48]), torch.Size([48, 48, 1])]\n",
      "err  0.61018616 compression_rate  0.4569498697916667 rank  270 280 275\n",
      "torch.Size([3072, 768]) torch.Size([24, 32, 64, 48])\n",
      "[torch.Size([1, 24, 24]), torch.Size([24, 32, 285]), torch.Size([285, 64, 48]), torch.Size([48, 48, 1])]\n",
      "err  0.6046299 compression_rate  0.465087890625 rank  275 285 280\n",
      "torch.Size([3072, 768]) torch.Size([24, 32, 64, 48])\n",
      "[torch.Size([1, 24, 24]), torch.Size([24, 32, 290]), torch.Size([290, 64, 48]), torch.Size([48, 48, 1])]\n",
      "err  0.59909195 compression_rate  0.4732259114583333 rank  280 290 285\n",
      "torch.Size([3072, 768]) torch.Size([24, 32, 64, 48])\n",
      "[torch.Size([1, 24, 24]), torch.Size([24, 32, 295]), torch.Size([295, 64, 48]), torch.Size([48, 48, 1])]\n",
      "err  0.5935684 compression_rate  0.4813639322916667 rank  285 295 290\n",
      "torch.Size([3072, 768]) torch.Size([24, 32, 64, 48])\n",
      "[torch.Size([1, 24, 24]), torch.Size([24, 32, 300]), torch.Size([300, 64, 48]), torch.Size([48, 48, 1])]\n",
      "err  0.5880609 compression_rate  0.489501953125 rank  290 300 295\n",
      "torch.Size([3072, 768]) torch.Size([24, 32, 64, 48])\n",
      "[torch.Size([1, 24, 24]), torch.Size([24, 32, 305]), torch.Size([305, 64, 48]), torch.Size([48, 48, 1])]\n",
      "err  0.5825563 compression_rate  0.4976399739583333 rank  295 305 300\n",
      "torch.Size([3072, 768]) torch.Size([24, 32, 64, 48])\n",
      "[torch.Size([1, 24, 24]), torch.Size([24, 32, 310]), torch.Size([310, 64, 48]), torch.Size([48, 48, 1])]\n",
      "err  0.577066 compression_rate  0.5057779947916666 rank  300 310 305\n",
      "torch.Size([3072, 768]) torch.Size([24, 32, 64, 48])\n",
      "[torch.Size([1, 24, 24]), torch.Size([24, 32, 315]), torch.Size([315, 64, 48]), torch.Size([48, 48, 1])]\n",
      "err  0.5715885 compression_rate  0.513916015625 rank  305 315 310\n",
      "torch.Size([3072, 768]) torch.Size([24, 32, 64, 48])\n",
      "[torch.Size([1, 24, 24]), torch.Size([24, 32, 320]), torch.Size([320, 64, 48]), torch.Size([48, 48, 1])]\n",
      "err  0.5661263 compression_rate  0.5220540364583334 rank  310 320 315\n",
      "torch.Size([3072, 768]) torch.Size([24, 32, 64, 48])\n",
      "[torch.Size([1, 24, 24]), torch.Size([24, 32, 325]), torch.Size([325, 64, 48]), torch.Size([48, 48, 1])]\n",
      "err  0.56068254 compression_rate  0.5301920572916666 rank  315 325 320\n",
      "torch.Size([3072, 768]) torch.Size([24, 32, 64, 48])\n",
      "[torch.Size([1, 24, 24]), torch.Size([24, 32, 330]), torch.Size([330, 64, 48]), torch.Size([48, 48, 1])]\n",
      "err  0.55525684 compression_rate  0.538330078125 rank  320 330 325\n",
      "torch.Size([3072, 768]) torch.Size([24, 32, 64, 48])\n",
      "[torch.Size([1, 24, 24]), torch.Size([24, 32, 335]), torch.Size([335, 64, 48]), torch.Size([48, 48, 1])]\n",
      "err  0.54983807 compression_rate  0.5464680989583334 rank  325 335 330\n",
      "torch.Size([3072, 768]) torch.Size([24, 32, 64, 48])\n",
      "[torch.Size([1, 24, 24]), torch.Size([24, 32, 340]), torch.Size([340, 64, 48]), torch.Size([48, 48, 1])]\n",
      "err  0.54444027 compression_rate  0.5546061197916666 rank  330 340 335\n",
      "torch.Size([3072, 768]) torch.Size([24, 32, 64, 48])\n",
      "[torch.Size([1, 24, 24]), torch.Size([24, 32, 345]), torch.Size([345, 64, 48]), torch.Size([48, 48, 1])]\n",
      "err  0.53904533 compression_rate  0.562744140625 rank  335 345 340\n",
      "torch.Size([3072, 768]) torch.Size([24, 32, 64, 48])\n",
      "[torch.Size([1, 24, 24]), torch.Size([24, 32, 350]), torch.Size([350, 64, 48]), torch.Size([48, 48, 1])]\n",
      "err  0.53365743 compression_rate  0.5708821614583334 rank  340 350 345\n",
      "torch.Size([3072, 768]) torch.Size([24, 32, 64, 48])\n",
      "[torch.Size([1, 24, 24]), torch.Size([24, 32, 355]), torch.Size([355, 64, 48]), torch.Size([48, 48, 1])]\n",
      "err  0.5282806 compression_rate  0.5790201822916666 rank  345 355 350\n",
      "torch.Size([3072, 768]) torch.Size([24, 32, 64, 48])\n",
      "[torch.Size([1, 24, 24]), torch.Size([24, 32, 360]), torch.Size([360, 64, 48]), torch.Size([48, 48, 1])]\n",
      "err  0.52291846 compression_rate  0.587158203125 rank  350 360 355\n",
      "torch.Size([3072, 768]) torch.Size([24, 32, 64, 48])\n",
      "[torch.Size([1, 24, 24]), torch.Size([24, 32, 365]), torch.Size([365, 64, 48]), torch.Size([48, 48, 1])]\n",
      "err  0.5175669 compression_rate  0.5952962239583334 rank  355 365 360\n",
      "torch.Size([3072, 768]) torch.Size([24, 32, 64, 48])\n",
      "[torch.Size([1, 24, 24]), torch.Size([24, 32, 370]), torch.Size([370, 64, 48]), torch.Size([48, 48, 1])]\n",
      "err  0.51222783 compression_rate  0.6034342447916666 rank  360 370 365\n",
      "torch.Size([3072, 768]) torch.Size([24, 32, 64, 48])\n",
      "[torch.Size([1, 24, 24]), torch.Size([24, 32, 375]), torch.Size([375, 64, 48]), torch.Size([48, 48, 1])]\n",
      "err  0.5068999 compression_rate  0.611572265625 rank  365 375 370\n",
      "torch.Size([3072, 768]) torch.Size([24, 32, 64, 48])\n",
      "[torch.Size([1, 24, 24]), torch.Size([24, 32, 380]), torch.Size([380, 64, 48]), torch.Size([48, 48, 1])]\n",
      "err  0.501587 compression_rate  0.6197102864583334 rank  370 380 375\n",
      "torch.Size([3072, 768]) torch.Size([24, 32, 64, 48])\n",
      "[torch.Size([1, 24, 24]), torch.Size([24, 32, 385]), torch.Size([385, 64, 48]), torch.Size([48, 48, 1])]\n",
      "err  0.4962835 compression_rate  0.6278483072916666 rank  375 385 380\n",
      "torch.Size([3072, 768]) torch.Size([24, 32, 64, 48])\n",
      "[torch.Size([1, 24, 24]), torch.Size([24, 32, 390]), torch.Size([390, 64, 48]), torch.Size([48, 48, 1])]\n",
      "err  0.49099296 compression_rate  0.635986328125 rank  380 390 385\n",
      "torch.Size([3072, 768]) torch.Size([24, 32, 64, 48])\n",
      "[torch.Size([1, 24, 24]), torch.Size([24, 32, 395]), torch.Size([395, 64, 48]), torch.Size([48, 48, 1])]\n",
      "err  0.4857183 compression_rate  0.6441243489583334 rank  385 395 390\n",
      "torch.Size([3072, 768]) torch.Size([24, 32, 64, 48])\n",
      "[torch.Size([1, 24, 24]), torch.Size([24, 32, 400]), torch.Size([400, 64, 48]), torch.Size([48, 48, 1])]\n",
      "err  0.48044065 compression_rate  0.6522623697916666 rank  390 400 395\n",
      "torch.Size([3072, 768]) torch.Size([24, 32, 64, 48])\n",
      "[torch.Size([1, 24, 24]), torch.Size([24, 32, 405]), torch.Size([405, 64, 48]), torch.Size([48, 48, 1])]\n",
      "err  0.47517037 compression_rate  0.660400390625 rank  395 405 400\n",
      "torch.Size([3072, 768]) torch.Size([24, 32, 64, 48])\n",
      "[torch.Size([1, 24, 24]), torch.Size([24, 32, 410]), torch.Size([410, 64, 48]), torch.Size([48, 48, 1])]\n",
      "err  0.46991622 compression_rate  0.6685384114583334 rank  400 410 405\n",
      "torch.Size([3072, 768]) torch.Size([24, 32, 64, 48])\n",
      "[torch.Size([1, 24, 24]), torch.Size([24, 32, 415]), torch.Size([415, 64, 48]), torch.Size([48, 48, 1])]\n",
      "err  0.4646829 compression_rate  0.6766764322916666 rank  405 415 410\n",
      "torch.Size([3072, 768]) torch.Size([24, 32, 64, 48])\n",
      "[torch.Size([1, 24, 24]), torch.Size([24, 32, 420]), torch.Size([420, 64, 48]), torch.Size([48, 48, 1])]\n",
      "err  0.4594451 compression_rate  0.684814453125 rank  410 420 415\n",
      "torch.Size([3072, 768]) torch.Size([24, 32, 64, 48])\n",
      "[torch.Size([1, 24, 24]), torch.Size([24, 32, 425]), torch.Size([425, 64, 48]), torch.Size([48, 48, 1])]\n",
      "err  0.45421258 compression_rate  0.6929524739583334 rank  415 425 420\n",
      "torch.Size([3072, 768]) torch.Size([24, 32, 64, 48])\n",
      "[torch.Size([1, 24, 24]), torch.Size([24, 32, 430]), torch.Size([430, 64, 48]), torch.Size([48, 48, 1])]\n",
      "err  0.44898072 compression_rate  0.7010904947916666 rank  420 430 425\n"
     ]
    }
   ],
   "source": [
    "errs3_m = []\n",
    "ranks3_m = []\n",
    "c_rates3_m = []\n",
    "\n",
    "compression_rate = 0.001\n",
    "\n",
    "err = 10.0\n",
    "rank1 = 10\n",
    "rank2 = 20\n",
    "rank3 = 15\n",
    "step = 5\n",
    "\n",
    "B = fc_w\n",
    "\n",
    "while (compression_rate < 0.7):    \n",
    "    factors = tn.Tensor(B.reshape(24, 32, 64, 48), ranks_tt=[rank1, rank2, rank3])\n",
    "    new_B = factors.torch()\n",
    "    print (fc_w.shape, new_B.shape)\n",
    "    err = np.linalg.norm(new_B.detach().numpy() - fc_w.detach().numpy().reshape(24, 32, 64, 48))/np.linalg.norm(fc_w.detach().numpy())\n",
    "    print ([elem.shape for elem in factors.cores])\n",
    "    compression_rate = (np.sum(list(np.prod(elem.shape) for elem in factors.cores))/(np.prod(fc_w.shape)))\n",
    "    print (\"err \", err, \"compression_rate \", compression_rate, \"rank \", rank1, rank2, rank3)\n",
    "    errs3_m.append(err)\n",
    "    ranks3_m.append(rank1)\n",
    "    c_rates3_m.append(compression_rate)\n",
    "    #if rank2 <= rank1:\n",
    "       #rank2 +=step\n",
    "    #else:\n",
    "    rank1 += step\n",
    "    rank2 += step\n",
    "    rank3 += step"
   ]
  },
  {
   "cell_type": "code",
   "execution_count": 29,
   "metadata": {},
   "outputs": [
    {
     "name": "stdout",
     "output_type": "stream",
     "text": [
      "torch.Size([3072, 768]) torch.Size([32, 48, 48, 32])\n",
      "[torch.Size([1, 32, 32]), torch.Size([32, 48, 50]), torch.Size([50, 48, 32]), torch.Size([32, 32, 1])]\n",
      "err  0.89188683 compression_rate  0.06597222222222222 rank  50 50\n",
      "torch.Size([3072, 768]) torch.Size([32, 48, 48, 32])\n",
      "[torch.Size([1, 32, 32]), torch.Size([32, 48, 60]), torch.Size([60, 48, 32]), torch.Size([32, 32, 1])]\n",
      "err  0.87817097 compression_rate  0.07899305555555555 rank  60 50\n",
      "torch.Size([3072, 768]) torch.Size([32, 48, 48, 32])\n",
      "[torch.Size([1, 32, 32]), torch.Size([32, 48, 70]), torch.Size([70, 48, 32]), torch.Size([32, 32, 1])]\n",
      "err  0.8649511 compression_rate  0.0920138888888889 rank  70 50\n",
      "torch.Size([3072, 768]) torch.Size([32, 48, 48, 32])\n",
      "[torch.Size([1, 32, 32]), torch.Size([32, 48, 80]), torch.Size([80, 48, 32]), torch.Size([32, 32, 1])]\n",
      "err  0.85215884 compression_rate  0.10503472222222222 rank  80 50\n",
      "torch.Size([3072, 768]) torch.Size([32, 48, 48, 32])\n",
      "[torch.Size([1, 32, 32]), torch.Size([32, 48, 90]), torch.Size([90, 48, 32]), torch.Size([32, 32, 1])]\n",
      "err  0.8398125 compression_rate  0.11805555555555555 rank  90 50\n",
      "torch.Size([3072, 768]) torch.Size([32, 48, 48, 32])\n",
      "[torch.Size([1, 32, 32]), torch.Size([32, 48, 100]), torch.Size([100, 48, 32]), torch.Size([32, 32, 1])]\n",
      "err  0.82773805 compression_rate  0.1310763888888889 rank  100 50\n",
      "torch.Size([3072, 768]) torch.Size([32, 48, 48, 32])\n",
      "[torch.Size([1, 32, 32]), torch.Size([32, 48, 110]), torch.Size([110, 48, 32]), torch.Size([32, 32, 1])]\n",
      "err  0.8159601 compression_rate  0.1440972222222222 rank  110 50\n",
      "torch.Size([3072, 768]) torch.Size([32, 48, 48, 32])\n",
      "[torch.Size([1, 32, 32]), torch.Size([32, 48, 120]), torch.Size([120, 48, 32]), torch.Size([32, 32, 1])]\n",
      "err  0.80443764 compression_rate  0.15711805555555555 rank  120 50\n",
      "torch.Size([3072, 768]) torch.Size([32, 48, 48, 32])\n",
      "[torch.Size([1, 32, 32]), torch.Size([32, 48, 130]), torch.Size([130, 48, 32]), torch.Size([32, 32, 1])]\n",
      "err  0.793132 compression_rate  0.1701388888888889 rank  130 50\n",
      "torch.Size([3072, 768]) torch.Size([32, 48, 48, 32])\n",
      "[torch.Size([1, 32, 32]), torch.Size([32, 48, 140]), torch.Size([140, 48, 32]), torch.Size([32, 32, 1])]\n",
      "err  0.7820319 compression_rate  0.1831597222222222 rank  140 50\n",
      "torch.Size([3072, 768]) torch.Size([32, 48, 48, 32])\n",
      "[torch.Size([1, 32, 32]), torch.Size([32, 48, 150]), torch.Size([150, 48, 32]), torch.Size([32, 32, 1])]\n",
      "err  0.7711379 compression_rate  0.19618055555555555 rank  150 50\n",
      "torch.Size([3072, 768]) torch.Size([32, 48, 48, 32])\n",
      "[torch.Size([1, 32, 32]), torch.Size([32, 48, 160]), torch.Size([160, 48, 32]), torch.Size([32, 32, 1])]\n",
      "err  0.7604613 compression_rate  0.2092013888888889 rank  160 50\n",
      "torch.Size([3072, 768]) torch.Size([32, 48, 48, 32])\n",
      "[torch.Size([1, 32, 32]), torch.Size([32, 48, 170]), torch.Size([170, 48, 32]), torch.Size([32, 32, 1])]\n",
      "err  0.74995744 compression_rate  0.2222222222222222 rank  170 50\n",
      "torch.Size([3072, 768]) torch.Size([32, 48, 48, 32])\n",
      "[torch.Size([1, 32, 32]), torch.Size([32, 48, 180]), torch.Size([180, 48, 32]), torch.Size([32, 32, 1])]\n",
      "err  0.73959154 compression_rate  0.23524305555555555 rank  180 50\n",
      "torch.Size([3072, 768]) torch.Size([32, 48, 48, 32])\n",
      "[torch.Size([1, 32, 32]), torch.Size([32, 48, 190]), torch.Size([190, 48, 32]), torch.Size([32, 32, 1])]\n",
      "err  0.72937024 compression_rate  0.2482638888888889 rank  190 50\n",
      "torch.Size([3072, 768]) torch.Size([32, 48, 48, 32])\n",
      "[torch.Size([1, 32, 32]), torch.Size([32, 48, 200]), torch.Size([200, 48, 32]), torch.Size([32, 32, 1])]\n",
      "err  0.71929735 compression_rate  0.2612847222222222 rank  200 50\n",
      "torch.Size([3072, 768]) torch.Size([32, 48, 48, 32])\n",
      "[torch.Size([1, 32, 32]), torch.Size([32, 48, 210]), torch.Size([210, 48, 32]), torch.Size([32, 32, 1])]\n",
      "err  0.7093417 compression_rate  0.2743055555555556 rank  210 50\n",
      "torch.Size([3072, 768]) torch.Size([32, 48, 48, 32])\n",
      "[torch.Size([1, 32, 32]), torch.Size([32, 48, 220]), torch.Size([220, 48, 32]), torch.Size([32, 32, 1])]\n",
      "err  0.6995171 compression_rate  0.2873263888888889 rank  220 50\n",
      "torch.Size([3072, 768]) torch.Size([32, 48, 48, 32])\n",
      "[torch.Size([1, 32, 32]), torch.Size([32, 48, 230]), torch.Size([230, 48, 32]), torch.Size([32, 32, 1])]\n",
      "err  0.6898189 compression_rate  0.3003472222222222 rank  230 50\n",
      "torch.Size([3072, 768]) torch.Size([32, 48, 48, 32])\n",
      "[torch.Size([1, 32, 32]), torch.Size([32, 48, 240]), torch.Size([240, 48, 32]), torch.Size([32, 32, 1])]\n",
      "err  0.6802389 compression_rate  0.3133680555555556 rank  240 50\n",
      "torch.Size([3072, 768]) torch.Size([32, 48, 48, 32])\n",
      "[torch.Size([1, 32, 32]), torch.Size([32, 48, 250]), torch.Size([250, 48, 32]), torch.Size([32, 32, 1])]\n",
      "err  0.67074573 compression_rate  0.3263888888888889 rank  250 50\n",
      "torch.Size([3072, 768]) torch.Size([32, 48, 48, 32])\n",
      "[torch.Size([1, 32, 32]), torch.Size([32, 48, 260]), torch.Size([260, 48, 32]), torch.Size([32, 32, 1])]\n",
      "err  0.6613977 compression_rate  0.3394097222222222 rank  260 50\n",
      "torch.Size([3072, 768]) torch.Size([32, 48, 48, 32])\n",
      "[torch.Size([1, 32, 32]), torch.Size([32, 48, 270]), torch.Size([270, 48, 32]), torch.Size([32, 32, 1])]\n",
      "err  0.6521392 compression_rate  0.3524305555555556 rank  270 50\n",
      "torch.Size([3072, 768]) torch.Size([32, 48, 48, 32])\n",
      "[torch.Size([1, 32, 32]), torch.Size([32, 48, 280]), torch.Size([280, 48, 32]), torch.Size([32, 32, 1])]\n",
      "err  0.64300126 compression_rate  0.3654513888888889 rank  280 50\n",
      "torch.Size([3072, 768]) torch.Size([32, 48, 48, 32])\n",
      "[torch.Size([1, 32, 32]), torch.Size([32, 48, 290]), torch.Size([290, 48, 32]), torch.Size([32, 32, 1])]\n",
      "err  0.63394153 compression_rate  0.3784722222222222 rank  290 50\n",
      "torch.Size([3072, 768]) torch.Size([32, 48, 48, 32])\n",
      "[torch.Size([1, 32, 32]), torch.Size([32, 48, 300]), torch.Size([300, 48, 32]), torch.Size([32, 32, 1])]\n",
      "err  0.6249822 compression_rate  0.3914930555555556 rank  300 50\n",
      "torch.Size([3072, 768]) torch.Size([32, 48, 48, 32])\n",
      "[torch.Size([1, 32, 32]), torch.Size([32, 48, 310]), torch.Size([310, 48, 32]), torch.Size([32, 32, 1])]\n",
      "err  0.61610043 compression_rate  0.4045138888888889 rank  310 50\n",
      "torch.Size([3072, 768]) torch.Size([32, 48, 48, 32])\n",
      "[torch.Size([1, 32, 32]), torch.Size([32, 48, 320]), torch.Size([320, 48, 32]), torch.Size([32, 32, 1])]\n",
      "err  0.6073188 compression_rate  0.4175347222222222 rank  320 50\n",
      "torch.Size([3072, 768]) torch.Size([32, 48, 48, 32])\n",
      "[torch.Size([1, 32, 32]), torch.Size([32, 48, 330]), torch.Size([330, 48, 32]), torch.Size([32, 32, 1])]\n",
      "err  0.5986192 compression_rate  0.4305555555555556 rank  330 50\n",
      "torch.Size([3072, 768]) torch.Size([32, 48, 48, 32])\n",
      "[torch.Size([1, 32, 32]), torch.Size([32, 48, 340]), torch.Size([340, 48, 32]), torch.Size([32, 32, 1])]\n",
      "err  0.5899951 compression_rate  0.4435763888888889 rank  340 50\n",
      "torch.Size([3072, 768]) torch.Size([32, 48, 48, 32])\n",
      "[torch.Size([1, 32, 32]), torch.Size([32, 48, 350]), torch.Size([350, 48, 32]), torch.Size([32, 32, 1])]\n",
      "err  0.5814526 compression_rate  0.4565972222222222 rank  350 50\n",
      "torch.Size([3072, 768]) torch.Size([32, 48, 48, 32])\n",
      "[torch.Size([1, 32, 32]), torch.Size([32, 48, 360]), torch.Size([360, 48, 32]), torch.Size([32, 32, 1])]\n",
      "err  0.5730065 compression_rate  0.4696180555555556 rank  360 50\n",
      "torch.Size([3072, 768]) torch.Size([32, 48, 48, 32])\n",
      "[torch.Size([1, 32, 32]), torch.Size([32, 48, 370]), torch.Size([370, 48, 32]), torch.Size([32, 32, 1])]\n",
      "err  0.564627 compression_rate  0.4826388888888889 rank  370 50\n",
      "torch.Size([3072, 768]) torch.Size([32, 48, 48, 32])\n",
      "[torch.Size([1, 32, 32]), torch.Size([32, 48, 380]), torch.Size([380, 48, 32]), torch.Size([32, 32, 1])]\n",
      "err  0.5563248 compression_rate  0.4956597222222222 rank  380 50\n",
      "torch.Size([3072, 768]) torch.Size([32, 48, 48, 32])\n",
      "[torch.Size([1, 32, 32]), torch.Size([32, 48, 390]), torch.Size([390, 48, 32]), torch.Size([32, 32, 1])]\n",
      "err  0.54811364 compression_rate  0.5086805555555556 rank  390 50\n",
      "torch.Size([3072, 768]) torch.Size([32, 48, 48, 32])\n",
      "[torch.Size([1, 32, 32]), torch.Size([32, 48, 400]), torch.Size([400, 48, 32]), torch.Size([32, 32, 1])]\n",
      "err  0.5399847 compression_rate  0.5217013888888888 rank  400 50\n",
      "torch.Size([3072, 768]) torch.Size([32, 48, 48, 32])\n",
      "[torch.Size([1, 32, 32]), torch.Size([32, 48, 410]), torch.Size([410, 48, 32]), torch.Size([32, 32, 1])]\n",
      "err  0.5319178 compression_rate  0.5347222222222222 rank  410 50\n",
      "torch.Size([3072, 768]) torch.Size([32, 48, 48, 32])\n",
      "[torch.Size([1, 32, 32]), torch.Size([32, 48, 420]), torch.Size([420, 48, 32]), torch.Size([32, 32, 1])]\n",
      "err  0.5239201 compression_rate  0.5477430555555556 rank  420 50\n",
      "torch.Size([3072, 768]) torch.Size([32, 48, 48, 32])\n",
      "[torch.Size([1, 32, 32]), torch.Size([32, 48, 430]), torch.Size([430, 48, 32]), torch.Size([32, 32, 1])]\n",
      "err  0.51598877 compression_rate  0.5607638888888888 rank  430 50\n",
      "torch.Size([3072, 768]) torch.Size([32, 48, 48, 32])\n",
      "[torch.Size([1, 32, 32]), torch.Size([32, 48, 440]), torch.Size([440, 48, 32]), torch.Size([32, 32, 1])]\n",
      "err  0.5081376 compression_rate  0.5737847222222222 rank  440 50\n",
      "torch.Size([3072, 768]) torch.Size([32, 48, 48, 32])\n",
      "[torch.Size([1, 32, 32]), torch.Size([32, 48, 450]), torch.Size([450, 48, 32]), torch.Size([32, 32, 1])]\n",
      "err  0.5003542 compression_rate  0.5868055555555556 rank  450 50\n",
      "torch.Size([3072, 768]) torch.Size([32, 48, 48, 32])\n",
      "[torch.Size([1, 32, 32]), torch.Size([32, 48, 460]), torch.Size([460, 48, 32]), torch.Size([32, 32, 1])]\n",
      "err  0.49263003 compression_rate  0.5998263888888888 rank  460 50\n",
      "torch.Size([3072, 768]) torch.Size([32, 48, 48, 32])\n",
      "[torch.Size([1, 32, 32]), torch.Size([32, 48, 470]), torch.Size([470, 48, 32]), torch.Size([32, 32, 1])]\n",
      "err  0.484975 compression_rate  0.6128472222222222 rank  470 50\n",
      "torch.Size([3072, 768]) torch.Size([32, 48, 48, 32])\n",
      "[torch.Size([1, 32, 32]), torch.Size([32, 48, 480]), torch.Size([480, 48, 32]), torch.Size([32, 32, 1])]\n",
      "err  0.47738412 compression_rate  0.6258680555555556 rank  480 50\n",
      "torch.Size([3072, 768]) torch.Size([32, 48, 48, 32])\n",
      "[torch.Size([1, 32, 32]), torch.Size([32, 48, 490]), torch.Size([490, 48, 32]), torch.Size([32, 32, 1])]\n",
      "err  0.46985403 compression_rate  0.6388888888888888 rank  490 50\n",
      "torch.Size([3072, 768]) torch.Size([32, 48, 48, 32])\n",
      "[torch.Size([1, 32, 32]), torch.Size([32, 48, 500]), torch.Size([500, 48, 32]), torch.Size([32, 32, 1])]\n",
      "err  0.4623879 compression_rate  0.6519097222222222 rank  500 50\n",
      "torch.Size([3072, 768]) torch.Size([32, 48, 48, 32])\n",
      "[torch.Size([1, 32, 32]), torch.Size([32, 48, 510]), torch.Size([510, 48, 32]), torch.Size([32, 32, 1])]\n",
      "err  0.45497683 compression_rate  0.6649305555555556 rank  510 50\n",
      "torch.Size([3072, 768]) torch.Size([32, 48, 48, 32])\n",
      "[torch.Size([1, 32, 32]), torch.Size([32, 48, 520]), torch.Size([520, 48, 32]), torch.Size([32, 32, 1])]\n",
      "err  0.44763485 compression_rate  0.6779513888888888 rank  520 50\n",
      "torch.Size([3072, 768]) torch.Size([32, 48, 48, 32])\n",
      "[torch.Size([1, 32, 32]), torch.Size([32, 48, 530]), torch.Size([530, 48, 32]), torch.Size([32, 32, 1])]\n",
      "err  0.44038138 compression_rate  0.6909722222222222 rank  530 50\n",
      "torch.Size([3072, 768]) torch.Size([32, 48, 48, 32])\n",
      "[torch.Size([1, 32, 32]), torch.Size([32, 48, 540]), torch.Size([540, 48, 32]), torch.Size([32, 32, 1])]\n",
      "err  0.43318045 compression_rate  0.7039930555555556 rank  540 50\n"
     ]
    }
   ],
   "source": [
    "errs2_m = []\n",
    "ranks2_m = []\n",
    "c_rates2_m = []\n",
    "\n",
    "compression_rate = 0.001\n",
    "\n",
    "err = 10.0\n",
    "rank1 = 50\n",
    "rank2 = 50\n",
    "step = 10\n",
    "\n",
    "B = fc_w\n",
    "\n",
    "while (compression_rate < 0.7):    \n",
    "    factors = tn.Tensor(B.reshape(32, 48, 48, 32), ranks_tt=[rank1, rank1, rank1])\n",
    "    new_B = factors.torch()\n",
    "    print (fc_w.shape, new_B.shape)\n",
    "    err = np.linalg.norm(new_B.detach().numpy() - fc_w.detach().numpy().reshape(32, 48, 48, 32))/np.linalg.norm(fc_w.detach().numpy())\n",
    "    print ([elem.shape for elem in factors.cores])\n",
    "    compression_rate = (np.sum(list(np.prod(elem.shape) for elem in factors.cores))/(np.prod(fc_w.shape)))\n",
    "    print (\"err \", err, \"compression_rate \", compression_rate, \"rank \", rank1, rank2)\n",
    "    errs2_m.append(err)\n",
    "    ranks2_m.append(rank1)\n",
    "    c_rates2_m.append(compression_rate)\n",
    "    #if rank2 <= rank1:\n",
    "       #rank2 +=step\n",
    "    #else:\n",
    "    rank1 += step"
   ]
  },
  {
   "cell_type": "code",
   "execution_count": 44,
   "metadata": {},
   "outputs": [
    {
     "data": {
      "text/plain": [
       "83"
      ]
     },
     "execution_count": 44,
     "metadata": {},
     "output_type": "execute_result"
    }
   ],
   "source": [
    "len(c_rates3_m)"
   ]
  },
  {
   "cell_type": "code",
   "execution_count": 47,
   "metadata": {},
   "outputs": [
    {
     "data": {
      "image/png": "[encoded data removed]",
      "text/plain": [
       "<Figure size 432x288 with 1 Axes>"
      ]
     },
     "metadata": {
      "needs_background": "light"
     },
     "output_type": "display_data"
    }
   ],
   "source": [
    "import matplotlib.pyplot as plt\n",
    "  \n",
    "24, 32, 64, 48\n",
    "# plot lines\n",
    "plt.plot(c_rates, errs, label = \"SVD\")\n",
    "plt.plot(c_rates2_m, errs2_m,  label = \"TT [32, 48, 48, 32] 4 cores \")\n",
    "plt.plot(c_rates3_m, errs3_m,  label = \"TT [24, 32, 64, 48] 4 cores \")\n",
    "plt.plot(c_rates1_m, errs1_m,  label = \"TTM [32, 48, 48, 32] 4 cores\")\n",
    "plt.plot(c_rates5_m, errs5_m,  label = \"TTM [24, 32, 64, 48] 4 cores\")\n",
    "#plt.plot(errs1_m, c_rates1_m, label = \"TTM (permute + reshape)\")\n",
    "plt.ylabel('errors')\n",
    "plt.xlabel('compression rate')\n",
    "plt.legend()\n",
    "plt.show()"
   ]
  },
  {
   "cell_type": "code",
   "execution_count": 30,
   "metadata": {},
   "outputs": [
    {
     "name": "stdout",
     "output_type": "stream",
     "text": [
      "err  0.86423 compression_rate  0.08138020833333333 rank  50\n",
      "err  0.8481262 compression_rate  0.09765625 rank  60\n",
      "err  0.83279854 compression_rate  0.11393229166666667 rank  70\n",
      "err  0.8180031 compression_rate  0.13020833333333334 rank  80\n",
      "err  0.8036815 compression_rate  0.146484375 rank  90\n",
      "err  0.7897288 compression_rate  0.16276041666666666 rank  100\n",
      "err  0.7760865 compression_rate  0.17903645833333334 rank  110\n",
      "err  0.76269233 compression_rate  0.1953125 rank  120\n",
      "err  0.74958867 compression_rate  0.21158854166666666 rank  130\n",
      "err  0.7367368 compression_rate  0.22786458333333334 rank  140\n",
      "err  0.7241182 compression_rate  0.244140625 rank  150\n",
      "err  0.71165377 compression_rate  0.2604166666666667 rank  160\n",
      "err  0.6993818 compression_rate  0.2766927083333333 rank  170\n",
      "err  0.6872489 compression_rate  0.29296875 rank  180\n",
      "err  0.67526895 compression_rate  0.3092447916666667 rank  190\n",
      "err  0.6634542 compression_rate  0.3255208333333333 rank  200\n",
      "err  0.6517644 compression_rate  0.341796875 rank  210\n",
      "err  0.64018774 compression_rate  0.3580729166666667 rank  220\n",
      "err  0.6287239 compression_rate  0.3743489583333333 rank  230\n",
      "err  0.617324 compression_rate  0.390625 rank  240\n",
      "err  0.60605574 compression_rate  0.4069010416666667 rank  250\n",
      "err  0.59490407 compression_rate  0.4231770833333333 rank  260\n",
      "err  0.5838191 compression_rate  0.439453125 rank  270\n",
      "err  0.5727839 compression_rate  0.4557291666666667 rank  280\n",
      "err  0.56185037 compression_rate  0.4720052083333333 rank  290\n",
      "err  0.5510119 compression_rate  0.48828125 rank  300\n",
      "err  0.5402275 compression_rate  0.5045572916666666 rank  310\n",
      "err  0.5294947 compression_rate  0.5208333333333334 rank  320\n",
      "err  0.5188214 compression_rate  0.537109375 rank  330\n",
      "err  0.5082268 compression_rate  0.5533854166666666 rank  340\n",
      "err  0.49768755 compression_rate  0.5696614583333334 rank  350\n",
      "err  0.4872118 compression_rate  0.5859375 rank  360\n",
      "err  0.47678825 compression_rate  0.6022135416666666 rank  370\n",
      "err  0.4663956 compression_rate  0.6184895833333334 rank  380\n",
      "err  0.4560614 compression_rate  0.634765625 rank  390\n",
      "err  0.44577134 compression_rate  0.6510416666666666 rank  400\n",
      "err  0.43550867 compression_rate  0.6673177083333334 rank  410\n",
      "err  0.4252758 compression_rate  0.68359375 rank  420\n",
      "err  0.41510186 compression_rate  0.6998697916666666 rank  430\n",
      "err  0.40495414 compression_rate  0.7161458333333334 rank  440\n"
     ]
    }
   ],
   "source": [
    "errs = []\n",
    "ranks = []\n",
    "c_rates = []\n",
    "\n",
    "err = 10.0\n",
    "rank = 50\n",
    "compression_rate = 0.0\n",
    "\n",
    "step = 10\n",
    "while (compression_rate < 0.7):\n",
    "    U, S, Vt = np.linalg.svd(fc_w.detach().numpy(), full_matrices=False)\n",
    "    # truncate SVD and fuse Sigma matrix\n",
    "    w1 = np.dot(np.diag(np.sqrt(S[0:rank])),Vt[0:rank, :])\n",
    "    w2 = np.dot(U[:, 0:rank], np.diag(np.sqrt(S[0:rank])))\n",
    "    fc_rec = np.dot(w2, w1)\n",
    "    err = np.linalg.norm(fc_rec - fc_w.data.numpy())/np.linalg.norm(fc_w.data.numpy())\n",
    "    compression_rate = (np.prod(w1.shape) + np.prod(w2.shape))/((np.prod(fc_w.shape)))\n",
    "    print (\"err \", err, \"compression_rate \", compression_rate, \"rank \", rank)\n",
    "    errs.append(err)\n",
    "    ranks.append(rank)\n",
    "    c_rates.append(compression_rate)\n",
    "    rank += step"
   ]
  },
  {
   "cell_type": "code",
   "execution_count": 7,
   "metadata": {},
   "outputs": [
    {
     "name": "stdout",
     "output_type": "stream",
     "text": [
      "4D TT tensor:\n",
      "\n",
      " 32  48  48  32\n",
      "  |   |   |   |\n",
      " (0) (1) (2) (3)\n",
      " / \\ / \\ / \\ / \\\n",
      "1   32  390 32  1\n",
      "\n",
      "Compression ratio: 2359296/2359296.0 = 1\n",
      "Relative error: tensor(0.5481, grad_fn=<DivBackward0>)\n",
      "RMSE: tensor(0.0223, grad_fn=<DivBackward0>)\n",
      "R^2: tensor(0.6996, grad_fn=<RsubBackward1>)\n"
     ]
    }
   ],
   "source": [
    "t = tn.Tensor(fc_w.reshape(32, 48, 48, 32), ranks_tt=[380, 390, 380])  # You can also pass a list of ranks\n",
    "\n",
    "full =fc_w.reshape(32, 48, 48, 32)\n",
    "\n",
    "def metrics():\n",
    "    print(t)\n",
    "    print('Compression ratio: {}/{} = {:g}'.format(full.numel(), t.numel(), full.numel() / t.numel()))\n",
    "    print('Relative error:', tn.relative_error(full, t))\n",
    "    print('RMSE:', tn.rmse(full, t))\n",
    "    print('R^2:', tn.r_squared(full, t))\n",
    "\n",
    "metrics()\n"
   ]
  },
  {
   "cell_type": "code",
   "execution_count": 16,
   "metadata": {},
   "outputs": [
    {
     "data": {
      "text/plain": [
       "(768, 3072)"
      ]
     },
     "execution_count": 16,
     "metadata": {},
     "output_type": "execute_result"
    }
   ],
   "source": [
    "fc_w.shape[1],fc_w.shape[0]"
   ]
  },
  {
   "cell_type": "markdown",
   "metadata": {},
   "source": [
    "## TT"
   ]
  },
  {
   "cell_type": "code",
   "execution_count": null,
   "metadata": {},
   "outputs": [],
   "source": [
    "from tensorly.tt_matrix import TTMatrix\n",
    "import tntorch\n",
    "\n",
    "errs1_m = []\n",
    "ranks1_m = []\n",
    "c_rates1_m = []\n",
    "\n",
    "err = 10.0\n",
    "rank1 = 30\n",
    "rank2 = 30\n",
    "step = 5\n",
    "\n",
    "B = fc_w\n",
    "B = fc_w.reshape([128, 192, 96]) # B = B.reshape((8, 12, 8, 16, 12, 16))\n",
    "\n",
    "\n",
    "while (err > 0.1):\n",
    "    factors = tntorch.Tensor(B, ranks_tt = [rank1, rank2])\n",
    "    for i,f in enumerate(factors.cores):\n",
    "        print (\"initial\", f.shape)\n",
    "    restore = tntorch.Tensor(factors.cores).torch()\n",
    "    err = torch.norm(restore - B)/torch.norm(B)\n",
    "    compression_rate = (np.sum(list(np.prod(elem.shape) for elem in factors.cores))/(np.prod(fc_w.shape)))\n",
    "    print (\"err \", err, \"compression_rate \", compression_rate, \"rank \", rank1, rank2)\n",
    "    errs1_m.append(err)\n",
    "    ranks1_m.append(rank1)\n",
    "    c_rates1_m.append(compression_rate)\n",
    "    if (rank1 > rank2):\n",
    "        rank2 += step\n",
    "    else:\n",
    "        rank1 += step"
   ]
  },
  {
   "cell_type": "code",
   "execution_count": 29,
   "metadata": {},
   "outputs": [
    {
     "data": {
      "text/plain": [
       "torch.Size([3072, 768])"
      ]
     },
     "execution_count": 29,
     "metadata": {},
     "output_type": "execute_result"
    }
   ],
   "source": [
    "fc_w.shape"
   ]
  },
  {
   "cell_type": "code",
   "execution_count": 34,
   "metadata": {},
   "outputs": [
    {
     "ename": "SyntaxError",
     "evalue": "invalid syntax (<ipython-input-34-9df16eea0675>, line 1)",
     "output_type": "error",
     "traceback": [
      "\u001b[0;36m  File \u001b[0;32m\"<ipython-input-34-9df16eea0675>\"\u001b[0;36m, line \u001b[0;32m1\u001b[0m\n\u001b[0;31m    2x4x8x4x2 input modes and 4x4x8x4x4 512 1024\u001b[0m\n\u001b[0m            ^\u001b[0m\n\u001b[0;31mSyntaxError\u001b[0m\u001b[0;31m:\u001b[0m invalid syntax\n"
     ]
    }
   ],
   "source": [
    "2x4x8x4x2 input modes and 4x4x8x4x4 512 1024\n",
    "2x4x8x4x2 input modes and 12x4x8x4x2 512 3072"
   ]
  },
  {
   "cell_type": "code",
   "execution_count": null,
   "metadata": {},
   "outputs": [],
   "source": [
    "errs7 = []\n",
    "ranks7 = []\n",
    "c_rates7 = []\n",
    "\n",
    "err = 10.0\n",
    "rank1 = 10\n",
    "rank2 = 10\n",
    "step = 4\n",
    "compression_rate = 0.0\n",
    "\n",
    "import tensorly as tl\n",
    "from tensorly.decomposition import tensor_train\n",
    "tl.set_backend('pytorch')\n",
    "\n",
    "B = fc_w\n",
    "B = fc_w.reshape((32, 48, 48, 32)) \n",
    "B = fc_w.reshape((4, 4, 8, 12, 12 ,8, 4,4)) \n",
    "\n",
    "\n",
    "while (compression_rate < 0.7):\n",
    "    \n",
    "    factors = tensor_train(B, rank = [1, rank1, rank1, rank1, rank1, rank1, rank1, rank1, 1])\n",
    "    new_B = factors.to_tensor()\n",
    "    print (B.shape, new_B.shape)\n",
    "    err = np.linalg.norm(new_B.detach().numpy() - B.detach().numpy())/np.linalg.norm(B.detach().numpy())\n",
    "    print ([elem.shape for elem in factors.factors])\n",
    "    compression_rate = (np.sum(list(np.prod(elem.shape) for elem in factors.factors))/(np.prod(fc_w.shape)))\n",
    "    print (\"err \", err, \"compression_rate \", compression_rate, \"rank \", rank1, rank2)\n",
    "    errs7.append(err)\n",
    "    ranks7.append(rank1)\n",
    "    c_rates7.append(compression_rate)\n",
    "    rank1 += step\n",
    "    "
   ]
  },
  {
   "cell_type": "code",
   "execution_count": null,
   "metadata": {},
   "outputs": [],
   "source": [
    "errs8 = []\n",
    "ranks8 = []\n",
    "c_rates8 = []\n",
    "\n",
    "err = 10.0\n",
    "rank1 = 10\n",
    "rank2 = 10\n",
    "step = 4\n",
    "compression_rate = 0.0\n",
    "\n",
    "import tensorly as tl\n",
    "from tensorly.decomposition import tensor_train\n",
    "tl.set_backend('pytorch')\n",
    "\n",
    "B = fc_w\n",
    "B = fc_w.reshape((32, 48, 48, 32)) \n",
    "# 10 (2, 4, 4, 4, 6, 12, 8, 4, 4, 2)\n",
    "(4, 4, 8, 12, 12 ,8, 4,4)\n",
    "B = fc_w.reshape((2, 2, 2, 2, 4, 2, 3, 4, 3, 4, 4, 2, 2, 2, 2, 2)) \n",
    "\n",
    "\n",
    "while (compression_rate < 0.7):\n",
    "    \n",
    "    factors = tensor_train_matrix1(B, rank = [1, rank1, rank1, rank1, rank1, rank1, rank1, rank1, 1])\n",
    "    new_B = factors.to_tensor()\n",
    "    #print (B.shape, new_B.shape)\n",
    "    err = np.linalg.norm(new_B.detach().numpy() - B.detach().numpy())/np.linalg.norm(B.detach().numpy())\n",
    "    #print ([elem.shape for elem in factors.factors])\n",
    "    compression_rate = (np.sum(list(np.prod(elem.shape) for elem in factors.factors))/(np.prod(fc_w.shape)))\n",
    "    #print (\"err \", err, \"compression_rate \", compression_rate, \"rank \", rank1, rank2)\n",
    "    errs8.append(err)\n",
    "    ranks8.append(rank1)\n",
    "    c_rates8.append(compression_rate)\n",
    "    rank1 += step"
   ]
  },
  {
   "cell_type": "code",
   "execution_count": null,
   "metadata": {},
   "outputs": [],
   "source": [
    "factors = tensor_train_matrix1(B, rank = [1, rank1, rank2, rank1, rank2, 1])\n",
    "new_B = factors.to_tensor()"
   ]
  },
  {
   "cell_type": "code",
   "execution_count": 34,
   "metadata": {},
   "outputs": [
    {
     "name": "stdout",
     "output_type": "stream",
     "text": [
      "Populating the interactive namespace from numpy and matplotlib\n"
     ]
    },
    {
     "name": "stderr",
     "output_type": "stream",
     "text": [
      "/opt/.pyenv/versions/3.7.4/lib/python3.7/site-packages/IPython/core/magics/pylab.py:160: UserWarning: pylab import has clobbered these variables: ['random', 'f', 'step']\n",
      "`%matplotlib` prevents importing * from pylab and numpy\n",
      "  \"\\n`%matplotlib` prevents importing * from pylab and numpy\"\n"
     ]
    }
   ],
   "source": [
    "%pylab inline"
   ]
  },
  {
   "cell_type": "code",
   "execution_count": null,
   "metadata": {},
   "outputs": [],
   "source": [
    "import matplotlib.pyplot as plt\n",
    "  \n",
    "\n",
    "# 10 cores [2, 4, 4, 4, 6, 12, 8, 4, 4, 2]    \n",
    "# plot lines\n",
    "plt.plot(c_rates, errs, label = \"SVD\")\n",
    "#plt.plot(c_rates8, errs8, label = \"TTM 8 cores\")\n",
    "plt.plot(c_rates7, errs7,  label = \"TT 8 cores \")\n",
    "#plt.plot(c_rates3, errs3,  label = \"TTM 8 cores\")\n",
    "plt.plot(c_rates3_m, errs3_m,  label = \"TT 4 cores\")\n",
    "plt.plot(c_rates4_m, errs4_m,  label = \"TT 10 cores\")\n",
    "plt.plot(c_rates1_m, errs1_m,  label = \"TT 3 core\")\n",
    "#plt.plot(errs1_m, c_rates1_m, label = \"TTM (permute + reshape)\")\n",
    "plt.ylabel('errors')\n",
    "plt.xlabel('compression rate')\n",
    "plt.legend()\n",
    "plt.show()"
   ]
  },
  {
   "cell_type": "code",
   "execution_count": 58,
   "metadata": {},
   "outputs": [
    {
     "data": {
      "text/plain": [
       "[]"
      ]
     },
     "execution_count": 58,
     "metadata": {},
     "output_type": "execute_result"
    }
   ],
   "source": [
    "errs3_m"
   ]
  },
  {
   "cell_type": "code",
   "execution_count": null,
   "metadata": {},
   "outputs": [],
   "source": [
    "errs4_m = []\n",
    "ranks4_m = []\n",
    "c_rates4_m = []\n",
    "\n",
    "err = 10.0\n",
    "rank1 = 10\n",
    "rank2 = 10\n",
    "step = 6\n",
    "\n",
    "B = fc_w\n",
    "\n",
    "#B = B.reshape(32, 48, 48, 32)\n",
    "#B = B.reshape(64, 64, 24, 24)\n",
    "#B = B.reshape((8, 4, 8, 6, 8, 6, 8, 4))\n",
    "print (B.shape)\n",
    "B = B.reshape((2, 4, 4, 4, 8, 12, 6, 4, 4, 2))\n",
    "print (B.shape)\n",
    "\n",
    "\n",
    "while (err > 0.1):\n",
    "    factors = tensor_train(B, rank = [1, rank1, rank1, rank1, rank2, rank2, rank2, rank1, rank1, rank1, 1])\n",
    "    new_B = factors.to_tensor()\n",
    "    print (B.shape, new_B.shape)\n",
    "    err = np.linalg.norm(new_B.detach().numpy() - B.detach().numpy())/np.linalg.norm(B.detach().numpy())\n",
    "    print ([elem.shape for elem in factors.factors])\n",
    "    compression_rate = (np.sum(list(np.prod(elem.shape) for elem in factors.factors))/(np.prod(fc_w.shape)))\n",
    "    print (\"err \", err, \"compression_rate \", compression_rate, \"rank \", rank1, rank2)\n",
    "    errs4_m.append(err)\n",
    "    ranks4_m.append(rank1)\n",
    "    c_rates4_m.append(compression_rate)\n",
    "    if (rank1 > rank2):\n",
    "        rank2 += step\n",
    "    else:\n",
    "        rank1 += step"
   ]
  },
  {
   "cell_type": "code",
   "execution_count": 15,
   "metadata": {},
   "outputs": [
    {
     "ename": "AssertionError",
     "evalue": "",
     "output_type": "error",
     "traceback": [
      "\u001b[0;31m\u001b[0m",
      "\u001b[0;31mAssertionError\u001b[0mTraceback (most recent call last)",
      "\u001b[0;32m<ipython-input-15-9d016ec473b2>\u001b[0m in \u001b[0;36m<module>\u001b[0;34m\u001b[0m\n\u001b[1;32m     20\u001b[0m \u001b[0;32mwhile\u001b[0m \u001b[0;34m(\u001b[0m\u001b[0mcompression_rate\u001b[0m \u001b[0;34m<\u001b[0m \u001b[0;36m0.7\u001b[0m\u001b[0;34m)\u001b[0m\u001b[0;34m:\u001b[0m\u001b[0;34m\u001b[0m\u001b[0;34m\u001b[0m\u001b[0m\n\u001b[1;32m     21\u001b[0m \u001b[0;34m\u001b[0m\u001b[0m\n\u001b[0;32m---> 22\u001b[0;31m     \u001b[0mfactors\u001b[0m \u001b[0;34m=\u001b[0m \u001b[0mtntorch\u001b[0m\u001b[0;34m.\u001b[0m\u001b[0mTensor\u001b[0m\u001b[0;34m(\u001b[0m\u001b[0mB\u001b[0m\u001b[0;34m,\u001b[0m \u001b[0mranks_tt\u001b[0m \u001b[0;34m=\u001b[0m \u001b[0;34m[\u001b[0m\u001b[0mrank1\u001b[0m\u001b[0;34m,\u001b[0m \u001b[0mrank2\u001b[0m\u001b[0;34m]\u001b[0m\u001b[0;34m)\u001b[0m\u001b[0;34m\u001b[0m\u001b[0;34m\u001b[0m\u001b[0m\n\u001b[0m\u001b[1;32m     23\u001b[0m     \u001b[0;32mfor\u001b[0m \u001b[0mi\u001b[0m\u001b[0;34m,\u001b[0m\u001b[0mf\u001b[0m \u001b[0;32min\u001b[0m \u001b[0menumerate\u001b[0m\u001b[0;34m(\u001b[0m\u001b[0mfactors\u001b[0m\u001b[0;34m.\u001b[0m\u001b[0mcores\u001b[0m\u001b[0;34m)\u001b[0m\u001b[0;34m:\u001b[0m\u001b[0;34m\u001b[0m\u001b[0;34m\u001b[0m\u001b[0m\n\u001b[1;32m     24\u001b[0m         \u001b[0mprint\u001b[0m \u001b[0;34m(\u001b[0m\u001b[0;34m\"initial\"\u001b[0m\u001b[0;34m,\u001b[0m \u001b[0mf\u001b[0m\u001b[0;34m.\u001b[0m\u001b[0mshape\u001b[0m\u001b[0;34m)\u001b[0m\u001b[0;34m\u001b[0m\u001b[0;34m\u001b[0m\u001b[0m\n",
      "\u001b[0;32m/opt/.pyenv/versions/3.7.4/lib/python3.7/site-packages/tntorch/tensor.py\u001b[0m in \u001b[0;36m__init__\u001b[0;34m(self, data, Us, idxs, device, requires_grad, ranks_cp, ranks_tucker, ranks_tt, eps, max_iter, tol, verbose, batch, algorithm)\u001b[0m\n\u001b[1;32m    264\u001b[0m                     \u001b[0mself\u001b[0m\u001b[0;34m.\u001b[0m\u001b[0mround_tucker\u001b[0m\u001b[0;34m(\u001b[0m\u001b[0mrmax\u001b[0m\u001b[0;34m=\u001b[0m\u001b[0mranks_tucker\u001b[0m\u001b[0;34m,\u001b[0m \u001b[0malgorithm\u001b[0m\u001b[0;34m=\u001b[0m\u001b[0malgorithm\u001b[0m\u001b[0;34m)\u001b[0m\u001b[0;34m\u001b[0m\u001b[0;34m\u001b[0m\u001b[0m\n\u001b[1;32m    265\u001b[0m                 \u001b[0;32mif\u001b[0m \u001b[0mranks_tt\u001b[0m \u001b[0;32mis\u001b[0m \u001b[0;32mnot\u001b[0m \u001b[0;32mNone\u001b[0m\u001b[0;34m:\u001b[0m\u001b[0;34m\u001b[0m\u001b[0;34m\u001b[0m\u001b[0m\n\u001b[0;32m--> 266\u001b[0;31m                     \u001b[0mself\u001b[0m\u001b[0;34m.\u001b[0m\u001b[0mround_tt\u001b[0m\u001b[0;34m(\u001b[0m\u001b[0mrmax\u001b[0m\u001b[0;34m=\u001b[0m\u001b[0mranks_tt\u001b[0m\u001b[0;34m,\u001b[0m \u001b[0malgorithm\u001b[0m\u001b[0;34m=\u001b[0m\u001b[0malgorithm\u001b[0m\u001b[0;34m)\u001b[0m\u001b[0;34m\u001b[0m\u001b[0;34m\u001b[0m\u001b[0m\n\u001b[0m\u001b[1;32m    267\u001b[0m \u001b[0;34m\u001b[0m\u001b[0m\n\u001b[1;32m    268\u001b[0m         \u001b[0;31m# Check factor shapes\u001b[0m\u001b[0;34m\u001b[0m\u001b[0;34m\u001b[0m\u001b[0;34m\u001b[0m\u001b[0m\n",
      "\u001b[0;32m/opt/.pyenv/versions/3.7.4/lib/python3.7/site-packages/tntorch/tensor.py\u001b[0m in \u001b[0;36mround_tt\u001b[0;34m(self, eps, rmax, algorithm, verbose)\u001b[0m\n\u001b[1;32m   1667\u001b[0m         \u001b[0;32mif\u001b[0m \u001b[0;32mnot\u001b[0m \u001b[0mhasattr\u001b[0m\u001b[0;34m(\u001b[0m\u001b[0mrmax\u001b[0m\u001b[0;34m,\u001b[0m \u001b[0;34m'__len__'\u001b[0m\u001b[0;34m)\u001b[0m\u001b[0;34m:\u001b[0m\u001b[0;34m\u001b[0m\u001b[0;34m\u001b[0m\u001b[0m\n\u001b[1;32m   1668\u001b[0m             \u001b[0mrmax\u001b[0m \u001b[0;34m=\u001b[0m \u001b[0;34m[\u001b[0m\u001b[0mrmax\u001b[0m\u001b[0;34m]\u001b[0m \u001b[0;34m*\u001b[0m \u001b[0;34m(\u001b[0m\u001b[0mN\u001b[0m \u001b[0;34m-\u001b[0m \u001b[0;36m1\u001b[0m\u001b[0;34m)\u001b[0m\u001b[0;34m\u001b[0m\u001b[0;34m\u001b[0m\u001b[0m\n\u001b[0;32m-> 1669\u001b[0;31m         \u001b[0;32massert\u001b[0m \u001b[0mlen\u001b[0m\u001b[0;34m(\u001b[0m\u001b[0mrmax\u001b[0m\u001b[0;34m)\u001b[0m \u001b[0;34m==\u001b[0m \u001b[0mN\u001b[0m \u001b[0;34m-\u001b[0m \u001b[0;36m1\u001b[0m\u001b[0;34m\u001b[0m\u001b[0;34m\u001b[0m\u001b[0m\n\u001b[0m\u001b[1;32m   1670\u001b[0m \u001b[0;34m\u001b[0m\u001b[0m\n\u001b[1;32m   1671\u001b[0m         \u001b[0mself\u001b[0m\u001b[0;34m.\u001b[0m\u001b[0m_cp_to_tt\u001b[0m\u001b[0;34m(\u001b[0m\u001b[0;34m)\u001b[0m\u001b[0;34m\u001b[0m\u001b[0;34m\u001b[0m\u001b[0m\n",
      "\u001b[0;31mAssertionError\u001b[0m: "
     ]
    }
   ],
   "source": [
    "import tensorly as tl\n",
    "from tensorly.decomposition import tensor_train\n",
    "tl.set_backend('pytorch')\n",
    "\n",
    "errs2 = []\n",
    "ranks2 = []\n",
    "c_rates2 = []\n",
    "\n",
    "err = 10.0\n",
    "rank1 = 60\n",
    "rank2 = 60\n",
    "step = 10\n",
    "compression_rate = 0.0\n",
    "\n",
    "B = fc_w\n",
    "B = B.reshape(32, 48, 48, 32)\n",
    "B = B.reshape(4, 8, 6, 8, 6, 8, 4, 8)\n",
    "#B = B.permute(0, 2, 4, 1, 3, 5)\n",
    "\n",
    "while (compression_rate < 0.7):\n",
    "    \n",
    "    factors = tntorch.Tensor(B, ranks_tt = [rank1, rank2])\n",
    "    for i,f in enumerate(factors.cores):\n",
    "        print (\"initial\", f.shape)\n",
    "    restore = tntorch.Tensor(factors.cores).torch()\n",
    "    err = torch.norm(restore - B)/torch.norm(B)\n",
    "    compression_rate = (np.sum(list(np.prod(elem.shape) for elem in factors.cores))/(np.prod(fc_w.shape)))\n",
    "    print (\"err \", err, \"compression_rate \", compression_rate, \"rank \", rank1, rank2)\n",
    "    errs2.append(err)\n",
    "    ranks2.append(rank1)\n",
    "    c_rates2.append(compression_rate)\n",
    "    if (rank1 < rank2):\n",
    "        rank1 += step\n",
    "    else:\n",
    "        rank2 += step"
   ]
  },
  {
   "cell_type": "code",
   "execution_count": 64,
   "metadata": {},
   "outputs": [
    {
     "data": {
      "image/png": "[encoded data removed]",
      "text/plain": [
       "<Figure size 432x288 with 1 Axes>"
      ]
     },
     "metadata": {
      "needs_background": "light"
     },
     "output_type": "display_data"
    }
   ],
   "source": [
    "import matplotlib.pyplot as plt\n",
    "  \n",
    "\n",
    "# plot lines\n",
    "plt.plot(c_rates, errs, label = \"SVD\")\n",
    "plt.plot(c_rates2, errs2,  label = \"TTM tensorly 3 cores \")\n",
    "plt.plot(c_rates3_m, errs3_m,  label = \"TTM tntorch 3 core\")\n",
    "#plt.plot(errs1_m, c_rates1_m, label = \"TTM (permute + reshape)\")\n",
    "plt.ylabel('errors')\n",
    "plt.xlabel('compression rate')\n",
    "plt.legend()\n",
    "plt.show()"
   ]
  },
  {
   "cell_type": "code",
   "execution_count": null,
   "metadata": {},
   "outputs": [],
   "source": [
    "import tensorly as tl\n",
    "from tensorly.decomposition import tensor_train\n",
    "tl.set_backend('pytorch')\n",
    "\n",
    "\n",
    "B = fc_w\n",
    "B = B = B.reshape((8, 12, 8, 16, 12, 16))\n",
    "\n",
    "\n",
    "errs3 = []\n",
    "ranks3 = []\n",
    "c_rates3 = []\n",
    "\n",
    "err = 10.0\n",
    "rank1 = 20\n",
    "rank2 = 20\n",
    "step = 10\n",
    "compression_rate = 0.0\n",
    "while (compression_rate < 0.7):\n",
    "    factors = tensor_train_matrix1(B, rank = [1, rank1, rank2, 1])\n",
    "    new_B = factors.to_tensor()\n",
    "    print (B.shape, new_B.shape)\n",
    "    err = np.linalg.norm(new_B.detach().numpy() - B.detach().numpy())/np.linalg.norm(B.detach().numpy())\n",
    "    print ([elem.shape for elem in factors.factors])\n",
    "    compression_rate = (np.sum(list(np.prod(elem.shape) for elem in factors.factors))/(np.prod(fc_w.shape)))\n",
    "    print (\"err \", err, \"compression_rate \", compression_rate, \"rank \", rank1, rank2)\n",
    "    errs3.append(err)\n",
    "    ranks3.append(rank1)\n",
    "    c_rates3.append(compression_rate)\n",
    "    if (rank1 < rank2):\n",
    "        rank1 += step\n",
    "    else:\n",
    "        rank2 += step"
   ]
  },
  {
   "cell_type": "code",
   "execution_count": 28,
   "metadata": {},
   "outputs": [
    {
     "name": "stdout",
     "output_type": "stream",
     "text": [
      "torch.Size([6, 4, 4, 4, 4, 4, 4, 4, 4, 6])\n",
      "10\n",
      "new_shape [24, 16, 16, 16, 24]\n"
     ]
    },
    {
     "ename": "AttributeError",
     "evalue": "'Tensor' object has no attribute 'reshape'",
     "output_type": "error",
     "traceback": [
      "\u001b[0;31m\u001b[0m",
      "\u001b[0;31mAttributeError\u001b[0mTraceback (most recent call last)",
      "\u001b[0;32m<ipython-input-28-7fb97d51ce74>\u001b[0m in \u001b[0;36m<module>\u001b[0;34m\u001b[0m\n\u001b[1;32m     17\u001b[0m \u001b[0;32mwhile\u001b[0m \u001b[0;34m(\u001b[0m\u001b[0mcompression_rate\u001b[0m \u001b[0;34m<\u001b[0m \u001b[0;36m0.7\u001b[0m\u001b[0;34m)\u001b[0m\u001b[0;34m:\u001b[0m\u001b[0;34m\u001b[0m\u001b[0;34m\u001b[0m\u001b[0m\n\u001b[1;32m     18\u001b[0m     \u001b[0;31m#B = B.reshape((24, 16, 16, 16, 24))\u001b[0m\u001b[0;34m\u001b[0m\u001b[0;34m\u001b[0m\u001b[0;34m\u001b[0m\u001b[0m\n\u001b[0;32m---> 19\u001b[0;31m     \u001b[0mfactors\u001b[0m \u001b[0;34m=\u001b[0m \u001b[0mtensor_train_matrix2\u001b[0m\u001b[0;34m(\u001b[0m\u001b[0mB\u001b[0m\u001b[0;34m,\u001b[0m \u001b[0mrank\u001b[0m \u001b[0;34m=\u001b[0m \u001b[0;34m[\u001b[0m\u001b[0;36m1\u001b[0m\u001b[0;34m,\u001b[0m \u001b[0mrank1\u001b[0m\u001b[0;34m,\u001b[0m \u001b[0mrank2\u001b[0m\u001b[0;34m,\u001b[0m \u001b[0mrank1\u001b[0m\u001b[0;34m,\u001b[0m \u001b[0mrank2\u001b[0m\u001b[0;34m,\u001b[0m \u001b[0;36m1\u001b[0m\u001b[0;34m]\u001b[0m\u001b[0;34m,\u001b[0m \u001b[0mrank1\u001b[0m \u001b[0;34m=\u001b[0m \u001b[0mrank1\u001b[0m\u001b[0;34m,\u001b[0m \u001b[0mrank2\u001b[0m \u001b[0;34m=\u001b[0m \u001b[0mrank2\u001b[0m\u001b[0;34m)\u001b[0m\u001b[0;34m\u001b[0m\u001b[0;34m\u001b[0m\u001b[0m\n\u001b[0m\u001b[1;32m     20\u001b[0m     \u001b[0mnew_B\u001b[0m \u001b[0;34m=\u001b[0m \u001b[0mtntorch\u001b[0m\u001b[0;34m.\u001b[0m\u001b[0mTensor\u001b[0m\u001b[0;34m(\u001b[0m\u001b[0mfactors\u001b[0m\u001b[0;34m.\u001b[0m\u001b[0mcores\u001b[0m\u001b[0;34m)\u001b[0m\u001b[0;34m.\u001b[0m\u001b[0mtorch\u001b[0m\u001b[0;34m(\u001b[0m\u001b[0;34m)\u001b[0m\u001b[0;34m\u001b[0m\u001b[0;34m\u001b[0m\u001b[0m\n\u001b[1;32m     21\u001b[0m     \u001b[0mprint\u001b[0m \u001b[0;34m(\u001b[0m\u001b[0mB\u001b[0m\u001b[0;34m.\u001b[0m\u001b[0mshape\u001b[0m\u001b[0;34m,\u001b[0m \u001b[0mnew_B\u001b[0m\u001b[0;34m.\u001b[0m\u001b[0mshape\u001b[0m\u001b[0;34m)\u001b[0m\u001b[0;34m\u001b[0m\u001b[0;34m\u001b[0m\u001b[0m\n",
      "\u001b[0;32m<ipython-input-27-3ae05c718661>\u001b[0m in \u001b[0;36mtensor_train_matrix2\u001b[0;34m(tensor, rank, rank1, rank2)\u001b[0m\n\u001b[1;32m     50\u001b[0m     \u001b[0;31m#tt = tn.Tensor(matrix, ranks_tt=ranks)\u001b[0m\u001b[0;34m\u001b[0m\u001b[0;34m\u001b[0m\u001b[0;34m\u001b[0m\u001b[0m\n\u001b[1;32m     51\u001b[0m     \u001b[0;32mfor\u001b[0m \u001b[0mi\u001b[0m \u001b[0;32min\u001b[0m \u001b[0mrange\u001b[0m\u001b[0;34m(\u001b[0m\u001b[0mlen\u001b[0m\u001b[0;34m(\u001b[0m\u001b[0mfactors\u001b[0m\u001b[0;34m.\u001b[0m\u001b[0mcores\u001b[0m\u001b[0;34m)\u001b[0m\u001b[0;34m)\u001b[0m\u001b[0;34m:\u001b[0m\u001b[0;34m\u001b[0m\u001b[0;34m\u001b[0m\u001b[0m\n\u001b[0;32m---> 52\u001b[0;31m         \u001b[0mfactors\u001b[0m\u001b[0;34m[\u001b[0m\u001b[0mi\u001b[0m\u001b[0;34m]\u001b[0m \u001b[0;34m=\u001b[0m \u001b[0mfactors\u001b[0m\u001b[0;34m[\u001b[0m\u001b[0mi\u001b[0m\u001b[0;34m]\u001b[0m\u001b[0;34m.\u001b[0m\u001b[0mreshape\u001b[0m\u001b[0;34m(\u001b[0m\u001b[0;34m(\u001b[0m\u001b[0mfactors\u001b[0m\u001b[0;34m[\u001b[0m\u001b[0mi\u001b[0m\u001b[0;34m]\u001b[0m\u001b[0;34m.\u001b[0m\u001b[0mshape\u001b[0m\u001b[0;34m[\u001b[0m\u001b[0;36m0\u001b[0m\u001b[0;34m]\u001b[0m\u001b[0;34m,\u001b[0m \u001b[0min_shape\u001b[0m\u001b[0;34m[\u001b[0m\u001b[0mi\u001b[0m\u001b[0;34m]\u001b[0m\u001b[0;34m,\u001b[0m \u001b[0mout_shape\u001b[0m\u001b[0;34m[\u001b[0m\u001b[0mi\u001b[0m\u001b[0;34m]\u001b[0m\u001b[0;34m,\u001b[0m \u001b[0;34m-\u001b[0m\u001b[0;36m1\u001b[0m\u001b[0;34m)\u001b[0m\u001b[0;34m)\u001b[0m\u001b[0;34m\u001b[0m\u001b[0;34m\u001b[0m\u001b[0m\n\u001b[0m\u001b[1;32m     53\u001b[0m \u001b[0;34m\u001b[0m\u001b[0m\n\u001b[1;32m     54\u001b[0m     \u001b[0;32mreturn\u001b[0m \u001b[0mfactors\u001b[0m\u001b[0;34m\u001b[0m\u001b[0;34m\u001b[0m\u001b[0m\n",
      "\u001b[0;31mAttributeError\u001b[0m: 'Tensor' object has no attribute 'reshape'"
     ]
    }
   ],
   "source": [
    "import tensorly as tl\n",
    "from tensorly.decomposition import tensor_train\n",
    "tl.set_backend('pytorch')\n",
    "\n",
    "from src.ttm_linear.ttm_linear.ttm_linear import FactorizationTTMLinear, prepare_core_shapes\n",
    "\n",
    "\n",
    "errs4 = []\n",
    "ranks4 = []\n",
    "c_rates4 = []\n",
    "\n",
    "err = 10.0\n",
    "rank1 = 20\n",
    "rank2 = 20\n",
    "step = 10\n",
    "compression_rate = 0.0\n",
    "while (compression_rate < 0.7):\n",
    "    #B = B.reshape((24, 16, 16, 16, 24))\n",
    "    factors = tensor_train_matrix2(B, rank = [1, rank1, rank2, rank1, rank2, 1], rank1 = rank1, rank2 = rank2)\n",
    "    new_B = tntorch.Tensor(factors.cores).torch()\n",
    "    print (B.shape, new_B.shape)\n",
    "    err = np.linalg.norm(new_B.detach().numpy() - B.detach().numpy())/np.linalg.norm(B.detach().numpy())\n",
    "    print ([elem.shape for elem in factors.factors])\n",
    "    compression_rate = (np.sum(list(np.prod(elem.shape) for elem in factors.factors))/(np.prod(fc_w.shape)))\n",
    "    print (\"err \", err, \"compression_rate \", compression_rate, \"rank \", rank1, rank2)\n",
    "    errs4.append(err)\n",
    "    ranks4.append(rank1)\n",
    "    c_rates4.append(compression_rate)\n",
    "    if (rank1 < rank2):\n",
    "        rank1 += step\n",
    "    else:\n",
    "        rank2 += step"
   ]
  },
  {
   "cell_type": "code",
   "execution_count": 12,
   "metadata": {},
   "outputs": [
    {
     "data": {
      "text/plain": [
       "torch.Size([24, 16, 16, 16, 24])"
      ]
     },
     "execution_count": 12,
     "metadata": {},
     "output_type": "execute_result"
    }
   ],
   "source": [
    "B.shape"
   ]
  },
  {
   "cell_type": "code",
   "execution_count": null,
   "metadata": {},
   "outputs": [],
   "source": [
    "import tensorly as tl\n",
    "from tensorly.decomposition import tensor_train\n",
    "tl.set_backend('pytorch')\n",
    "\n",
    "errs2 = []\n",
    "ranks2 = []\n",
    "c_rates2 = []\n",
    "\n",
    "err = 10.0\n",
    "rank1 = 60\n",
    "rank2 = 60\n",
    "step = 10\n",
    "compression_rate = 0.0\n",
    "\n",
    "B = fc_w.reshape((32, 48, 48, 32))\n",
    "\n",
    "while (compression_rate < 0.7):\n",
    "    #B = B.reshape((8, 12, 8, 16, 12, 16))\n",
    "    factors = tensor_train(B, rank = [1, rank1, rank2, rank1, 1])\n",
    "    new_B = factors.to_tensor()\n",
    "    print (B.shape, new_B.shape)\n",
    "    err = np.linalg.norm(new_B.detach().numpy() - B.detach().numpy())/np.linalg.norm(B.detach().numpy())\n",
    "    print ([elem.shape for elem in factors.factors])\n",
    "    compression_rate = (np.sum(list(np.prod(elem.shape) for elem in factors.factors))/(np.prod(fc_w.shape)))\n",
    "    print (\"err \", err, \"compression_rate \", compression_rate, \"rank \", rank1, rank2)\n",
    "    errs2.append(err)\n",
    "    ranks2.append(rank1)\n",
    "    c_rates2.append(compression_rate)\n",
    "    if (rank1 < rank2):\n",
    "        rank1 += step\n",
    "    else:\n",
    "        rank2 += step"
   ]
  },
  {
   "cell_type": "code",
   "execution_count": 11,
   "metadata": {},
   "outputs": [
    {
     "name": "stdout",
     "output_type": "stream",
     "text": [
      "Collecting tensorly\n",
      "  Downloading tensorly-0.7.0-py3-none-any.whl (198 kB)\n",
      "\u001b[K     |████████████████████████████████| 198 kB 1.2 MB/s eta 0:00:01\n",
      "\u001b[?25hRequirement already satisfied: scipy in /opt/.pyenv/versions/3.8.10/lib/python3.8/site-packages (from tensorly) (1.7.0)\n",
      "Requirement already satisfied: numpy in /opt/.pyenv/versions/3.8.10/lib/python3.8/site-packages (from tensorly) (1.19.5)\n",
      "Collecting nose\n",
      "  Downloading nose-1.3.7-py3-none-any.whl (154 kB)\n",
      "\u001b[K     |████████████████████████████████| 154 kB 15.4 MB/s eta 0:00:01\n",
      "\u001b[?25hInstalling collected packages: nose, tensorly\n",
      "Successfully installed nose-1.3.7 tensorly-0.7.0\n",
      "\u001b[33mWARNING: Running pip as the 'root' user can result in broken permissions and conflicting behaviour with the system package manager. It is recommended to use a virtual environment instead: https://pip.pypa.io/warnings/venv\u001b[0m\n",
      "\u001b[33mWARNING: You are using pip version 21.1.3; however, version 22.3 is available.\n",
      "You should consider upgrading via the '/opt/.pyenv/versions/3.8.10/bin/python3.8 -m pip install --upgrade pip' command.\u001b[0m\n"
     ]
    }
   ],
   "source": [
    "!pip3 install tensorly"
   ]
  },
  {
   "cell_type": "code",
   "execution_count": null,
   "metadata": {},
   "outputs": [],
   "source": [
    "import tensorly as tl\n",
    "from tensorly.decomposition import tensor_train\n",
    "tl.set_backend('pytorch')\n",
    "\n",
    "errs1 = []\n",
    "ranks1 = []\n",
    "c_rates1 = []\n",
    "\n",
    "err = 10.0\n",
    "rank1 = 30\n",
    "rank2 = 30\n",
    "step = 10\n",
    "compression_rate = 0.0\n",
    "while (compression_rate < 0.7):\n",
    "    factors = tensor_train_matrix1(B, rank = [1, rank1, rank2, 1])\n",
    "    new_B = factors.to_tensor()\n",
    "    err = np.linalg.norm(new_B - B)/np.linalg.norm(B)\n",
    "    print ([elem.shape for elem in factors.factors])\n",
    "    compression_rate = (np.sum(list(np.prod(elem.shape) for elem in factors.factors))/(np.prod(fc_w.shape)))\n",
    "    print (\"err \", err, \"compression_rate \", compression_rate, \"rank \", rank1, rank2)\n",
    "    errs1.append(err)\n",
    "    ranks1.append(rank1)\n",
    "    c_rates1.append(compression_rate)\n",
    "    if (rank1 < rank2):\n",
    "        rank1 += step\n",
    "    else:\n",
    "        rank2 += step"
   ]
  },
  {
   "cell_type": "code",
   "execution_count": 5,
   "metadata": {},
   "outputs": [
    {
     "data": {
      "text/plain": [
       "2359296"
      ]
     },
     "execution_count": 5,
     "metadata": {},
     "output_type": "execute_result"
    }
   ],
   "source": [
    "np.prod(fc_w.shape)"
   ]
  },
  {
   "cell_type": "code",
   "execution_count": 147,
   "metadata": {},
   "outputs": [
    {
     "data": {
      "text/plain": [
       "0.81661785"
      ]
     },
     "execution_count": 147,
     "metadata": {},
     "output_type": "execute_result"
    }
   ],
   "source": [
    "D_rest = tl.tt_tensor.tt_to_tensor(factors)\n",
    "err = np.linalg.norm(D_rest - D)/np.linalg.norm(D)\n",
    "err"
   ]
  },
  {
   "cell_type": "markdown",
   "metadata": {},
   "source": [
    "## reshape"
   ]
  },
  {
   "cell_type": "code",
   "execution_count": 13,
   "metadata": {},
   "outputs": [],
   "source": [
    "B = fc_w.reshape((4, 4, 4, 4, 4, 4, 4, 4, 12, 3))"
   ]
  },
  {
   "cell_type": "code",
   "execution_count": 66,
   "metadata": {},
   "outputs": [],
   "source": [
    "#B = fc_w.reshape((4, 4, 4, 4, 4, 4, 4, 4, 12, 3))\n",
    "#B = fc_w.reshape((4, 12, 4, 12, 4, 8, 4, 8))\n",
    "B = fc_w.reshape((16, 16, 12, 16, 16, 3))\n",
    "B = fc_w.reshape((8, 12, 8, 16, 12, 16))\n",
    "\n",
    "B = fc_w.reshape((32, 48, 48, 32))"
   ]
  },
  {
   "cell_type": "code",
   "execution_count": 8,
   "metadata": {},
   "outputs": [
    {
     "data": {
      "text/plain": [
       "(16, 8, 16, 12, 12, 8)"
      ]
     },
     "execution_count": 8,
     "metadata": {},
     "output_type": "execute_result"
    }
   ],
   "source": [
    "(16, 8, 16, 12, 12, 8)"
   ]
  },
  {
   "cell_type": "code",
   "execution_count": 9,
   "metadata": {},
   "outputs": [],
   "source": [
    "#C = B.permute((0, 2, 4, 1, 3, 5))\n",
    "C = B.permute((0, 3, 1, 4, 2, 5))\n",
    "#C = B.permute((0, 5, 1, 6, 2, 7, 3, 8, 4, 9))\n",
    "#C = B.permute((0, 1, 2, 3, 4))"
   ]
  },
  {
   "cell_type": "code",
   "execution_count": 10,
   "metadata": {},
   "outputs": [
    {
     "name": "stdout",
     "output_type": "stream",
     "text": [
      "torch.Size([8, 16, 12, 12, 8, 16])\n"
     ]
    }
   ],
   "source": [
    "print (C.shape)"
   ]
  },
  {
   "cell_type": "code",
   "execution_count": 19,
   "metadata": {},
   "outputs": [],
   "source": [
    "#D = C.reshape((16, 32, 16, 16, 18))\n",
    "D = C.reshape((128, 192, 96))"
   ]
  },
  {
   "cell_type": "code",
   "execution_count": 12,
   "metadata": {},
   "outputs": [
    {
     "name": "stdout",
     "output_type": "stream",
     "text": [
      "Requirement already satisfied: tntorch in /opt/.pyenv/versions/3.7.4/lib/python3.7/site-packages (1.1.1)\n",
      "Requirement already satisfied: numpy in /opt/.pyenv/versions/3.7.4/lib/python3.7/site-packages (from tntorch) (1.19.5)\n",
      "Requirement already satisfied: scipy in /opt/.pyenv/versions/3.7.4/lib/python3.7/site-packages (from tntorch) (1.3.2)\n",
      "Requirement already satisfied: torch>=1.11 in /opt/.pyenv/versions/3.7.4/lib/python3.7/site-packages (from tntorch) (1.12.0.dev20220228+cu111)\n",
      "Requirement already satisfied: typing-extensions in /opt/.pyenv/versions/3.7.4/lib/python3.7/site-packages (from torch>=1.11->tntorch) (3.10.0.2)\n",
      "\u001b[33mWARNING: You are using pip version 19.3.1; however, version 22.2.2 is available.\n",
      "You should consider upgrading via the 'pip install --upgrade pip' command.\u001b[0m\n"
     ]
    }
   ],
   "source": [
    "!pip3 install tntorch"
   ]
  },
  {
   "cell_type": "code",
   "execution_count": 15,
   "metadata": {},
   "outputs": [
    {
     "ename": "NameError",
     "evalue": "name 'ttm_for_tensor' is not defined",
     "output_type": "error",
     "traceback": [
      "\u001b[0;31m\u001b[0m",
      "\u001b[0;31mNameError\u001b[0mTraceback (most recent call last)",
      "\u001b[0;32m<ipython-input-15-52ec78d9d845>\u001b[0m in \u001b[0;36m<module>\u001b[0;34m\u001b[0m\n\u001b[0;32m----> 1\u001b[0;31m \u001b[0mfactors\u001b[0m \u001b[0;34m=\u001b[0m \u001b[0mttm_for_tensor\u001b[0m\u001b[0;34m(\u001b[0m\u001b[0mD\u001b[0m\u001b[0;34m,\u001b[0m \u001b[0mrank\u001b[0m \u001b[0;34m=\u001b[0m \u001b[0;34m[\u001b[0m\u001b[0;36m1\u001b[0m\u001b[0;34m,\u001b[0m \u001b[0;36m90\u001b[0m\u001b[0;34m,\u001b[0m \u001b[0;36m90\u001b[0m\u001b[0;34m,\u001b[0m \u001b[0;36m90\u001b[0m\u001b[0;34m,\u001b[0m \u001b[0;36m1\u001b[0m\u001b[0;34m]\u001b[0m\u001b[0;34m)\u001b[0m\u001b[0;34m\u001b[0m\u001b[0;34m\u001b[0m\u001b[0m\n\u001b[0m",
      "\u001b[0;31mNameError\u001b[0m: name 'ttm_for_tensor' is not defined"
     ]
    }
   ],
   "source": [
    "factors = ttm_for_tensor(D, rank = [1, 90, 90, 90, 1])"
   ]
  },
  {
   "cell_type": "code",
   "execution_count": 16,
   "metadata": {},
   "outputs": [],
   "source": [
    "import tntorch\n",
    "from tntorch import Tensor"
   ]
  },
  {
   "cell_type": "code",
   "execution_count": 20,
   "metadata": {},
   "outputs": [],
   "source": [
    "tt = tntorch.Tensor(D, ranks_tt = [90, 90])"
   ]
  },
  {
   "cell_type": "code",
   "execution_count": 23,
   "metadata": {},
   "outputs": [
    {
     "name": "stdout",
     "output_type": "stream",
     "text": [
      "torch.Size([1, 128, 90])\n",
      "torch.Size([90, 192, 90])\n",
      "torch.Size([90, 96, 1])\n"
     ]
    }
   ],
   "source": [
    "for elem in tt.cores:\n",
    "    print (elem.shape)"
   ]
  },
  {
   "cell_type": "code",
   "execution_count": 24,
   "metadata": {},
   "outputs": [],
   "source": [
    "restore = tntorch.Tensor(tt.cores).torch()"
   ]
  },
  {
   "cell_type": "code",
   "execution_count": 25,
   "metadata": {},
   "outputs": [
    {
     "data": {
      "text/plain": [
       "torch.Size([128, 192, 96])"
      ]
     },
     "execution_count": 25,
     "metadata": {},
     "output_type": "execute_result"
    }
   ],
   "source": [
    "restore.shape"
   ]
  },
  {
   "cell_type": "code",
   "execution_count": 56,
   "metadata": {},
   "outputs": [
    {
     "data": {
      "text/plain": [
       "torch.Size([32, 48, 48, 32])"
      ]
     },
     "execution_count": 56,
     "metadata": {},
     "output_type": "execute_result"
    }
   ],
   "source": [
    "B.shape"
   ]
  },
  {
   "cell_type": "code",
   "execution_count": 30,
   "metadata": {},
   "outputs": [
    {
     "data": {
      "text/plain": [
       "tensor(0.5429, grad_fn=<DivBackward0>)"
      ]
     },
     "execution_count": 30,
     "metadata": {},
     "output_type": "execute_result"
    }
   ],
   "source": [
    "err = torch.norm(restore - D)/torch.norm(D)\n",
    "err"
   ]
  },
  {
   "cell_type": "code",
   "execution_count": null,
   "metadata": {},
   "outputs": [],
   "source": [
    "errs5_m = []\n",
    "ranks5_m = []\n",
    "c_rates5_m = []\n",
    "\n",
    "err = 10.0\n",
    "rank1 = 10\n",
    "rank2 = 10\n",
    "step = 10\n",
    "while (err > 0.1):\n",
    "    factors = tntorch.Tensor(B, ranks_tt = [rank1, rank2])\n",
    "    for i,f in enumerate(factors.cores):\n",
    "        print (\"initial\", f.shape)\n",
    "    restore = tntorch.Tensor(factors.cores).torch()\n",
    "    err = torch.norm(restore - B)/torch.norm(B)\n",
    "    compression_rate = (np.sum(list(np.prod(elem.shape) for elem in factors.cores))/(np.prod(fc_w.shape)))\n",
    "    print (\"err \", err, \"compression_rate \", compression_rate, \"rank \", rank1, rank2)\n",
    "    errs5_m.append(err)\n",
    "    ranks5_m.append(rank1)\n",
    "    c_rates5_m.append(compression_rate)\n",
    "    if (rank1 > rank2):\n",
    "        rank2 += step\n",
    "    else:\n",
    "        rank1 += step"
   ]
  },
  {
   "cell_type": "code",
   "execution_count": null,
   "metadata": {},
   "outputs": [],
   "source": [
    "errs4_m = []\n",
    "ranks4_m = []\n",
    "c_rates4_m = []\n",
    "\n",
    "err = 10.0\n",
    "rank1 = 10\n",
    "rank2 = 10\n",
    "step = 10\n",
    "while (err > 0.1):\n",
    "    factors = tntorch.Tensor(B, ranks_tt = [rank1, rank2, rank1])\n",
    "    for i,f in enumerate(factors.cores):\n",
    "        print (\"initial\", f.shape)\n",
    "    restore = tntorch.Tensor(factors.cores).torch()\n",
    "    err = torch.norm(restore - B)/torch.norm(B)\n",
    "    compression_rate = (np.sum(list(np.prod(elem.shape) for elem in factors.cores))/(np.prod(fc_w.shape)))\n",
    "    print (\"err \", err, \"compression_rate \", compression_rate, \"rank \", rank1, rank2)\n",
    "    errs4_m.append(err)\n",
    "    ranks4_m.append(rank1)\n",
    "    c_rates4_m.append(compression_rate)\n",
    "    if (rank1 > rank2):\n",
    "        rank2 += step\n",
    "    else:\n",
    "        rank1 += step"
   ]
  },
  {
   "cell_type": "code",
   "execution_count": null,
   "metadata": {},
   "outputs": [],
   "source": [
    "import tensorly as tl\n",
    "from tensorly.decomposition import tensor_train\n",
    "tl.set_backend('pytorch')\n",
    "\n",
    "errs1_m = []\n",
    "ranks1_m = []\n",
    "c_rates1_m = []\n",
    "\n",
    "err = 10.0\n",
    "rank1 = 50\n",
    "rank2 = 50\n",
    "step = 4\n",
    "while (err > 0.1):\n",
    "    factors = ttm_for_tensor(D, rank = [1, rank1, rank2, 1])\n",
    "    for i,f in enumerate(factors):\n",
    "        print (\"initial\", f.shape)\n",
    "    D_rest = tl.tt_tensor.tt_to_tensor(factors)\n",
    "    err = np.linalg.norm(D_rest - D)/np.linalg.norm(D)\n",
    "    compression_rate = (np.sum(list(np.prod(elem.shape) for elem in factors))/(np.prod(fc_w.shape)))\n",
    "    print (\"err \", err, \"compression_rate \", compression_rate, \"rank \", rank1, rank2)\n",
    "    errs1_m.append(err)\n",
    "    ranks1_m.append(rank1)\n",
    "    c_rates1_m.append(compression_rate)\n",
    "    if (rank1 > rank2):\n",
    "        rank2 += step\n",
    "    else:\n",
    "        rank1 += step"
   ]
  },
  {
   "cell_type": "code",
   "execution_count": 51,
   "metadata": {},
   "outputs": [
    {
     "name": "stdout",
     "output_type": "stream",
     "text": [
      "torch.Size([128, 192, 96])\n"
     ]
    },
    {
     "ename": "RuntimeError",
     "evalue": "number of dims don't match in permute",
     "output_type": "error",
     "traceback": [
      "\u001b[0;31m\u001b[0m",
      "\u001b[0;31mRuntimeError\u001b[0mTraceback (most recent call last)",
      "\u001b[0;32m<ipython-input-51-e75ebdfc52b5>\u001b[0m in \u001b[0;36m<module>\u001b[0;34m\u001b[0m\n\u001b[1;32m     12\u001b[0m \u001b[0mstep\u001b[0m \u001b[0;34m=\u001b[0m \u001b[0;36m4\u001b[0m\u001b[0;34m\u001b[0m\u001b[0;34m\u001b[0m\u001b[0m\n\u001b[1;32m     13\u001b[0m \u001b[0;32mwhile\u001b[0m \u001b[0;34m(\u001b[0m\u001b[0merr\u001b[0m \u001b[0;34m>\u001b[0m \u001b[0;36m0.1\u001b[0m\u001b[0;34m)\u001b[0m\u001b[0;34m:\u001b[0m\u001b[0;34m\u001b[0m\u001b[0;34m\u001b[0m\u001b[0m\n\u001b[0;32m---> 14\u001b[0;31m     \u001b[0mfactors\u001b[0m \u001b[0;34m=\u001b[0m \u001b[0mttm_for_tensor\u001b[0m\u001b[0;34m(\u001b[0m\u001b[0mD\u001b[0m\u001b[0;34m,\u001b[0m \u001b[0mrank\u001b[0m \u001b[0;34m=\u001b[0m \u001b[0;34m[\u001b[0m\u001b[0;36m1\u001b[0m\u001b[0;34m,\u001b[0m \u001b[0mrank1\u001b[0m\u001b[0;34m,\u001b[0m \u001b[0mrank2\u001b[0m\u001b[0;34m,\u001b[0m \u001b[0;36m1\u001b[0m\u001b[0;34m]\u001b[0m\u001b[0;34m)\u001b[0m\u001b[0;34m\u001b[0m\u001b[0;34m\u001b[0m\u001b[0m\n\u001b[0m\u001b[1;32m     15\u001b[0m     \u001b[0;32mfor\u001b[0m \u001b[0mi\u001b[0m\u001b[0;34m,\u001b[0m\u001b[0mf\u001b[0m \u001b[0;32min\u001b[0m \u001b[0menumerate\u001b[0m\u001b[0;34m(\u001b[0m\u001b[0mfactors\u001b[0m\u001b[0;34m)\u001b[0m\u001b[0;34m:\u001b[0m\u001b[0;34m\u001b[0m\u001b[0;34m\u001b[0m\u001b[0m\n\u001b[1;32m     16\u001b[0m         \u001b[0mprint\u001b[0m \u001b[0;34m(\u001b[0m\u001b[0;34m\"initial\"\u001b[0m\u001b[0;34m,\u001b[0m \u001b[0mf\u001b[0m\u001b[0;34m.\u001b[0m\u001b[0mshape\u001b[0m\u001b[0;34m)\u001b[0m\u001b[0;34m\u001b[0m\u001b[0;34m\u001b[0m\u001b[0m\n",
      "\u001b[0;32m<ipython-input-50-c2691829d704>\u001b[0m in \u001b[0;36mttm_for_tensor\u001b[0;34m(input_tensor, rank)\u001b[0m\n\u001b[1;32m     11\u001b[0m     \u001b[0;31m# based on tensorly implementation of I.Oseledets paper\u001b[0m\u001b[0;34m\u001b[0m\u001b[0;34m\u001b[0m\u001b[0;34m\u001b[0m\u001b[0m\n\u001b[1;32m     12\u001b[0m     \u001b[0mprint\u001b[0m \u001b[0;34m(\u001b[0m\u001b[0minput_tensor\u001b[0m\u001b[0;34m.\u001b[0m\u001b[0mshape\u001b[0m\u001b[0;34m)\u001b[0m\u001b[0;34m\u001b[0m\u001b[0;34m\u001b[0m\u001b[0m\n\u001b[0;32m---> 13\u001b[0;31m     \u001b[0minput_tensor\u001b[0m \u001b[0;34m=\u001b[0m \u001b[0minput_tensor\u001b[0m\u001b[0;34m.\u001b[0m\u001b[0mpermute\u001b[0m\u001b[0;34m(\u001b[0m\u001b[0;34m(\u001b[0m\u001b[0;36m0\u001b[0m\u001b[0;34m,\u001b[0m \u001b[0;36m3\u001b[0m\u001b[0;34m,\u001b[0m \u001b[0;36m1\u001b[0m\u001b[0;34m,\u001b[0m \u001b[0;36m4\u001b[0m\u001b[0;34m,\u001b[0m \u001b[0;36m2\u001b[0m\u001b[0;34m,\u001b[0m \u001b[0;36m5\u001b[0m\u001b[0;34m)\u001b[0m\u001b[0;34m)\u001b[0m\u001b[0;34m\u001b[0m\u001b[0;34m\u001b[0m\u001b[0m\n\u001b[0m\u001b[1;32m     14\u001b[0m     \u001b[0mprint\u001b[0m \u001b[0;34m(\u001b[0m\u001b[0minput_tensor\u001b[0m\u001b[0;34m.\u001b[0m\u001b[0mshape\u001b[0m\u001b[0;34m)\u001b[0m\u001b[0;34m\u001b[0m\u001b[0;34m\u001b[0m\u001b[0m\n\u001b[1;32m     15\u001b[0m \u001b[0;34m\u001b[0m\u001b[0m\n",
      "\u001b[0;31mRuntimeError\u001b[0m: number of dims don't match in permute"
     ]
    }
   ],
   "source": [
    "import tensorly as tl\n",
    "from tensorly.decomposition import tensor_train\n",
    "tl.set_backend('pytorch')\n",
    "\n",
    "errs1_m = []\n",
    "ranks1_m = []\n",
    "c_rates1_m = []\n",
    "\n",
    "err = 10.0\n",
    "rank1 = 50\n",
    "rank2 = 50\n",
    "step = 4\n",
    "while (err > 0.1):\n",
    "    factors = ttm_for_tensor(D, rank = [1, rank1, rank2, 1])\n",
    "    for i,f in enumerate(factors):\n",
    "        print (\"initial\", f.shape)\n",
    "    D_rest = tl.tt_tensor.tt_to_tensor(factors)\n",
    "    err = np.linalg.norm(D_rest - D)/np.linalg.norm(D)\n",
    "    compression_rate = (np.sum(list(np.prod(elem.shape) for elem in factors))/(np.prod(fc_w.shape)))\n",
    "    print (\"err \", err, \"compression_rate \", compression_rate, \"rank \", rank1, rank2)\n",
    "    errs1_m.append(err)\n",
    "    ranks1_m.append(rank1)\n",
    "    c_rates1_m.append(compression_rate)\n",
    "    if (rank1 > rank2):\n",
    "        rank2 += step\n",
    "    else:\n",
    "        rank1 += step"
   ]
  },
  {
   "cell_type": "code",
   "execution_count": 49,
   "metadata": {},
   "outputs": [
    {
     "ename": "NameError",
     "evalue": "name 'ttm_for_tensor' is not defined",
     "output_type": "error",
     "traceback": [
      "\u001b[0;31m\u001b[0m",
      "\u001b[0;31mNameError\u001b[0mTraceback (most recent call last)",
      "\u001b[0;32m<ipython-input-49-5f507ca3ece6>\u001b[0m in \u001b[0;36m<module>\u001b[0;34m\u001b[0m\n\u001b[1;32m     12\u001b[0m \u001b[0mstep\u001b[0m \u001b[0;34m=\u001b[0m \u001b[0;36m2\u001b[0m\u001b[0;34m\u001b[0m\u001b[0;34m\u001b[0m\u001b[0m\n\u001b[1;32m     13\u001b[0m \u001b[0;32mwhile\u001b[0m \u001b[0;34m(\u001b[0m\u001b[0mcompression_rate\u001b[0m \u001b[0;34m<\u001b[0m \u001b[0;36m0.7\u001b[0m\u001b[0;34m)\u001b[0m\u001b[0;34m:\u001b[0m\u001b[0;34m\u001b[0m\u001b[0;34m\u001b[0m\u001b[0m\n\u001b[0;32m---> 14\u001b[0;31m     \u001b[0mfactors\u001b[0m \u001b[0;34m=\u001b[0m \u001b[0mttm_for_tensor\u001b[0m\u001b[0;34m(\u001b[0m\u001b[0mB\u001b[0m\u001b[0;34m,\u001b[0m \u001b[0mrank\u001b[0m \u001b[0;34m=\u001b[0m \u001b[0;34m[\u001b[0m\u001b[0;36m1\u001b[0m\u001b[0;34m,\u001b[0m \u001b[0mrank1\u001b[0m\u001b[0;34m,\u001b[0m \u001b[0mrank2\u001b[0m\u001b[0;34m,\u001b[0m \u001b[0;36m1\u001b[0m\u001b[0;34m]\u001b[0m\u001b[0;34m)\u001b[0m\u001b[0;34m\u001b[0m\u001b[0;34m\u001b[0m\u001b[0m\n\u001b[0m\u001b[1;32m     15\u001b[0m     \u001b[0;32mfor\u001b[0m \u001b[0mi\u001b[0m\u001b[0;34m,\u001b[0m\u001b[0mf\u001b[0m \u001b[0;32min\u001b[0m \u001b[0menumerate\u001b[0m\u001b[0;34m(\u001b[0m\u001b[0mfactors\u001b[0m\u001b[0;34m)\u001b[0m\u001b[0;34m:\u001b[0m\u001b[0;34m\u001b[0m\u001b[0;34m\u001b[0m\u001b[0m\n\u001b[1;32m     16\u001b[0m         \u001b[0mprint\u001b[0m \u001b[0;34m(\u001b[0m\u001b[0;34m\"initial\"\u001b[0m\u001b[0;34m,\u001b[0m \u001b[0mf\u001b[0m\u001b[0;34m.\u001b[0m\u001b[0mshape\u001b[0m\u001b[0;34m)\u001b[0m\u001b[0;34m\u001b[0m\u001b[0;34m\u001b[0m\u001b[0m\n",
      "\u001b[0;31mNameError\u001b[0m: name 'ttm_for_tensor' is not defined"
     ]
    }
   ],
   "source": [
    "import tensorly as tl\n",
    "from tensorly.decomposition import tensor_train\n",
    "tl.set_backend('pytorch')\n",
    "\n",
    "errs1 = []\n",
    "ranks1 = []\n",
    "c_rates1 = []\n",
    "\n",
    "err = 10.0\n",
    "rank1 = 50\n",
    "rank2 = 50\n",
    "step = 2\n",
    "while (compression_rate < 0.7):\n",
    "    factors = ttm_for_tensor(B, rank = [1, rank1, rank2, 1])\n",
    "    for i,f in enumerate(factors):\n",
    "        print (\"initial\", f.shape)\n",
    "    D_rest = tl.tt_tensor.tt_to_tensor(factors)\n",
    "    err = np.linalg.norm(D_rest - B)/np.linalg.norm(B)\n",
    "    compression_rate = (np.sum(list(np.prod(elem.shape) for elem in factors))/(np.prod(fc_w.shape)))\n",
    "    print (\"err \", err, \"compression_rate \", compression_rate, \"rank \", rank1, rank2)\n",
    "    errs1.append(err)\n",
    "    ranks1.append(rank1)\n",
    "    c_rates1.append(compression_rate)\n",
    "    if (rank1 > rank2):\n",
    "        rank2 += step\n",
    "    else:\n",
    "        rank1 += step"
   ]
  },
  {
   "cell_type": "code",
   "execution_count": 15,
   "metadata": {},
   "outputs": [
    {
     "name": "stdout",
     "output_type": "stream",
     "text": [
      "err  0.86423 compression_rate  0.08138020833333333 rank  50\n",
      "err  0.83279854 compression_rate  0.11393229166666667 rank  70\n",
      "err  0.8036815 compression_rate  0.146484375 rank  90\n",
      "err  0.7760865 compression_rate  0.17903645833333334 rank  110\n",
      "err  0.74958867 compression_rate  0.21158854166666666 rank  130\n",
      "err  0.7241182 compression_rate  0.244140625 rank  150\n",
      "err  0.6993818 compression_rate  0.2766927083333333 rank  170\n",
      "err  0.67526895 compression_rate  0.3092447916666667 rank  190\n",
      "err  0.6517644 compression_rate  0.341796875 rank  210\n",
      "err  0.6287239 compression_rate  0.3743489583333333 rank  230\n",
      "err  0.60605574 compression_rate  0.4069010416666667 rank  250\n",
      "err  0.5838191 compression_rate  0.439453125 rank  270\n",
      "err  0.56185037 compression_rate  0.4720052083333333 rank  290\n",
      "err  0.5402275 compression_rate  0.5045572916666666 rank  310\n",
      "err  0.5188214 compression_rate  0.537109375 rank  330\n",
      "err  0.49768755 compression_rate  0.5696614583333334 rank  350\n",
      "err  0.47678825 compression_rate  0.6022135416666666 rank  370\n",
      "err  0.4560614 compression_rate  0.634765625 rank  390\n",
      "err  0.43550867 compression_rate  0.6673177083333334 rank  410\n",
      "err  0.41510186 compression_rate  0.6998697916666666 rank  430\n",
      "err  0.39484853 compression_rate  0.732421875 rank  450\n"
     ]
    }
   ],
   "source": [
    "errs = []\n",
    "ranks = []\n",
    "c_rates = []\n",
    "\n",
    "err = 10.0\n",
    "rank = 50\n",
    "compression_rate = 0.0\n",
    "\n",
    "step = 20\n",
    "while (compression_rate < 0.7):\n",
    "    U, S, Vt = np.linalg.svd(fc_w.detach().numpy(), full_matrices=False)\n",
    "    # truncate SVD and fuse Sigma matrix\n",
    "    w1 = np.dot(np.diag(np.sqrt(S[0:rank])),Vt[0:rank, :])\n",
    "    w2 = np.dot(U[:, 0:rank], np.diag(np.sqrt(S[0:rank])))\n",
    "    fc_rec = np.dot(w2, w1)\n",
    "    err = np.linalg.norm(fc_rec - fc_w.data.numpy())/np.linalg.norm(fc_w.data.numpy())\n",
    "    compression_rate = (np.prod(w1.shape) + np.prod(w2.shape))/((np.prod(fc_w.shape)))\n",
    "    print (\"err \", err, \"compression_rate \", compression_rate, \"rank \", rank)\n",
    "    errs.append(err)\n",
    "    ranks.append(rank)\n",
    "    c_rates.append(compression_rate)\n",
    "    rank += step"
   ]
  },
  {
   "cell_type": "code",
   "execution_count": 49,
   "metadata": {},
   "outputs": [
    {
     "name": "stdout",
     "output_type": "stream",
     "text": [
      "Populating the interactive namespace from numpy and matplotlib\n"
     ]
    },
    {
     "name": "stderr",
     "output_type": "stream",
     "text": [
      "/opt/.pyenv/versions/3.7.4/lib/python3.7/site-packages/IPython/core/magics/pylab.py:160: UserWarning: pylab import has clobbered these variables: ['step', 'random']\n",
      "`%matplotlib` prevents importing * from pylab and numpy\n",
      "  \"\\n`%matplotlib` prevents importing * from pylab and numpy\"\n"
     ]
    }
   ],
   "source": [
    "%pylab inline"
   ]
  },
  {
   "cell_type": "code",
   "execution_count": 27,
   "metadata": {},
   "outputs": [
    {
     "data": {
      "image/png": "[encoded data removed]",
      "text/plain": [
       "<Figure size 432x288 with 1 Axes>"
      ]
     },
     "metadata": {
      "needs_background": "light"
     },
     "output_type": "display_data"
    }
   ],
   "source": [
    "import matplotlib.pyplot as plt\n",
    "  \n",
    "\n",
    "# plot lines\n",
    "plt.plot(c_rates, errs, label = \"SVD\")\n",
    "plt.plot(c_rates1, errs1,  label = \"TTM (permute + reshape) 4 cores \")\n",
    "plt.plot(c_rates2, errs2,  label = \"TTM (permute + reshape) 3 cores \")\n",
    "plt.plot(c_rates3, errs3,  label = \"TTM (permute + reshape) 5 cores \")\n",
    "#plt.plot(errs1_m, c_rates1_m, label = \"TTM (permute + reshape)\")\n",
    "plt.ylabel('errors')\n",
    "plt.xlabel('compression rate')\n",
    "plt.savefig('Different approaches to compression.png')\n",
    "plt.legend()\n",
    "plt.show()"
   ]
  },
  {
   "cell_type": "code",
   "execution_count": 71,
   "metadata": {},
   "outputs": [
    {
     "data": {
      "image/png": "[encoded data removed]",
      "text/plain": [
       "<Figure size 432x288 with 1 Axes>"
      ]
     },
     "metadata": {
      "needs_background": "light"
     },
     "output_type": "display_data"
    }
   ],
   "source": [
    "import matplotlib.pyplot as plt\n",
    "  \n",
    "\n",
    "# plot lines\n",
    "plt.plot(c_rates, errs, label = \"SVD\")\n",
    "plt.plot(c_rates2, errs2,  label = \"TTM tensorly 4 cores \")\n",
    "plt.plot(c_rates4_m, errs4_m,  label = \"TTM (permute + reshape) 4 core\")\n",
    "#plt.plot(errs1_m, c_rates1_m, label = \"TTM (permute + reshape)\")\n",
    "plt.ylabel('errors')\n",
    "plt.xlabel('compression rate')\n",
    "plt.legend()\n",
    "plt.show()"
   ]
  },
  {
   "cell_type": "code",
   "execution_count": 51,
   "metadata": {},
   "outputs": [
    {
     "data": {
      "text/plain": [
       "[12800, 120000, 9600]"
      ]
     },
     "execution_count": 51,
     "metadata": {},
     "output_type": "execute_result"
    }
   ],
   "source": [
    "list(np.prod(elem.shape) for elem in new_factors)"
   ]
  },
  {
   "cell_type": "code",
   "execution_count": 48,
   "metadata": {},
   "outputs": [
    {
     "name": "stdout",
     "output_type": "stream",
     "text": [
      "0.03475613064236111\n"
     ]
    }
   ],
   "source": [
    "print (np.sum(list(np.prod(elem.shape) for elem in new_factors))/(3072*768))"
   ]
  },
  {
   "cell_type": "code",
   "execution_count": null,
   "metadata": {},
   "outputs": [],
   "source": []
  }
 ],
 "metadata": {
  "kernelspec": {
   "display_name": "Python 3 (ipykernel)",
   "language": "python",
   "name": "python3"
  },
  "language_info": {
   "codemirror_mode": {
    "name": "ipython",
    "version": 3
   },
   "file_extension": ".py",
   "mimetype": "text/x-python",
   "name": "python",
   "nbconvert_exporter": "python",
   "pygments_lexer": "ipython3",
   "version": "3.8.10"
  }
 },
 "nbformat": 4,
 "nbformat_minor": 4
}
