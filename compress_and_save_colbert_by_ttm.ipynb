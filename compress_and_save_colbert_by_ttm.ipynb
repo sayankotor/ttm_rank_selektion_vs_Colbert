{
 "cells": [
  {
   "cell_type": "code",
   "execution_count": 7,
   "metadata": {},
   "outputs": [
    {
     "name": "stderr",
     "output_type": "stream",
     "text": [
      "Some weights of the model checkpoint at bert-base-uncased were not used when initializing ColBERT: ['cls.predictions.bias', 'cls.predictions.transform.dense.weight', 'cls.predictions.transform.dense.bias', 'cls.predictions.decoder.weight', 'cls.seq_relationship.weight', 'cls.seq_relationship.bias', 'cls.predictions.transform.LayerNorm.weight', 'cls.predictions.transform.LayerNorm.bias']\n",
      "- This IS expected if you are initializing ColBERT from the checkpoint of a model trained on another task or with another architecture (e.g. initializing a BertForSequenceClassification model from a BertForPreTraining model).\n",
      "- This IS NOT expected if you are initializing ColBERT from the checkpoint of a model that you expect to be exactly identical (initializing a BertForSequenceClassification model from a BertForSequenceClassification model).\n",
      "Some weights of ColBERT were not initialized from the model checkpoint at bert-base-uncased and are newly initialized: ['linear.weight']\n",
      "You should probably TRAIN this model on a down-stream task to be able to use it for predictions and inference.\n"
     ]
    }
   ],
   "source": [
    "import os\n",
    "import random\n",
    "import time\n",
    "import torch\n",
    "import torch.nn as nn\n",
    "import numpy as np\n",
    "\n",
    "from colbert.modeling.colbert import ColBERT\n",
    "from colbert.utils.utils import print_message\n",
    "from colbert.training.utils import print_progress, manage_checkpoints\n",
    "\n",
    "query_maxlen = 512\n",
    "query_maxlen = 512\n",
    "doc_maxlen = 512\n",
    "dim = 128\n",
    "similarity = 'cosine'\n",
    "\n",
    "colbert = ColBERT.from_pretrained('bert-base-uncased', query_maxlen=query_maxlen, doc_maxlen=doc_maxlen, dim=dim, similarity_metric=similarity, mask_punctuation=False)"
   ]
  },
  {
   "cell_type": "code",
   "execution_count": 1,
   "metadata": {},
   "outputs": [],
   "source": [
    "from tensor_net1 import TTLayer"
   ]
  },
  {
   "cell_type": "code",
   "execution_count": 3,
   "metadata": {},
   "outputs": [
    {
     "name": "stdout",
     "output_type": "stream",
     "text": [
      "109580544\n"
     ]
    }
   ],
   "source": [
    "print(sum(p.numel() for p in colbert.parameters()))"
   ]
  },
  {
   "cell_type": "code",
   "execution_count": 13,
   "metadata": {},
   "outputs": [
    {
     "name": "stdout",
     "output_type": "stream",
     "text": [
      "2359296\n"
     ]
    }
   ],
   "source": [
    "fc_w = colbert.bert.encoder.layer[3].intermediate.dense\n",
    "fc_b = colbert.bert.encoder.layer[3].intermediate.dense.bias\n",
    "print(sum(p.numel() for p in fc_w.weight))"
   ]
  },
  {
   "cell_type": "code",
   "execution_count": 17,
   "metadata": {},
   "outputs": [
    {
     "name": "stdout",
     "output_type": "stream",
     "text": [
      "3072\n"
     ]
    }
   ],
   "source": [
    "print(sum(p.numel() for p in fc_b))"
   ]
  },
  {
   "cell_type": "code",
   "execution_count": 16,
   "metadata": {},
   "outputs": [
    {
     "name": "stdout",
     "output_type": "stream",
     "text": [
      "3072 768\n",
      "layer.shape torch.Size([3072, 768])\n",
      "ParameterList(\n",
      "    (0): Parameter containing: [torch.FloatTensor of size 1x32x32]\n",
      "    (1): Parameter containing: [torch.FloatTensor of size 32x48x390]\n",
      "    (2): Parameter containing: [torch.FloatTensor of size 390x48x32]\n",
      "    (3): Parameter containing: [torch.FloatTensor of size 32x32x1]\n",
      ")\n",
      "1203200\n"
     ]
    }
   ],
   "source": [
    "TT_SHAPES = (32, 48, 48, 32)\n",
    "TT_RANKS = [1, 380, 390, 380, 1] # comp rate 0.5\n",
    "SVD_RANKS = 350\n",
    "\n",
    "\n",
    "fc_w = colbert.bert.encoder.layer[3].intermediate.dense\n",
    "fc_b = colbert.bert.encoder.layer[3].intermediate.dense.bias\n",
    "\n",
    "(out_, in_) = fc_w.weight.shape\n",
    "print (out_, in_)\n",
    "factorized_layer = TTLayer(fc_w, shapes = TT_SHAPES, in_dims = [32, 24], ranks = TT_RANKS)\n",
    "print (factorized_layer.cores)\n",
    "print(sum(p.numel() for p in factorized_layer.parameters()))"
   ]
  },
  {
   "cell_type": "markdown",
   "metadata": {},
   "source": [
    "## TT"
   ]
  },
  {
   "cell_type": "code",
   "execution_count": 4,
   "metadata": {},
   "outputs": [
    {
     "name": "stdout",
     "output_type": "stream",
     "text": [
      "3072 768\n",
      "ParameterList(\n",
      "    (0): Parameter containing: [torch.FloatTensor of size 1x32x32]\n",
      "    (1): Parameter containing: [torch.FloatTensor of size 32x48x450]\n",
      "    (2): Parameter containing: [torch.FloatTensor of size 450x48x32]\n",
      "    (3): Parameter containing: [torch.FloatTensor of size 32x32x1]\n",
      ")\n",
      "torch.Size([1, 32, 32])\n",
      "torch.Size([32, 48, 450])\n",
      "torch.Size([450, 48, 32])\n",
      "torch.Size([32, 32, 1])\n",
      "3072 768\n",
      "ParameterList(\n",
      "    (0): Parameter containing: [torch.FloatTensor of size 1x32x32]\n",
      "    (1): Parameter containing: [torch.FloatTensor of size 32x48x450]\n",
      "    (2): Parameter containing: [torch.FloatTensor of size 450x48x32]\n",
      "    (3): Parameter containing: [torch.FloatTensor of size 32x32x1]\n",
      ")\n",
      "torch.Size([1, 32, 32])\n",
      "torch.Size([32, 48, 450])\n",
      "torch.Size([450, 48, 32])\n",
      "torch.Size([32, 32, 1])\n",
      "3072 768\n",
      "ParameterList(\n",
      "    (0): Parameter containing: [torch.FloatTensor of size 1x32x32]\n",
      "    (1): Parameter containing: [torch.FloatTensor of size 32x48x450]\n",
      "    (2): Parameter containing: [torch.FloatTensor of size 450x48x32]\n",
      "    (3): Parameter containing: [torch.FloatTensor of size 32x32x1]\n",
      ")\n",
      "torch.Size([1, 32, 32])\n",
      "torch.Size([32, 48, 450])\n",
      "torch.Size([450, 48, 32])\n",
      "torch.Size([32, 32, 1])\n",
      "3072 768\n",
      "ParameterList(\n",
      "    (0): Parameter containing: [torch.FloatTensor of size 1x32x32]\n",
      "    (1): Parameter containing: [torch.FloatTensor of size 32x48x450]\n",
      "    (2): Parameter containing: [torch.FloatTensor of size 450x48x32]\n",
      "    (3): Parameter containing: [torch.FloatTensor of size 32x32x1]\n",
      ")\n",
      "torch.Size([1, 32, 32])\n",
      "torch.Size([32, 48, 450])\n",
      "torch.Size([450, 48, 32])\n",
      "torch.Size([32, 32, 1])\n",
      "3072 768\n",
      "ParameterList(\n",
      "    (0): Parameter containing: [torch.FloatTensor of size 1x32x32]\n",
      "    (1): Parameter containing: [torch.FloatTensor of size 32x48x450]\n",
      "    (2): Parameter containing: [torch.FloatTensor of size 450x48x32]\n",
      "    (3): Parameter containing: [torch.FloatTensor of size 32x32x1]\n",
      ")\n",
      "torch.Size([1, 32, 32])\n",
      "torch.Size([32, 48, 450])\n",
      "torch.Size([450, 48, 32])\n",
      "torch.Size([32, 32, 1])\n",
      "3072 768\n",
      "ParameterList(\n",
      "    (0): Parameter containing: [torch.FloatTensor of size 1x32x32]\n",
      "    (1): Parameter containing: [torch.FloatTensor of size 32x48x450]\n",
      "    (2): Parameter containing: [torch.FloatTensor of size 450x48x32]\n",
      "    (3): Parameter containing: [torch.FloatTensor of size 32x32x1]\n",
      ")\n",
      "torch.Size([1, 32, 32])\n",
      "torch.Size([32, 48, 450])\n",
      "torch.Size([450, 48, 32])\n",
      "torch.Size([32, 32, 1])\n"
     ]
    }
   ],
   "source": [
    "TT_SHAPES = [32, 48, 48, 32]\n",
    "TT_RANKS = [450, 450, 450]\n",
    "\n",
    "for i in [0, 2, 4, 6, 8, 10]:\n",
    "    # fc part\n",
    "    fc_w = colbert.bert.encoder.layer[i].intermediate.dense\n",
    "    fc_b = colbert.bert.encoder.layer[i].intermediate.dense.bias\n",
    "    (out_, in_) = fc_w.weight.shape\n",
    "    print (out_, in_)\n",
    "    factorized_layer = TTLayer(fc_w, shapes = TT_SHAPES, in_dims = [32, 24], ranks = TT_RANKS)\n",
    "    print (factorized_layer.cores)\n",
    "    for elem in factorized_layer.cores:\n",
    "        print (elem.shape)\n",
    "        \n",
    "    colbert.bert.encoder.layer[i].intermediate.dense = factorized_layer\n",
    "            \n",
    "    fc_w = colbert.bert.encoder.layer[i].output.dense\n",
    "    factorized_layer = TTLayer(fc_w, shapes = TT_SHAPES, in_dims = [32, 48, 2], ranks = TT_RANKS)\n",
    "    colbert.bert.encoder.layer[i].output.dense = factorized_layer"
   ]
  },
  {
   "cell_type": "code",
   "execution_count": 15,
   "metadata": {},
   "outputs": [
    {
     "name": "stdout",
     "output_type": "stream",
     "text": [
      "1385216\n"
     ]
    }
   ],
   "source": [
    "print(sum(p.numel() for p in colbert.bert.encoder.layer[2].output.dense.parameters()))"
   ]
  },
  {
   "cell_type": "code",
   "execution_count": 5,
   "metadata": {},
   "outputs": [
    {
     "name": "stdout",
     "output_type": "stream",
     "text": [
      "97882368\n"
     ]
    }
   ],
   "source": [
    "print(sum(p.numel() for p in colbert.parameters()))"
   ]
  },
  {
   "cell_type": "markdown",
   "metadata": {},
   "source": [
    "## TTM"
   ]
  },
  {
   "cell_type": "code",
   "execution_count": 8,
   "metadata": {},
   "outputs": [],
   "source": [
    "import numpy as np\n",
    "import torch\n",
    "from torch import nn\n",
    "import tntorch as tn\n",
    "\n",
    "import tensorly as tl\n",
    "from tensorly.decomposition import tensor_train\n",
    "tl.set_backend('pytorch')\n",
    "\n",
    "\n",
    "\n",
    "def matrix_to_tt_cores(matrix, shapes, ranks):\n",
    "  shapes = np.asarray(shapes)\n",
    "  matrix = matrix.reshape(list(shapes.flatten()))\n",
    "  print (matrix.shape)\n",
    "  d = len(shapes[0])\n",
    "  transpose_idx = list(np.arange(2 * d).reshape(2, d).T.flatten())\n",
    "  matrix = matrix.permute(*transpose_idx)\n",
    "  print (matrix.shape)\n",
    "  newshape = np.prod(shapes, 0)\n",
    "  matrix = matrix.reshape(list(newshape))\n",
    "  print (matrix.shape)\n",
    "  #tt = tn.Tensor(matrix, ranks_tt=ranks)\n",
    "  tt = tensor_train(full, rank = ranks)\n",
    "\n",
    "\n",
    "\n",
    "  newcores = []\n",
    "  for core, s1, s2, r1, r2 in zip(tt.cores,\n",
    "                                  shapes[0], shapes[1],\n",
    "                                  tt.ranks_tt, tt.ranks_tt[1:]):\n",
    "    newcores.append(core.reshape((r1, s1, s2, r2)))\n",
    "  return newcores\n",
    "\n",
    "\n",
    "def ttmatmul(cores, t, shapes, ranks):\n",
    "  ranks = [1] + ranks + [1]\n",
    "  tshape = t.shape\n",
    "\n",
    "  t = t.transpose(1, 0)\n",
    "  t = t.reshape((-1, shapes[1][-1], 1))\n",
    "  ndims = len(cores)\n",
    "  for i in reversed(range(ndims)):\n",
    "    t = torch.einsum('aijb,rjb->ira', (cores[i], t))\n",
    "    if i:\n",
    "      t = t.reshape((-1, shapes[1][i - 1], ranks[i]))\n",
    "  t = t.reshape((int(np.prod(shapes[0])), tshape[1]))\n",
    "  return t\n",
    "\n",
    "\n",
    "def transpose(cores):\n",
    "    result = []\n",
    "    for c in cores:\n",
    "        result.append(c.permute((0, 2, 1, 3)))\n",
    "    return result\n",
    "\n",
    "\n",
    "def matmultt(t, cores, shapes, ranks):\n",
    "    #t = t.transpose(1, 0)\n",
    "    #cores = transpose(cores)\n",
    "    shapes = [shapes[1], shapes[0]]\n",
    "    return ttmatmul(cores, t, shapes, ranks).transpose(1, 0)\n",
    "\n",
    "\n",
    "class TTLayer(nn.Module):\n",
    "    def __init__(self, layer, ranks):\n",
    "        super(TTLayer, self).__init__()\n",
    "        self.ranks = ranks\n",
    "        with torch.no_grad():\n",
    "            #weight = layer.weight.transpose(1, 0)\n",
    "            self.cores = nn.ParameterList(\n",
    "            map(nn.Parameter, tensor_train(layer, rank = ranks)))\n",
    "        #self.bias = layer.bias\n",
    "\n",
    "    def forward(self, inputs):\n",
    "        out = matmultt(inputs, self.cores, self.shapes, self.ranks)\n",
    "        out = out + self.bias\n",
    "        return out\n"
   ]
  },
  {
   "cell_type": "code",
   "execution_count": null,
   "metadata": {},
   "outputs": [],
   "source": []
  },
  {
   "cell_type": "code",
   "execution_count": 30,
   "metadata": {},
   "outputs": [
    {
     "data": {
      "text/plain": [
       "torch.Size([253, 6, 6])"
      ]
     },
     "execution_count": 30,
     "metadata": {},
     "output_type": "execute_result"
    }
   ],
   "source": [
    "m = torch.rand(11*23, 3*2, 2*3)\n",
    "v = torch.rand(30, 11 * 3 *2)  # Note: batch = 30, 11 * 3 features\n",
    "m.shape"
   ]
  },
  {
   "cell_type": "code",
   "execution_count": 33,
   "metadata": {},
   "outputs": [],
   "source": [
    "tt = tensor_train(m, rank = [1, 36, 6, 1])"
   ]
  },
  {
   "cell_type": "code",
   "execution_count": 27,
   "metadata": {},
   "outputs": [],
   "source": [
    "input_dims = [11, 3, 2]\n",
    "output_dims = [23, 2, 3]\n",
    "ranks = [50, 50]\n",
    "\n",
    "ttm = tn.TTMatrix(m, input_dims=input_dims, output_dims=output_dims, ranks=ranks)"
   ]
  },
  {
   "cell_type": "code",
   "execution_count": 28,
   "metadata": {},
   "outputs": [
    {
     "data": {
      "text/plain": [
       "tensor([11,  3,  2])"
      ]
     },
     "execution_count": 28,
     "metadata": {},
     "output_type": "execute_result"
    }
   ],
   "source": [
    "ttm.input_dims"
   ]
  },
  {
   "cell_type": "code",
   "execution_count": 34,
   "metadata": {},
   "outputs": [
    {
     "ename": "AttributeError",
     "evalue": "'TTTensor' object has no attribute 'input_dims'",
     "output_type": "error",
     "traceback": [
      "\u001b[0;31m---------------------------------------------------------------------------\u001b[0m",
      "\u001b[0;31mAttributeError\u001b[0m                            Traceback (most recent call last)",
      "\u001b[0;32m/tmp/ipykernel_9718/2754178192.py\u001b[0m in \u001b[0;36m<module>\u001b[0;34m\u001b[0m\n\u001b[0;32m----> 1\u001b[0;31m \u001b[0ma\u001b[0m \u001b[0;34m=\u001b[0m \u001b[0mtn\u001b[0m\u001b[0;34m.\u001b[0m\u001b[0mtt_multiply\u001b[0m\u001b[0;34m(\u001b[0m\u001b[0mtt\u001b[0m\u001b[0;34m,\u001b[0m \u001b[0mv\u001b[0m\u001b[0;34m)\u001b[0m\u001b[0;34m\u001b[0m\u001b[0;34m\u001b[0m\u001b[0m\n\u001b[0m\u001b[1;32m      2\u001b[0m \u001b[0mprint\u001b[0m \u001b[0;34m(\u001b[0m\u001b[0ma\u001b[0m\u001b[0;34m.\u001b[0m\u001b[0mshape\u001b[0m\u001b[0;34m)\u001b[0m\u001b[0;34m\u001b[0m\u001b[0;34m\u001b[0m\u001b[0m\n",
      "\u001b[0;32m/opt/.pyenv/versions/3.8.10/lib/python3.8/site-packages/tntorch/matrix.py\u001b[0m in \u001b[0;36mtt_multiply\u001b[0;34m(tt_matrix, tensor)\u001b[0m\n\u001b[1;32m    371\u001b[0m     \u001b[0;32massert\u001b[0m \u001b[0mlen\u001b[0m\u001b[0;34m(\u001b[0m\u001b[0mtensor\u001b[0m\u001b[0;34m.\u001b[0m\u001b[0mshape\u001b[0m\u001b[0;34m)\u001b[0m \u001b[0;34m>\u001b[0m \u001b[0;36m1\u001b[0m\u001b[0;34m\u001b[0m\u001b[0;34m\u001b[0m\u001b[0m\n\u001b[1;32m    372\u001b[0m \u001b[0;34m\u001b[0m\u001b[0m\n\u001b[0;32m--> 373\u001b[0;31m     \u001b[0mrows\u001b[0m \u001b[0;34m=\u001b[0m \u001b[0mtorch\u001b[0m\u001b[0;34m.\u001b[0m\u001b[0mprod\u001b[0m\u001b[0;34m(\u001b[0m\u001b[0mtt_matrix\u001b[0m\u001b[0;34m.\u001b[0m\u001b[0minput_dims\u001b[0m\u001b[0;34m)\u001b[0m\u001b[0;34m\u001b[0m\u001b[0;34m\u001b[0m\u001b[0m\n\u001b[0m\u001b[1;32m    374\u001b[0m     \u001b[0mb\u001b[0m \u001b[0;34m=\u001b[0m \u001b[0mtensor\u001b[0m\u001b[0;34m.\u001b[0m\u001b[0mreshape\u001b[0m\u001b[0;34m(\u001b[0m\u001b[0;34m-\u001b[0m\u001b[0;36m1\u001b[0m\u001b[0;34m,\u001b[0m \u001b[0mrows\u001b[0m\u001b[0;34m)\u001b[0m\u001b[0;34m.\u001b[0m\u001b[0mshape\u001b[0m\u001b[0;34m[\u001b[0m\u001b[0;36m0\u001b[0m\u001b[0;34m]\u001b[0m\u001b[0;34m\u001b[0m\u001b[0;34m\u001b[0m\u001b[0m\n\u001b[1;32m    375\u001b[0m     \u001b[0mtensor\u001b[0m \u001b[0;34m=\u001b[0m \u001b[0mtensor\u001b[0m\u001b[0;34m.\u001b[0m\u001b[0mreshape\u001b[0m\u001b[0;34m(\u001b[0m\u001b[0mb\u001b[0m\u001b[0;34m,\u001b[0m \u001b[0;34m-\u001b[0m\u001b[0;36m1\u001b[0m\u001b[0;34m)\u001b[0m\u001b[0;34m.\u001b[0m\u001b[0mT\u001b[0m\u001b[0;34m\u001b[0m\u001b[0;34m\u001b[0m\u001b[0m\n",
      "\u001b[0;31mAttributeError\u001b[0m: 'TTTensor' object has no attribute 'input_dims'"
     ]
    }
   ],
   "source": [
    "a = tn.tt_multiply(tt, v)\n",
    "print (a.shape)"
   ]
  },
  {
   "cell_type": "code",
   "execution_count": 29,
   "metadata": {},
   "outputs": [
    {
     "name": "stdout",
     "output_type": "stream",
     "text": [
      "torch.Size([1, 11, 23, 36])\n",
      "torch.Size([36, 3, 2, 6])\n",
      "torch.Size([6, 2, 3, 1])\n"
     ]
    }
   ],
   "source": [
    "for elem in ttm.cores:\n",
    "    print (elem.shape)"
   ]
  },
  {
   "cell_type": "code",
   "execution_count": 14,
   "metadata": {},
   "outputs": [
    {
     "data": {
      "text/plain": [
       "torch.Size([30, 33])"
      ]
     },
     "execution_count": 14,
     "metadata": {},
     "output_type": "execute_result"
    }
   ],
   "source": [
    "v.shape"
   ]
  },
  {
   "cell_type": "code",
   "execution_count": null,
   "metadata": {},
   "outputs": [],
   "source": [
    "def test_tt_multiply():\n",
    "    m = torch.rand(11 * 3, 23 * 2)\n",
    "    v = torch.rand(30, 11 * 3)  # Note: batch = 30, 11 * 3 features\n",
    "\n",
    "    input_dims = [11, 3]\n",
    "    output_dims = [23, 2]\n",
    "    ranks = [50]\n",
    "\n",
    "    ttm = tn.TTMatrix(m, input_dims=input_dims, output_dims=output_dims, ranks=ranks)\n",
    "    assert torch.allclose(v @ m, tn.tt_multiply(ttm, v))\n",
    "\n",
    "    cpm = tn.CPMatrix(m, input_dims=input_dims, output_dims=output_dims, rank=ranks[0])\n",
    "    assert torch.allclose(v @ m, tn.cp_multiply(cpm, v))\n"
   ]
  },
  {
   "cell_type": "code",
   "execution_count": 10,
   "metadata": {},
   "outputs": [],
   "source": [
    "fc_w = colbert.bert.encoder.layer[4].intermediate.dense.weight.data.cpu()\n",
    "fc = colbert.bert.encoder.layer[4].intermediate.dense"
   ]
  },
  {
   "cell_type": "code",
   "execution_count": 11,
   "metadata": {},
   "outputs": [
    {
     "name": "stderr",
     "output_type": "stream",
     "text": [
      "/opt/.pyenv/versions/3.8.10/lib/python3.8/site-packages/tensorly/backend/core.py:1106: UserWarning: In partial_svd: converting to NumPy. Check SVD_FUNS for available alternatives if you want to avoid this.\n",
      "  warnings.warn('In partial_svd: converting to NumPy.'\n"
     ]
    }
   ],
   "source": [
    "new_layer = TTLayer(fc_w.reshape(32, 48, 48, 32), ranks = [1, 380, 390, 380, 1])"
   ]
  },
  {
   "cell_type": "code",
   "execution_count": null,
   "metadata": {},
   "outputs": [],
   "source": [
    "torch.rand(2, 3)"
   ]
  },
  {
   "cell_type": "code",
   "execution_count": 12,
   "metadata": {},
   "outputs": [
    {
     "name": "stdout",
     "output_type": "stream",
     "text": [
      "torch.Size([1, 32, 32])\n",
      "torch.Size([32, 48, 390])\n",
      "torch.Size([390, 48, 32])\n",
      "torch.Size([32, 32, 1])\n"
     ]
    }
   ],
   "source": [
    "for elem in new_layer.cores:\n",
    "    print (elem.shape)"
   ]
  },
  {
   "cell_type": "code",
   "execution_count": null,
   "metadata": {},
   "outputs": [],
   "source": [
    "def tt_multiply(tt_matrix: TTMatrix, tensor: torch.Tensor):\n",
    "    \"\"\"\n",
    "    Multiply TTMatrix by any tensor of more than 1-way.\n",
    "    For vectors, reshape them to matrix of shape 1 x I\n",
    "    returns: torch.Tensor of shape b x num_cols(tt_matrix)\n",
    "    \"\"\"\n",
    "\n",
    "    assert len(tensor.shape) > 1\n",
    "\n",
    "    rows = torch.prod(tt_matrix.input_dims)\n",
    "    b = tensor.reshape(-1, rows).shape[0]\n",
    "    tensor = tensor.reshape(b, -1).T\n",
    "    result = tensor.reshape(tt_matrix.input_dims[0], -1)\n",
    "    result = torch.einsum('id,lior->ldor', result, tt_matrix.cores[0])\n",
    "\n",
    "    for d in range(1, tt_matrix.d):\n",
    "        result = result.reshape(tt_matrix.input_dims[d], -1, tt_matrix.cores[d].shape[0])\n",
    "        result = torch.einsum('idr,riob->dob', result, tt_matrix.cores[d])\n",
    "\n",
    "    return result.reshape(b, -1)"
   ]
  },
  {
   "cell_type": "code",
   "execution_count": null,
   "metadata": {},
   "outputs": [],
   "source": [
    "d_out_modes = [4, 4, 8, 4, 4]\n",
    "d_in_modes = [2, 4, 8, 4, 2]\n",
    "\n",
    "tt_ranks = [1, 2, 2, 2, 2, 1]\n",
    "tt_ranks2 = [ 1,  1, 16, 54,  6,  1]\n",
    "tt_ranks3 = [1, 4, 4, 4, 4, 1]\n",
    "tt_ranks4 = [1, 2, 4, 4, 2, 1]\n",
    "tt_ranks8 = [1, 2, 4, 8, 4, 2, 1]\n",
    "\n",
    "self.w_1 = ttm.TTLayer(d_in_modes, d_out_modes, tt_ranks3, bias=False)\n",
    "self.w_2 = ttm.TTLayer(d_out_modes,d_in_modes, tt_ranks4, bias=False)"
   ]
  },
  {
   "cell_type": "code",
   "execution_count": 11,
   "metadata": {},
   "outputs": [
    {
     "name": "stdout",
     "output_type": "stream",
     "text": [
      "2\n"
     ]
    }
   ],
   "source": [
    "new_layer = TTLayer(in_modes = [32, 48, 48, 32], out_modes = [48,32,48, 32], ranks = [1, 380, 390, 380, 1])"
   ]
  },
  {
   "cell_type": "code",
   "execution_count": 12,
   "metadata": {},
   "outputs": [
    {
     "name": "stdout",
     "output_type": "stream",
     "text": [
      "torch.Size([18240, 32])\n",
      "torch.Size([12480, 18240])\n",
      "torch.Size([18240, 18720])\n",
      "torch.Size([32, 12160])\n"
     ]
    }
   ],
   "source": [
    "for elem in new_layer.weight:\n",
    "    print (elem.shape)"
   ]
  },
  {
   "cell_type": "code",
   "execution_count": null,
   "metadata": {},
   "outputs": [],
   "source": [
    "fc.reshape(32, 48, 48, 32)"
   ]
  },
  {
   "cell_type": "code",
   "execution_count": null,
   "metadata": {},
   "outputs": [],
   "source": [
    "fc_w_new.weight.shape"
   ]
  },
  {
   "cell_type": "markdown",
   "metadata": {},
   "source": [
    "**singular values**"
   ]
  },
  {
   "cell_type": "code",
   "execution_count": null,
   "metadata": {},
   "outputs": [],
   "source": [
    "u,s,vh = np.linalg.svd(model.fc1.weight.cpu().detach().numpy())\n",
    "plt.plot(s)\n",
    "print (s[0:1], s[len(s)-2: len(s)-1])\n",
    "plt.show()"
   ]
  },
  {
   "cell_type": "code",
   "execution_count": 14,
   "metadata": {},
   "outputs": [
    {
     "data": {
      "image/png": "[encoded data removed]",
      "text/plain": [
       "<Figure size 432x288 with 1 Axes>"
      ]
     },
     "metadata": {
      "needs_background": "light"
     },
     "output_type": "display_data"
    }
   ],
   "source": [
    "plt.plot(s)\n",
    "plt.show()"
   ]
  },
  {
   "cell_type": "code",
   "execution_count": 6,
   "metadata": {},
   "outputs": [
    {
     "data": {
      "text/plain": [
       "{6: (0, 2, 4, 1, 3, 5),\n",
       " 8: (0, 2, 4, 6, 1, 3, 5, 7),\n",
       " 10: (0, 1, 2, 3, 4, 5, 6, 7, 8, 9)}"
      ]
     },
     "execution_count": 6,
     "metadata": {},
     "output_type": "execute_result"
    }
   ],
   "source": [
    "{6:(0, 2, 4, 1, 3, 5), 8:(0, 2, 4, 6, 1, 3, 5, 7), 10:(0, 1, 2, 3, 4, 5, 6, 7, 8, 9)}"
   ]
  },
  {
   "cell_type": "code",
   "execution_count": 7,
   "metadata": {},
   "outputs": [
    {
     "ename": "NameError",
     "evalue": "name 'input_' is not defined",
     "output_type": "error",
     "traceback": [
      "\u001b[0;31m\u001b[0m",
      "\u001b[0;31mNameError\u001b[0mTraceback (most recent call last)",
      "\u001b[0;32m<ipython-input-7-5647360fad83>\u001b[0m in \u001b[0;36m<module>\u001b[0;34m\u001b[0m\n\u001b[0;32m----> 1\u001b[0;31m \u001b[0ma\u001b[0m \u001b[0;34m=\u001b[0m \u001b[0mcolbert\u001b[0m\u001b[0;34m.\u001b[0m\u001b[0mbert\u001b[0m\u001b[0;34m.\u001b[0m\u001b[0mencoder\u001b[0m\u001b[0;34m.\u001b[0m\u001b[0mlayer\u001b[0m\u001b[0;34m[\u001b[0m\u001b[0;36m4\u001b[0m\u001b[0;34m]\u001b[0m\u001b[0;34m.\u001b[0m\u001b[0mintermediate\u001b[0m\u001b[0;34m.\u001b[0m\u001b[0mdense\u001b[0m\u001b[0;34m(\u001b[0m\u001b[0minput_\u001b[0m\u001b[0;34m)\u001b[0m\u001b[0;34m\u001b[0m\u001b[0;34m\u001b[0m\u001b[0m\n\u001b[0m",
      "\u001b[0;31mNameError\u001b[0m: name 'input_' is not defined"
     ]
    }
   ],
   "source": [
    "a = colbert.bert.encoder.layer[4].intermediate.dense(input_)"
   ]
  },
  {
   "cell_type": "code",
   "execution_count": 8,
   "metadata": {},
   "outputs": [
    {
     "ename": "NameError",
     "evalue": "name 'input_' is not defined",
     "output_type": "error",
     "traceback": [
      "\u001b[0;31m\u001b[0m",
      "\u001b[0;31mNameError\u001b[0mTraceback (most recent call last)",
      "\u001b[0;32m<ipython-input-8-22e123cdffcd>\u001b[0m in \u001b[0;36m<module>\u001b[0;34m\u001b[0m\n\u001b[0;32m----> 1\u001b[0;31m \u001b[0mb\u001b[0m \u001b[0;34m=\u001b[0m \u001b[0mfc_w_new\u001b[0m\u001b[0;34m(\u001b[0m\u001b[0minput_\u001b[0m\u001b[0;34m)\u001b[0m\u001b[0;34m\u001b[0m\u001b[0;34m\u001b[0m\u001b[0m\n\u001b[0m",
      "\u001b[0;31mNameError\u001b[0m: name 'input_' is not defined"
     ]
    }
   ],
   "source": [
    "b = fc_w_new(input_)"
   ]
  },
  {
   "cell_type": "code",
   "execution_count": null,
   "metadata": {},
   "outputs": [],
   "source": []
  }
 ],
 "metadata": {
  "kernelspec": {
   "display_name": "Python 3 (ipykernel)",
   "language": "python",
   "name": "python3"
  },
  "language_info": {
   "codemirror_mode": {
    "name": "ipython",
    "version": 3
   },
   "file_extension": ".py",
   "mimetype": "text/x-python",
   "name": "python",
   "nbconvert_exporter": "python",
   "pygments_lexer": "ipython3",
   "version": "3.8.10"
  }
 },
 "nbformat": 4,
 "nbformat_minor": 4
}
